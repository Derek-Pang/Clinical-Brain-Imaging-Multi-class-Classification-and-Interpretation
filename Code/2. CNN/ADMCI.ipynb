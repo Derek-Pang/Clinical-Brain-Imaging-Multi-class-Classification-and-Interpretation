{
 "cells": [
  {
   "cell_type": "code",
   "execution_count": 1,
   "metadata": {},
   "outputs": [],
   "source": [
    "%load_ext autoreload\n",
    "%autoreload 2\n"
   ]
  },
  {
   "cell_type": "code",
   "execution_count": 2,
   "metadata": {},
   "outputs": [
    {
     "name": "stderr",
     "output_type": "stream",
     "text": [
      "Using TensorFlow backend.\n"
     ]
    }
   ],
   "source": [
    "import numpy as np\n",
    "import pandas as pd\n",
    "import nibabel as nib\n",
    "# import nilearn\n",
    "\n",
    "from scipy.ndimage.interpolation import zoom\n",
    "from sklearn.utils import shuffle\n",
    "from sklearn.model_selection import GroupShuffleSplit\n",
    "from sklearn.metrics import confusion_matrix\n",
    "from sklearn.model_selection import KFold\n",
    "\n",
    "import matplotlib.pyplot as plt\n",
    "import os\n",
    "import time\n",
    "import h5py\n",
    "\n",
    "# keras\n",
    "from keras.models import Sequential\n",
    "from keras.layers import Input, Conv2D, Flatten, Dense, MaxPooling2D, Dropout\n",
    "from keras.regularizers import l2\n",
    "from keras.optimizers import Adam\n",
    "from keras.models import load_model\n",
    "from keras.callbacks import EarlyStopping, ModelCheckpoint\n",
    "from keras.utils import Sequence\n"
   ]
  },
  {
   "cell_type": "code",
   "execution_count": 3,
   "metadata": {},
   "outputs": [],
   "source": [
    "import sys\n",
    "import tensorflow as tf\n",
    "import SimpleITK as sitk\n",
    "import dltk\n",
    "import math\n",
    "from myshow import myshow\n",
    "from tensorflow.python.framework import ops\n",
    "import pylab as py\n",
    "import matplotlib.pyplot as plt"
   ]
  },
  {
   "cell_type": "code",
   "execution_count": 4,
   "metadata": {},
   "outputs": [],
   "source": [
    "gpu = 0,1\n",
    "\n",
    "shape = (256, 256, 256)\n",
    "\n",
    "##### training parameters #####\n",
    "# number of folds\n",
    "# k_folds = 7\n",
    "# batch size\n",
    "# i.e. number of samples per training step\n",
    "# validation always uses b = 1\n",
    "b = 50 \n",
    "# number of epochs\n",
    "# i.e. times to loop over the entire set"
   ]
  },
  {
   "cell_type": "code",
   "execution_count": 5,
   "metadata": {},
   "outputs": [],
   "source": [
    "from sklearn.metrics import recall_score\n",
    "\n",
    "# metrics\n",
    "def specificity(y_true, y_pred):\n",
    "    return recall_score(y_true, y_pred, pos_label=0,average='weighted')\n",
    "\n",
    "\n",
    "def sensitivity(y_true, y_pred):\n",
    "    return recall_score(y_true, y_pred, pos_label=1,average='weighted')\n",
    "\n",
    "\n",
    "def balanced_accuracy(y_true, y_pred):\n",
    "    spec = specificity(y_true, y_pred)\n",
    "    sens = sensitivity(y_true, y_pred)\n",
    "    return (spec + sens) / 2"
   ]
  },
  {
   "cell_type": "code",
   "execution_count": 6,
   "metadata": {},
   "outputs": [],
   "source": [
    "# Start timing\n",
    "start_time = time.time()"
   ]
  },
  {
   "cell_type": "code",
   "execution_count": 7,
   "metadata": {},
   "outputs": [],
   "source": [
    "# # Tensorflow settings\n",
    "# import tensorflow as tf\n",
    "# from keras.backend.tensorflow_backend import set_session, get_session\n",
    "\n",
    "# config = tf.ConfigProto(device_count={'gpu':\"0\"})\n",
    "# config.gpu_options.allow_growth = True\n",
    "# # config.gpu_options.visible_device_list = \"6\" #?????? 6\n",
    "# sess = tf.Session(config=config)\n",
    "# set_session(sess)"
   ]
  },
  {
   "cell_type": "code",
   "execution_count": 8,
   "metadata": {},
   "outputs": [],
   "source": [
    "import tensorflow as tf\n",
    "def decode2(serialized_example):\n",
    "    # Decode examples stored in TFRecord\n",
    "    # NOTE: make sure to specify the correct dimensions for the images\n",
    "    features = tf.parse_single_example(\n",
    "        serialized_example,\n",
    "        features={'image': tf.FixedLenFeature([256, 256, 1], tf.float32),\n",
    "                  'label': tf.FixedLenFeature([], tf.int64),\n",
    "                  'name': tf.FixedLenFeature([],tf.string)})\n",
    "    \n",
    "    images = features['image'] \n",
    "    labels = features['label']\n",
    "    names = features['name']\n",
    "    # NOTE: No need to cast these features, as they are already `tf.float32` values.\n",
    "    return images, labels,names"
   ]
  },
  {
   "cell_type": "code",
   "execution_count": 9,
   "metadata": {},
   "outputs": [],
   "source": [
    "labels = pd.read_csv(\"nii_with_binary_label.csv\")\n",
    "CN_files = labels[labels['CN']==1].iloc[:,1] #Category label 1\n",
    "EMCI_files = labels[labels['EMCI']==1].iloc[:,1] #Category label 2\n",
    "MCI_files = labels[labels['MCI']==1].iloc[:,1] #Category label 3\n",
    "LMCI_files = labels[labels['LMCI']==1].iloc[:,1] #Category label 4\n",
    "AD_files = labels[labels['AD']==1].iloc[:,1] #Category label 5\n",
    "SMC_files = labels[labels['SMC']==1].iloc[:,1] #Category label 6"
   ]
  },
  {
   "cell_type": "code",
   "execution_count": null,
   "metadata": {},
   "outputs": [],
   "source": []
  },
  {
   "cell_type": "code",
   "execution_count": null,
   "metadata": {},
   "outputs": [],
   "source": []
  },
  {
   "cell_type": "code",
   "execution_count": 10,
   "metadata": {},
   "outputs": [
    {
     "name": "stdout",
     "output_type": "stream",
     "text": [
      "WARNING:tensorflow:From /usr/local/lib/python3.5/dist-packages/tensorflow/python/data/ops/dataset_ops.py:1419: colocate_with (from tensorflow.python.framework.ops) is deprecated and will be removed in a future version.\n",
      "Instructions for updating:\n",
      "Colocations handled automatically by placer.\n"
     ]
    }
   ],
   "source": [
    "all_AD_x = tf.data.TFRecordDataset(\"x_AD.tfrecords\").shuffle(10000,seed=1)\n",
    "all_CN_x = tf.data.TFRecordDataset(\"x_CN.tfrecords\").shuffle(10000,seed=1)\n",
    "all_MCI_x = tf.data.TFRecordDataset(\"x_MCI.tfrecords\").shuffle(10000,seed=1)\n",
    "all_EMCI_x = tf.data.TFRecordDataset(\"x_EMCI.tfrecords\").shuffle(10000,seed=1)\n",
    "all_LMCI_x = tf.data.TFRecordDataset(\"x_LMCI.tfrecords\").shuffle(10000,seed=1)\n",
    "all_SMC_x = tf.data.TFRecordDataset(\"x_SMC.tfrecords\").shuffle(10000,seed=1)\n",
    "\n",
    "test_AD_x = all_AD_x.take(int(len(AD_files)*0.2)) \n",
    "train_AD_x = all_AD_x.skip(int(len(AD_files)*0.2))\n",
    "train_AD_re_x = train_AD_x.repeat(3)\n",
    "\n",
    "test_CN_x = all_CN_x.take(int(len(CN_files)*0.2)) \n",
    "train_CN_x = all_CN_x.skip(int(len(CN_files)*0.2))\n",
    "\n",
    "test_MCI_x = all_MCI_x.take(int(len(MCI_files)*0.2)) \n",
    "train_MCI_x = all_MCI_x.skip(int(len(MCI_files)*0.2))\n",
    "\n",
    "test_EMCI_x = all_EMCI_x.take(int(len(EMCI_files)*0.2)) \n",
    "train_EMCI_x = all_EMCI_x.skip(int(len(EMCI_files)*0.2))\n",
    "train_EMCI_re_x = train_EMCI_x.repeat(2)\n",
    "\n",
    "test_LMCI_x = all_LMCI_x.take(int(len(LMCI_files)*0.2)) \n",
    "train_LMCI_x = all_LMCI_x.skip(int(len(LMCI_files)*0.2))\n",
    "train_LMCI_re_x = train_LMCI_x.repeat(3)\n",
    "\n",
    "test_SMC_x = all_SMC_x.take(int(len(SMC_files)*0.2)) \n",
    "train_SMC_x = all_SMC_x.skip(int(len(SMC_files)*0.2))\n",
    "train_SMC_re_x = train_SMC_x.repeat(9)\n",
    "\n",
    "\n",
    "\n",
    "train_2cls_tra_x = train_MCI_x.concatenate(train_AD_re_x)\n",
    "test_2cls_x = test_MCI_x.concatenate(test_AD_x)\n",
    "\n",
    "train_2cls_tra_x = train_2cls_tra_x.map(decode2).batch(batch_size=50000)\n",
    "test_2cls_x = test_2cls_x.map(decode2).batch(batch_size = 10000)\n",
    "\n",
    "iterator_train_x = train_2cls_tra_x.make_initializable_iterator()\n",
    "features_x,labels_x,names_x = iterator_train_x.get_next()\n",
    "\n",
    "iterator_test_x = test_2cls_x.make_initializable_iterator()\n",
    "features_te_x,labels_te_x,names_te_x = iterator_test_x.get_next()\n",
    "\n",
    "# train_6cls = train_AD_re.concatenate(train_CN).concatenate(train_MCI).concatenate(train_LMCI_re).concatenate(train_EMCI_re).concatenate(train_SMC_re)\n",
    "# test_6cls = test_AD.concatenate(test_CN).concatenate(test_MCI).concatenate(test_LMCI).concatenate(test_EMCI).concatenate(test_SMC)\n",
    "# train_6cls = train_6cls.map(decode2).shuffle(5000000).batch(batch_size=100000).repeat()\n",
    "# test_6cls = test_6cls.map(decode2).batch(batch_size = 21000)\n",
    "# iterator_train_6 = train_6cls.make_initializable_iterator()\n",
    "# iterator_test_6 = test_6cls.make_initializable_iterator()\n",
    "# features6,labels6,names6 = iterator_train_6.get_next()\n",
    "# ftest6,ltest6,ntest6=iterator_test_6.get_next()\n",
    "\n"
   ]
  },
  {
   "cell_type": "code",
   "execution_count": 11,
   "metadata": {},
   "outputs": [],
   "source": [
    "all_AD_y = tf.data.TFRecordDataset(\"y_AD.tfrecords\").shuffle(10000,seed=1)\n",
    "all_CN_y = tf.data.TFRecordDataset(\"y_CN.tfrecords\").shuffle(10000,seed=1)\n",
    "all_MCI_y = tf.data.TFRecordDataset(\"y_MCI.tfrecords\").shuffle(10000,seed=1)\n",
    "all_EMCI_y = tf.data.TFRecordDataset(\"y_EMCI.tfrecords\").shuffle(10000,seed=1)\n",
    "all_LMCI_y = tf.data.TFRecordDataset(\"y_LMCI.tfrecords\").shuffle(10000,seed=1)\n",
    "all_SMC_y = tf.data.TFRecordDataset(\"y_SMC.tfrecords\").shuffle(10000,seed=1)\n",
    "\n",
    "test_AD_y = all_AD_y.take(int(len(AD_files)*0.2)) \n",
    "train_AD_y = all_AD_y.skip(int(len(AD_files)*0.2))\n",
    "train_AD_re_y = train_AD_y.repeat(3)\n",
    "\n",
    "test_CN_y = all_CN_y.take(int(len(CN_files)*0.2)) \n",
    "train_CN_y = all_CN_y.skip(int(len(CN_files)*0.2))\n",
    "\n",
    "test_MCI_y = all_MCI_y.take(int(len(MCI_files)*0.2)) \n",
    "train_MCI_y = all_MCI_y.skip(int(len(MCI_files)*0.2))\n",
    "\n",
    "test_EMCI_y = all_EMCI_y.take(int(len(EMCI_files)*0.2)) \n",
    "train_EMCI_y = all_EMCI_y.skip(int(len(EMCI_files)*0.2))\n",
    "train_EMCI_re_y = train_EMCI_y.repeat(2)\n",
    "\n",
    "test_LMCI_y = all_LMCI_y.take(int(len(LMCI_files)*0.2)) \n",
    "train_LMCI_y = all_LMCI_y.skip(int(len(LMCI_files)*0.2))\n",
    "train_LMCI_re_y = train_LMCI_y.repeat(3)\n",
    "\n",
    "test_SMC_y = all_SMC_y.take(int(len(SMC_files)*0.2)) \n",
    "train_SMC_y = all_SMC_y.skip(int(len(SMC_files)*0.2))\n",
    "train_SMC_re_y = train_SMC_y.repeat(9)\n",
    "\n",
    "train_2cls_tra_y= train_MCI_y.concatenate(train_AD_re_y)\n",
    "test_2cls_y = test_MCI_y.concatenate(test_AD_y)\n",
    "\n",
    "train_2cls_tra_y = train_2cls_tra_y.map(decode2).batch(batch_size=50000)\n",
    "test_2cls_y = test_2cls_y.map(decode2).batch(batch_size = 10000)\n",
    "\n",
    "iterator_train_y = train_2cls_tra_y.make_initializable_iterator()\n",
    "features_y,labels_y,names_y = iterator_train_y.get_next()\n",
    "\n",
    "iterator_test_y = test_2cls_y.make_initializable_iterator()\n",
    "features_te_y,labels_te_y,names_te_y = iterator_test_y.get_next()"
   ]
  },
  {
   "cell_type": "code",
   "execution_count": 12,
   "metadata": {},
   "outputs": [],
   "source": [
    "all_AD_z = tf.data.TFRecordDataset(\"z_AD.tfrecords\").shuffle(10000,seed=1)\n",
    "all_CN_z = tf.data.TFRecordDataset(\"z_CN.tfrecords\").shuffle(10000,seed=1)\n",
    "all_MCI_z = tf.data.TFRecordDataset(\"z_MCI.tfrecords\").shuffle(10000,seed=1)\n",
    "all_EMCI_z = tf.data.TFRecordDataset(\"z_EMCI.tfrecords\").shuffle(10000,seed=1)\n",
    "all_LMCI_z = tf.data.TFRecordDataset(\"z_LMCI.tfrecords\").shuffle(10000,seed=1)\n",
    "all_SMC_z = tf.data.TFRecordDataset(\"z_SMC.tfrecords\").shuffle(10000,seed=1)\n",
    "\n",
    "test_AD_z = all_AD_z.take(int(len(AD_files)*0.2)) \n",
    "train_AD_z = all_AD_z.skip(int(len(AD_files)*0.2))\n",
    "train_AD_re_z = train_AD_z.repeat(3)\n",
    "\n",
    "test_CN_z = all_CN_z.take(int(len(CN_files)*0.2)) \n",
    "train_CN_z = all_CN_z.skip(int(len(CN_files)*0.2))\n",
    "\n",
    "test_MCI_z = all_MCI_z.take(int(len(MCI_files)*0.2)) \n",
    "train_MCI_z = all_MCI_z.skip(int(len(MCI_files)*0.2))\n",
    "\n",
    "test_EMCI_z = all_EMCI_z.take(int(len(EMCI_files)*0.2)) \n",
    "train_EMCI_z = all_EMCI_z.skip(int(len(EMCI_files)*0.2))\n",
    "train_EMCI_re_z = train_EMCI_z.repeat(2)\n",
    "\n",
    "test_LMCI_z = all_LMCI_z.take(int(len(LMCI_files)*0.2)) \n",
    "train_LMCI_z = all_LMCI_z.skip(int(len(LMCI_files)*0.2))\n",
    "train_LMCI_re_z = train_LMCI_z.repeat(3)\n",
    "\n",
    "test_SMC_z = all_SMC_z.take(int(len(SMC_files)*0.2)) \n",
    "train_SMC_z = all_SMC_z.skip(int(len(SMC_files)*0.2))\n",
    "train_SMC_re_z = train_SMC_z.repeat(9)\n",
    "\n",
    "train_2cls_tra_z= train_MCI_z.concatenate(train_AD_re_z)\n",
    "test_2cls_z = test_MCI_z.concatenate(test_AD_z)\n",
    "\n",
    "train_2cls_tra_z = train_2cls_tra_z.map(decode2).batch(batch_size=50000)\n",
    "test_2cls_z = test_2cls_z.map(decode2).batch(batch_size = 10000)\n",
    "\n",
    "iterator_train_z = train_2cls_tra_z.make_initializable_iterator()\n",
    "features_z,labels_z,names_z = iterator_train_z.get_next()\n",
    "\n",
    "iterator_test_z = test_2cls_z.make_initializable_iterator()\n",
    "features_te_z,labels_te_z,names_te_z = iterator_test_z.get_next()"
   ]
  },
  {
   "cell_type": "code",
   "execution_count": 13,
   "metadata": {},
   "outputs": [],
   "source": [
    "with tf.Session() as sess:\n",
    "    sess.run(iterator_train_x.initializer)\n",
    "    sess.run(iterator_test_x.initializer)\n",
    "    X_train_x,y_train_x = sess.run([features_x, labels_x])\n",
    "    X_test_x,y_test_x,names_x=sess.run([features_te_x,labels_te_x,names_te_x])"
   ]
  },
  {
   "cell_type": "code",
   "execution_count": 14,
   "metadata": {},
   "outputs": [],
   "source": [
    "with tf.Session() as sess:\n",
    "    sess.run(iterator_train_y.initializer)\n",
    "    sess.run(iterator_test_y.initializer)\n",
    "    X_train_y,y_train_y = sess.run([features_y, labels_y])\n",
    "    X_test_y,y_test_y,names_y=sess.run([features_te_y,labels_te_y,names_te_y])"
   ]
  },
  {
   "cell_type": "code",
   "execution_count": 15,
   "metadata": {},
   "outputs": [],
   "source": [
    "with tf.Session() as sess:\n",
    "    sess.run(iterator_train_z.initializer)\n",
    "    sess.run(iterator_test_z.initializer)\n",
    "    X_train_z,y_train_z = sess.run([features_z, labels_z])\n",
    "    X_test_z,y_test_z,names_z=sess.run([features_te_z,labels_te_z,names_te_z])"
   ]
  },
  {
   "cell_type": "code",
   "execution_count": 16,
   "metadata": {},
   "outputs": [],
   "source": [
    "def SixtyFourNet(input_shape, drop_rate=0., weight_dcay=0.):\n",
    "    model = Sequential()\n",
    "    model.add(Conv2D(64, kernel_size=3, \n",
    "                     input_shape=(int(input_shape[1]), int(input_shape[2]), int(input_shape[3])), \n",
    "                     activation='elu', padding='valid', name='Conv_1'))\n",
    "    model.add(MaxPooling2D(pool_size=3, name='Pool_1'))\n",
    "    model.add(Dropout(drop_rate))\n",
    "    model.add(Conv2D(16, kernel_size=3, padding='valid', activation='elu', name='Conv_2'))\n",
    "\n",
    "    model.add(MaxPooling2D(pool_size=3, name='Pool_2'))\n",
    "    model.add(Dropout(drop_rate))\n",
    "\n",
    "    model.add(Conv2D(32, kernel_size=3, padding='valid', activation='elu', name='Conv_3',\n",
    "                     kernel_regularizer=l2(weight_dcay)))\n",
    "    model.add(Conv2D(16, kernel_size=3, padding='valid', activation='elu', name='Conv_4',\n",
    "                     kernel_regularizer=l2(weight_dcay)))\n",
    "    model.add(MaxPooling2D(pool_size=3, name='Pool_4'))\n",
    "    model.add(Dropout(drop_rate))\n",
    "\n",
    "    model.add(Flatten())\n",
    "    model.add(Dense(units=2, activation='sigmoid'))\n",
    "    return model"
   ]
  },
  {
   "cell_type": "markdown",
   "metadata": {},
   "source": [
    "# x_axis"
   ]
  },
  {
   "cell_type": "code",
   "execution_count": 17,
   "metadata": {},
   "outputs": [],
   "source": [
    "from keras.utils import np_utils\n",
    "from sklearn.model_selection import train_test_split, KFold, cross_val_score\n",
    "from sklearn.preprocessing import LabelEncoder\n",
    "encoder = LabelEncoder()\n",
    "encoded_Y_x = encoder.fit_transform(y_train_x)\n",
    "encoded_Y_test_x = encoder.fit_transform(y_test_x)\n",
    "# convert integers to dummy variables (one hot encoding)\n",
    "y_train_x = np_utils.to_categorical(encoded_Y_x)\n",
    "y_test_x = np_utils.to_categorical(encoded_Y_test_x)"
   ]
  },
  {
   "cell_type": "code",
   "execution_count": 18,
   "metadata": {},
   "outputs": [
    {
     "data": {
      "text/plain": [
       "(5143, 2)"
      ]
     },
     "execution_count": 18,
     "metadata": {},
     "output_type": "execute_result"
    }
   ],
   "source": [
    "X_train_x.shape\n",
    "y_train_x.shape"
   ]
  },
  {
   "cell_type": "code",
   "execution_count": 19,
   "metadata": {},
   "outputs": [
    {
     "data": {
      "text/plain": [
       "(788, 2)"
      ]
     },
     "execution_count": 19,
     "metadata": {},
     "output_type": "execute_result"
    }
   ],
   "source": [
    "X_test_x.shape\n",
    "y_test_x.shape"
   ]
  },
  {
   "cell_type": "code",
   "execution_count": 20,
   "metadata": {},
   "outputs": [
    {
     "name": "stdout",
     "output_type": "stream",
     "text": [
      "WARNING:tensorflow:From /usr/local/lib/python3.5/dist-packages/keras/backend/tensorflow_backend.py:3445: calling dropout (from tensorflow.python.ops.nn_ops) with keep_prob is deprecated and will be removed in a future version.\n",
      "Instructions for updating:\n",
      "Please use `rate` instead of `keep_prob`. Rate should be set to `rate = 1 - keep_prob`.\n",
      "WARNING:tensorflow:From /usr/local/lib/python3.5/dist-packages/tensorflow/python/ops/math_ops.py:3066: to_int32 (from tensorflow.python.ops.math_ops) is deprecated and will be removed in a future version.\n",
      "Instructions for updating:\n",
      "Use tf.cast instead.\n",
      "Train on 5143 samples, validate on 788 samples\n",
      "Epoch 1/150\n",
      "5143/5143 [==============================] - 13s 3ms/step - loss: 1.4712 - acc: 0.5282 - val_loss: 1.1285 - val_acc: 0.3312\n",
      "Epoch 2/150\n",
      "5143/5143 [==============================] - 8s 2ms/step - loss: 1.0548 - acc: 0.5450 - val_loss: 1.0983 - val_acc: 0.3147\n",
      "Epoch 3/150\n",
      "5143/5143 [==============================] - 8s 2ms/step - loss: 0.9782 - acc: 0.5652 - val_loss: 1.0156 - val_acc: 0.3293\n",
      "Epoch 4/150\n",
      "5143/5143 [==============================] - 8s 2ms/step - loss: 0.9147 - acc: 0.5854 - val_loss: 0.9451 - val_acc: 0.3471\n",
      "Epoch 5/150\n",
      "5143/5143 [==============================] - 8s 2ms/step - loss: 0.8509 - acc: 0.6111 - val_loss: 0.8638 - val_acc: 0.5431\n",
      "Epoch 6/150\n",
      "5143/5143 [==============================] - 8s 2ms/step - loss: 0.7988 - acc: 0.6274 - val_loss: 0.8581 - val_acc: 0.5019\n",
      "Epoch 7/150\n",
      "5143/5143 [==============================] - 8s 2ms/step - loss: 0.7662 - acc: 0.6321 - val_loss: 0.8600 - val_acc: 0.4943\n",
      "Epoch 8/150\n",
      "5143/5143 [==============================] - 8s 2ms/step - loss: 0.7319 - acc: 0.6524 - val_loss: 0.7580 - val_acc: 0.6313\n",
      "Epoch 9/150\n",
      "5143/5143 [==============================] - 8s 2ms/step - loss: 0.7047 - acc: 0.6592 - val_loss: 0.7357 - val_acc: 0.6339\n",
      "Epoch 10/150\n",
      "5143/5143 [==============================] - 8s 2ms/step - loss: 0.6852 - acc: 0.6638 - val_loss: 0.7151 - val_acc: 0.6491\n",
      "Epoch 11/150\n",
      "5143/5143 [==============================] - 8s 2ms/step - loss: 0.6736 - acc: 0.6638 - val_loss: 0.7332 - val_acc: 0.6047\n",
      "Epoch 12/150\n",
      "5143/5143 [==============================] - 8s 2ms/step - loss: 0.6491 - acc: 0.6840 - val_loss: 0.6434 - val_acc: 0.7176\n",
      "Epoch 13/150\n",
      "5143/5143 [==============================] - 8s 2ms/step - loss: 0.6381 - acc: 0.6828 - val_loss: 0.6179 - val_acc: 0.7157\n",
      "Epoch 14/150\n",
      "5143/5143 [==============================] - 8s 2ms/step - loss: 0.6291 - acc: 0.6901 - val_loss: 0.6077 - val_acc: 0.7329\n",
      "Epoch 15/150\n",
      "5143/5143 [==============================] - 8s 2ms/step - loss: 0.6098 - acc: 0.7098 - val_loss: 0.6763 - val_acc: 0.6478\n",
      "Epoch 16/150\n",
      "5143/5143 [==============================] - 8s 2ms/step - loss: 0.6146 - acc: 0.7018 - val_loss: 0.5695 - val_acc: 0.7513\n",
      "Epoch 17/150\n",
      "5143/5143 [==============================] - 8s 2ms/step - loss: 0.5990 - acc: 0.7051 - val_loss: 0.6629 - val_acc: 0.6472\n",
      "Epoch 18/150\n",
      "5143/5143 [==============================] - 8s 2ms/step - loss: 0.5905 - acc: 0.7165 - val_loss: 0.6467 - val_acc: 0.6675\n",
      "Epoch 19/150\n",
      "5143/5143 [==============================] - 8s 2ms/step - loss: 0.5894 - acc: 0.7211 - val_loss: 0.5528 - val_acc: 0.7614\n",
      "Epoch 20/150\n",
      "5143/5143 [==============================] - 8s 2ms/step - loss: 0.5769 - acc: 0.7266 - val_loss: 0.6122 - val_acc: 0.7100\n",
      "Epoch 21/150\n",
      "5143/5143 [==============================] - 8s 2ms/step - loss: 0.5762 - acc: 0.7306 - val_loss: 0.6322 - val_acc: 0.6885\n",
      "Epoch 22/150\n",
      "5143/5143 [==============================] - 8s 2ms/step - loss: 0.5672 - acc: 0.7380 - val_loss: 0.5368 - val_acc: 0.7817\n",
      "Epoch 23/150\n",
      "5143/5143 [==============================] - 8s 2ms/step - loss: 0.5561 - acc: 0.7441 - val_loss: 0.5248 - val_acc: 0.7697\n",
      "Epoch 24/150\n",
      "5143/5143 [==============================] - 8s 2ms/step - loss: 0.5526 - acc: 0.7515 - val_loss: 0.5698 - val_acc: 0.7348\n",
      "Epoch 25/150\n",
      "5143/5143 [==============================] - 8s 2ms/step - loss: 0.5491 - acc: 0.7506 - val_loss: 0.5350 - val_acc: 0.7684\n",
      "Epoch 26/150\n",
      "5143/5143 [==============================] - 8s 2ms/step - loss: 0.5503 - acc: 0.7465 - val_loss: 0.5592 - val_acc: 0.7652\n",
      "Epoch 27/150\n",
      "5143/5143 [==============================] - 8s 2ms/step - loss: 0.5352 - acc: 0.7662 - val_loss: 0.4965 - val_acc: 0.8198\n",
      "Epoch 28/150\n",
      "5143/5143 [==============================] - 8s 2ms/step - loss: 0.5186 - acc: 0.7710 - val_loss: 0.4816 - val_acc: 0.8084\n",
      "Epoch 29/150\n",
      "5143/5143 [==============================] - 8s 2ms/step - loss: 0.5229 - acc: 0.7771 - val_loss: 0.5285 - val_acc: 0.7728\n",
      "Epoch 30/150\n",
      "5143/5143 [==============================] - 8s 2ms/step - loss: 0.5234 - acc: 0.7777 - val_loss: 0.5046 - val_acc: 0.7843\n",
      "Epoch 31/150\n",
      "5143/5143 [==============================] - 8s 2ms/step - loss: 0.5013 - acc: 0.7913 - val_loss: 0.4747 - val_acc: 0.8242\n",
      "Epoch 32/150\n",
      "5143/5143 [==============================] - 8s 2ms/step - loss: 0.5113 - acc: 0.7913 - val_loss: 0.4477 - val_acc: 0.8407\n",
      "Epoch 33/150\n",
      "5143/5143 [==============================] - 8s 2ms/step - loss: 0.4954 - acc: 0.8057 - val_loss: 0.5322 - val_acc: 0.7792\n",
      "Epoch 34/150\n",
      "5143/5143 [==============================] - 8s 2ms/step - loss: 0.5025 - acc: 0.7964 - val_loss: 0.4324 - val_acc: 0.8376\n",
      "Epoch 35/150\n",
      "5143/5143 [==============================] - 8s 2ms/step - loss: 0.5017 - acc: 0.7980 - val_loss: 0.4194 - val_acc: 0.8484\n",
      "Epoch 36/150\n",
      "5143/5143 [==============================] - 8s 2ms/step - loss: 0.4838 - acc: 0.8128 - val_loss: 0.4251 - val_acc: 0.8369\n",
      "Epoch 37/150\n",
      "5143/5143 [==============================] - 8s 2ms/step - loss: 0.4685 - acc: 0.8221 - val_loss: 0.4481 - val_acc: 0.8382\n",
      "Epoch 38/150\n",
      "5143/5143 [==============================] - 8s 2ms/step - loss: 0.4752 - acc: 0.8147 - val_loss: 0.4185 - val_acc: 0.8617\n",
      "Epoch 39/150\n",
      "5143/5143 [==============================] - 8s 2ms/step - loss: 0.4772 - acc: 0.8129 - val_loss: 0.3682 - val_acc: 0.8801\n",
      "Epoch 40/150\n",
      "5143/5143 [==============================] - 8s 2ms/step - loss: 0.4479 - acc: 0.8329 - val_loss: 0.5202 - val_acc: 0.7906\n",
      "Epoch 41/150\n",
      "5143/5143 [==============================] - 8s 2ms/step - loss: 0.4584 - acc: 0.8279 - val_loss: 0.3644 - val_acc: 0.8953\n",
      "Epoch 42/150\n",
      "5143/5143 [==============================] - 8s 2ms/step - loss: 0.4393 - acc: 0.8399 - val_loss: 0.4038 - val_acc: 0.8731\n",
      "Epoch 43/150\n",
      "5143/5143 [==============================] - 8s 2ms/step - loss: 0.4373 - acc: 0.8421 - val_loss: 0.3834 - val_acc: 0.8807\n",
      "Epoch 44/150\n",
      "5143/5143 [==============================] - 8s 2ms/step - loss: 0.4451 - acc: 0.8410 - val_loss: 0.4859 - val_acc: 0.8312\n",
      "Epoch 45/150\n",
      "5143/5143 [==============================] - 8s 2ms/step - loss: 0.4409 - acc: 0.8438 - val_loss: 0.4433 - val_acc: 0.8490\n",
      "Epoch 46/150\n",
      "5143/5143 [==============================] - 8s 2ms/step - loss: 0.4273 - acc: 0.8483 - val_loss: 0.3561 - val_acc: 0.8947\n",
      "Epoch 47/150\n",
      "5143/5143 [==============================] - 8s 2ms/step - loss: 0.4222 - acc: 0.8493 - val_loss: 0.5831 - val_acc: 0.7627\n",
      "Epoch 48/150\n",
      "5143/5143 [==============================] - 8s 2ms/step - loss: 0.4257 - acc: 0.8584 - val_loss: 0.4138 - val_acc: 0.8775\n",
      "Epoch 49/150\n",
      "5143/5143 [==============================] - 8s 2ms/step - loss: 0.4254 - acc: 0.8527 - val_loss: 0.4812 - val_acc: 0.8306\n",
      "Epoch 50/150\n",
      "5143/5143 [==============================] - 8s 2ms/step - loss: 0.4274 - acc: 0.8543 - val_loss: 0.4655 - val_acc: 0.8350\n",
      "Epoch 51/150\n",
      "5143/5143 [==============================] - 8s 2ms/step - loss: 0.4171 - acc: 0.8526 - val_loss: 0.2960 - val_acc: 0.9251\n",
      "Epoch 52/150\n",
      "5143/5143 [==============================] - 8s 2ms/step - loss: 0.4060 - acc: 0.8654 - val_loss: 0.3080 - val_acc: 0.9302\n",
      "Epoch 53/150\n",
      "5143/5143 [==============================] - 8s 2ms/step - loss: 0.4167 - acc: 0.8565 - val_loss: 0.3455 - val_acc: 0.9023\n",
      "Epoch 54/150\n",
      "5143/5143 [==============================] - 8s 2ms/step - loss: 0.3970 - acc: 0.8659 - val_loss: 0.3370 - val_acc: 0.9010\n",
      "Epoch 55/150\n",
      "5143/5143 [==============================] - 8s 2ms/step - loss: 0.4093 - acc: 0.8574 - val_loss: 0.2918 - val_acc: 0.9365\n",
      "Epoch 56/150\n",
      "5143/5143 [==============================] - 8s 2ms/step - loss: 0.3947 - acc: 0.8718 - val_loss: 0.3852 - val_acc: 0.8896\n",
      "Epoch 57/150\n",
      "5143/5143 [==============================] - 8s 2ms/step - loss: 0.3915 - acc: 0.8732 - val_loss: 0.3675 - val_acc: 0.8953\n",
      "Epoch 58/150\n",
      "5143/5143 [==============================] - 8s 2ms/step - loss: 0.3798 - acc: 0.8759 - val_loss: 0.2816 - val_acc: 0.9416\n",
      "Epoch 59/150\n",
      "5143/5143 [==============================] - 8s 2ms/step - loss: 0.3910 - acc: 0.8744 - val_loss: 0.3419 - val_acc: 0.9086\n",
      "Epoch 60/150\n",
      "5143/5143 [==============================] - 8s 2ms/step - loss: 0.3812 - acc: 0.8818 - val_loss: 0.3317 - val_acc: 0.9112\n",
      "Epoch 61/150\n",
      "5143/5143 [==============================] - 8s 2ms/step - loss: 0.3942 - acc: 0.8712 - val_loss: 0.2768 - val_acc: 0.9423\n",
      "Epoch 62/150\n",
      "5143/5143 [==============================] - 8s 2ms/step - loss: 0.3604 - acc: 0.8874 - val_loss: 0.2749 - val_acc: 0.9480\n",
      "Epoch 63/150\n",
      "5143/5143 [==============================] - 8s 2ms/step - loss: 0.3784 - acc: 0.8792 - val_loss: 0.4185 - val_acc: 0.8566\n",
      "Epoch 64/150\n",
      "5143/5143 [==============================] - 8s 2ms/step - loss: 0.3729 - acc: 0.8795 - val_loss: 0.2708 - val_acc: 0.9473\n",
      "Epoch 65/150\n",
      "5143/5143 [==============================] - 8s 2ms/step - loss: 0.3641 - acc: 0.8898 - val_loss: 0.3299 - val_acc: 0.9067\n",
      "Epoch 66/150\n",
      "5143/5143 [==============================] - 8s 2ms/step - loss: 0.3680 - acc: 0.8859 - val_loss: 0.3087 - val_acc: 0.9194\n",
      "Epoch 67/150\n",
      "5143/5143 [==============================] - 8s 2ms/step - loss: 0.3628 - acc: 0.8861 - val_loss: 0.2954 - val_acc: 0.9270\n",
      "Epoch 68/150\n",
      "5143/5143 [==============================] - 8s 2ms/step - loss: 0.3637 - acc: 0.8895 - val_loss: 0.3484 - val_acc: 0.8883\n",
      "Epoch 69/150\n",
      "5143/5143 [==============================] - 8s 2ms/step - loss: 0.3768 - acc: 0.8829 - val_loss: 0.2833 - val_acc: 0.9385\n",
      "Epoch 70/150\n",
      "5143/5143 [==============================] - 8s 2ms/step - loss: 0.3551 - acc: 0.8884 - val_loss: 0.3732 - val_acc: 0.8820\n",
      "Epoch 71/150\n",
      "5143/5143 [==============================] - 8s 2ms/step - loss: 0.3527 - acc: 0.8980 - val_loss: 0.2748 - val_acc: 0.9308\n",
      "Epoch 72/150\n",
      "5143/5143 [==============================] - 8s 2ms/step - loss: 0.3616 - acc: 0.8887 - val_loss: 0.3373 - val_acc: 0.9048\n",
      "Epoch 73/150\n",
      "5143/5143 [==============================] - 8s 2ms/step - loss: 0.3538 - acc: 0.8931 - val_loss: 0.2769 - val_acc: 0.9220\n",
      "Epoch 74/150\n",
      "5143/5143 [==============================] - 8s 2ms/step - loss: 0.3638 - acc: 0.8916 - val_loss: 0.3858 - val_acc: 0.8832\n"
     ]
    },
    {
     "data": {
      "image/png": "[encoded data removed]",
      "text/plain": [
       "<Figure size 792x288 with 2 Axes>"
      ]
     },
     "metadata": {
      "needs_background": "light"
     },
     "output_type": "display_data"
    }
   ],
   "source": [
    "%matplotlib inline\n",
    "from keras.utils import multi_gpu_model\n",
    "\n",
    "num_epochs = 150\n",
    "\n",
    "result_dir=''\n",
    "# training args\n",
    "lr = 0.001\n",
    "lr_decay = 0.\n",
    "\n",
    "num_trials = 1\n",
    "patience = 10\n",
    "store_models = True\n",
    "\n",
    "best_epoch_acc = []\n",
    "\n",
    "\n",
    "for i in range(num_trials):\n",
    "    # init model\n",
    "    model = SixtyFourNet(drop_rate=0.3, weight_dcay=0.01, input_shape=X_train_x.shape)\n",
    "    model=multi_gpu_model(model,2)\n",
    "\n",
    "    opti = Adam(lr=lr, decay=lr_decay)\n",
    "    model.compile(loss='binary_crossentropy', optimizer=opti, metrics=['accuracy'])\n",
    "    \n",
    "    #callbacks\n",
    "    earlystopping = EarlyStopping(monitor='val_loss', min_delta=0, patience=patience, verbose=0, mode='auto')\n",
    "    model_checkpoint = ModelCheckpoint(os.path.join(result_dir, \"model_admci_x_trial_%i.h5\" %i), monitor='val_acc', verbose=0, save_best_only=True, mode='max')\n",
    "\n",
    "    if store_models:\n",
    "        callbacks = [earlystopping, model_checkpoint]\n",
    "    else:\n",
    "        callbacks = [earlystopping]\n",
    "    \n",
    "    history = model.fit(\n",
    "        X_train_x,\n",
    "        y_train_x,\n",
    "        epochs=num_epochs,\n",
    "        batch_size=b,\n",
    "        validation_data=(X_test_x,y_test_x),\n",
    "        callbacks=callbacks,\n",
    "        shuffle=True\n",
    "    )\n",
    "    \n",
    "    training_time = time.time() - start_time\n",
    "    # Plot training curves\n",
    "    plt.figure(figsize=(11, 4))\n",
    "    plt.subplot(1, 2, 1)\n",
    "    plt.plot(history.history[\"loss\"])\n",
    "    plt.plot(history.history[\"val_loss\"])\n",
    "    plt.legend([\"Train\", \"Test\"])\n",
    "    plt.title(\"Loss\")\n",
    "    plt.subplot(1, 2, 2)\n",
    "    plt.plot(history.history[\"acc\"])\n",
    "    plt.plot(history.history[\"val_acc\"])\n",
    "    plt.legend([\"Train\", \"Test\"])\n",
    "    plt.title(\"Accuracy\")\n",
    "    plt.show()    \n",
    "    # Evaluation\n",
    "\n",
    "    y_pred_x = model.predict(X_test_x, batch_size=1)\n",
    "\n",
    "    \n",
    "    # Store results\n",
    "    best_epoch = np.argmax(history.history[\"val_acc\"])\n",
    "    best_epoch_acc.append(history.history[\"val_acc\"][best_epoch])"
   ]
  },
  {
   "cell_type": "code",
   "execution_count": 21,
   "metadata": {},
   "outputs": [
    {
     "name": "stdout",
     "output_type": "stream",
     "text": [
      "0.883248730964467 0.883248730964467\n"
     ]
    }
   ],
   "source": [
    "sens0 = sensitivity(y_test_x[:,0], (y_pred_x[:,0]>0.5)*1)\n",
    "sens1 = sensitivity(y_test_x[:,1], (y_pred_x[:,1]>0.5)*1)\n",
    "# sens2 = sensitivity(y_test[:,2], (y_pred[:,2]>0.5)*1)\n",
    "# sens3 = sensitivity(y_test[:,3], (y_pred[:,3]>0.5)*1)\n",
    "# sens4 = sensitivity(y_test[:,4], (y_pred[:,4]>0.5)*1)\n",
    "# sens5 = sensitivity(y_test[:,5], (y_pred[:,5]>0.5)*1)\n",
    "print(sens0,sens1)"
   ]
  },
  {
   "cell_type": "code",
   "execution_count": 22,
   "metadata": {},
   "outputs": [
    {
     "name": "stdout",
     "output_type": "stream",
     "text": [
      "0.883248730964467 0.883248730964467\n"
     ]
    },
    {
     "name": "stderr",
     "output_type": "stream",
     "text": [
      "/usr/local/lib/python3.5/dist-packages/sklearn/metrics/classification.py:1052: UserWarning: Note that pos_label (set to 0) is ignored when average != 'binary' (got 'weighted'). You may use labels=[pos_label] to specify a single positive class.\n",
      "  % (pos_label, average), UserWarning)\n"
     ]
    }
   ],
   "source": [
    "sens0 = specificity(y_test_x[:,0], (y_pred_x[:,0]>0.5)*1)\n",
    "sens1 = specificity(y_test_x[:,1], (y_pred_x[:,1]>0.5)*1)\n",
    "# sens2 = specificity(y_test[:,2], (y_pred[:,2]>0.5)*1)\n",
    "# sens3 = specificity(y_test[:,3], (y_pred[:,3]>0.5)*1)\n",
    "# sens4 = specificity(y_test[:,4], (y_pred[:,4]>0.5)*1)\n",
    "# sens5 = specificity(y_test[:,5], (y_pred[:,5]>0.5)*1)\n",
    "print(sens0,sens1)"
   ]
  },
  {
   "cell_type": "code",
   "execution_count": 23,
   "metadata": {},
   "outputs": [],
   "source": [
    "# model.summary()"
   ]
  },
  {
   "cell_type": "code",
   "execution_count": 24,
   "metadata": {},
   "outputs": [],
   "source": [
    "# # sens=model.evaluate(X_train, y_pred, verbose=0)\n",
    "# import keras\n",
    "# keras.metrics.categorical_accuracy(y_train, y_pred.reshape(3418,2))\n",
    "\n",
    "# # categorical_accuracy(y_true, y_pred)\n"
   ]
  },
  {
   "cell_type": "code",
   "execution_count": 25,
   "metadata": {},
   "outputs": [
    {
     "name": "stdout",
     "output_type": "stream",
     "text": [
      "0.883248730964467\n",
      "0.883248730964467\n"
     ]
    }
   ],
   "source": [
    "## acc \n",
    "for i in range(2):\n",
    "    print(np.mean(y_test_x[:,i]==((y_pred_x>=0.5)[:,i])*1))"
   ]
  },
  {
   "cell_type": "code",
   "execution_count": 26,
   "metadata": {},
   "outputs": [
    {
     "name": "stdout",
     "output_type": "stream",
     "text": [
      "0.8314814814814815\n",
      "0.9919354838709677\n"
     ]
    }
   ],
   "source": [
    "##tp\n",
    "for i in range(2):\n",
    "    print(np.sum((y_pred_x[:,i]>=0.5)*1+y_test_x[:,i]==2)/np.sum(y_test_x[:,i]==1))"
   ]
  },
  {
   "cell_type": "code",
   "execution_count": 27,
   "metadata": {},
   "outputs": [
    {
     "name": "stdout",
     "output_type": "stream",
     "text": [
      "0.9977777777777778\n",
      "0.7321428571428571\n"
     ]
    }
   ],
   "source": [
    "##precision\n",
    "\n",
    "for i in range(2):\n",
    "    print(np.sum((y_pred_x[:,i]>=0.5)*1+y_test_x[:,i]==2)/np.sum((y_pred_x[:,i]>=0.5)*1==1))"
   ]
  },
  {
   "cell_type": "markdown",
   "metadata": {},
   "source": [
    "# y_axis"
   ]
  },
  {
   "cell_type": "code",
   "execution_count": 28,
   "metadata": {},
   "outputs": [],
   "source": [
    "from keras.utils import np_utils\n",
    "from sklearn.model_selection import train_test_split, KFold, cross_val_score\n",
    "from sklearn.preprocessing import LabelEncoder\n",
    "encoder = LabelEncoder()\n",
    "encoded_Y_y = encoder.fit_transform(y_train_y)\n",
    "encoded_Y_test_y = encoder.fit_transform(y_test_y)\n",
    "# convert integers to dummy variables (one hot encoding)\n",
    "y_train_y = np_utils.to_categorical(encoded_Y_y)\n",
    "y_test_y = np_utils.to_categorical(encoded_Y_test_y)"
   ]
  },
  {
   "cell_type": "code",
   "execution_count": 45,
   "metadata": {},
   "outputs": [
    {
     "name": "stdout",
     "output_type": "stream",
     "text": [
      "Train on 5143 samples, validate on 788 samples\n",
      "Epoch 1/150\n",
      "5143/5143 [==============================] - 10s 2ms/step - loss: 1.4347 - acc: 0.5264 - val_loss: 1.2599 - val_acc: 0.3154\n",
      "Epoch 2/150\n",
      "5143/5143 [==============================] - 8s 2ms/step - loss: 1.0615 - acc: 0.5353 - val_loss: 1.0480 - val_acc: 0.3280\n",
      "Epoch 3/150\n",
      "5143/5143 [==============================] - 8s 2ms/step - loss: 0.9908 - acc: 0.5571 - val_loss: 1.0537 - val_acc: 0.3147\n",
      "Epoch 4/150\n",
      "5143/5143 [==============================] - 8s 2ms/step - loss: 0.9341 - acc: 0.5672 - val_loss: 1.0058 - val_acc: 0.3147\n",
      "Epoch 5/150\n",
      "5143/5143 [==============================] - 8s 2ms/step - loss: 0.8895 - acc: 0.5746 - val_loss: 0.9055 - val_acc: 0.3940\n",
      "Epoch 6/150\n",
      "5143/5143 [==============================] - 8s 2ms/step - loss: 0.8498 - acc: 0.5713 - val_loss: 0.9370 - val_acc: 0.3173\n",
      "Epoch 7/150\n",
      "5143/5143 [==============================] - 8s 2ms/step - loss: 0.8114 - acc: 0.5919 - val_loss: 0.9405 - val_acc: 0.3166\n",
      "Epoch 8/150\n",
      "5143/5143 [==============================] - 8s 2ms/step - loss: 0.7814 - acc: 0.5935 - val_loss: 0.8140 - val_acc: 0.4753\n",
      "Epoch 9/150\n",
      "5143/5143 [==============================] - 8s 2ms/step - loss: 0.7573 - acc: 0.6066 - val_loss: 0.8720 - val_acc: 0.3452\n",
      "Epoch 10/150\n",
      "5143/5143 [==============================] - 8s 2ms/step - loss: 0.7246 - acc: 0.6241 - val_loss: 0.7594 - val_acc: 0.5374\n",
      "Epoch 11/150\n",
      "5143/5143 [==============================] - 8s 2ms/step - loss: 0.6904 - acc: 0.6430 - val_loss: 0.6860 - val_acc: 0.6555\n",
      "Epoch 12/150\n",
      "5143/5143 [==============================] - 8s 2ms/step - loss: 0.6485 - acc: 0.6818 - val_loss: 0.7307 - val_acc: 0.5685\n",
      "Epoch 13/150\n",
      "5143/5143 [==============================] - 8s 2ms/step - loss: 0.6329 - acc: 0.6894 - val_loss: 0.6654 - val_acc: 0.6593\n",
      "Epoch 14/150\n",
      "5143/5143 [==============================] - 8s 2ms/step - loss: 0.6052 - acc: 0.7121 - val_loss: 0.6590 - val_acc: 0.6631\n",
      "Epoch 15/150\n",
      "5143/5143 [==============================] - 8s 2ms/step - loss: 0.5949 - acc: 0.7200 - val_loss: 0.7678 - val_acc: 0.5412\n",
      "Epoch 16/150\n",
      "5143/5143 [==============================] - 8s 2ms/step - loss: 0.5879 - acc: 0.7223 - val_loss: 0.5860 - val_acc: 0.7341\n",
      "Epoch 17/150\n",
      "5143/5143 [==============================] - 8s 2ms/step - loss: 0.5672 - acc: 0.7403 - val_loss: 0.5474 - val_acc: 0.7684\n",
      "Epoch 18/150\n",
      "5143/5143 [==============================] - 8s 2ms/step - loss: 0.5576 - acc: 0.7520 - val_loss: 0.6183 - val_acc: 0.7062\n",
      "Epoch 19/150\n",
      "5143/5143 [==============================] - 8s 2ms/step - loss: 0.5473 - acc: 0.7552 - val_loss: 0.5364 - val_acc: 0.7786\n",
      "Epoch 20/150\n",
      "5143/5143 [==============================] - 8s 2ms/step - loss: 0.5262 - acc: 0.7693 - val_loss: 0.4925 - val_acc: 0.8179\n",
      "Epoch 21/150\n",
      "5143/5143 [==============================] - 8s 2ms/step - loss: 0.5165 - acc: 0.7814 - val_loss: 0.5806 - val_acc: 0.7398\n",
      "Epoch 22/150\n",
      "5143/5143 [==============================] - 8s 2ms/step - loss: 0.5037 - acc: 0.7956 - val_loss: 0.5008 - val_acc: 0.8046\n",
      "Epoch 23/150\n",
      "5143/5143 [==============================] - 8s 2ms/step - loss: 0.4952 - acc: 0.7977 - val_loss: 0.4880 - val_acc: 0.8198\n",
      "Epoch 24/150\n",
      "5143/5143 [==============================] - 8s 2ms/step - loss: 0.4843 - acc: 0.8119 - val_loss: 0.4516 - val_acc: 0.8452\n",
      "Epoch 25/150\n",
      "5143/5143 [==============================] - 8s 2ms/step - loss: 0.4715 - acc: 0.8133 - val_loss: 0.4520 - val_acc: 0.8312\n",
      "Epoch 26/150\n",
      "5143/5143 [==============================] - 8s 2ms/step - loss: 0.4565 - acc: 0.8301 - val_loss: 0.3694 - val_acc: 0.8909\n",
      "Epoch 27/150\n",
      "5143/5143 [==============================] - 8s 2ms/step - loss: 0.4503 - acc: 0.8302 - val_loss: 0.3634 - val_acc: 0.8978\n",
      "Epoch 28/150\n",
      "5143/5143 [==============================] - 8s 2ms/step - loss: 0.4443 - acc: 0.8366 - val_loss: 0.3776 - val_acc: 0.8845\n",
      "Epoch 29/150\n",
      "5143/5143 [==============================] - 8s 2ms/step - loss: 0.4384 - acc: 0.8408 - val_loss: 0.3747 - val_acc: 0.8845\n",
      "Epoch 30/150\n",
      "5143/5143 [==============================] - 8s 2ms/step - loss: 0.4202 - acc: 0.8569 - val_loss: 0.3583 - val_acc: 0.9010\n",
      "Epoch 31/150\n",
      "5143/5143 [==============================] - 8s 2ms/step - loss: 0.4289 - acc: 0.8512 - val_loss: 0.3192 - val_acc: 0.9124\n",
      "Epoch 32/150\n",
      "5143/5143 [==============================] - 8s 2ms/step - loss: 0.3975 - acc: 0.8679 - val_loss: 0.4263 - val_acc: 0.8560\n",
      "Epoch 33/150\n",
      "5143/5143 [==============================] - 8s 2ms/step - loss: 0.3950 - acc: 0.8706 - val_loss: 0.3310 - val_acc: 0.9143\n",
      "Epoch 34/150\n",
      "5143/5143 [==============================] - 8s 2ms/step - loss: 0.3810 - acc: 0.8776 - val_loss: 0.3340 - val_acc: 0.9023\n",
      "Epoch 35/150\n",
      "5143/5143 [==============================] - 8s 2ms/step - loss: 0.3959 - acc: 0.8746 - val_loss: 0.4285 - val_acc: 0.8572\n",
      "Epoch 36/150\n",
      "5143/5143 [==============================] - 8s 2ms/step - loss: 0.3842 - acc: 0.8784 - val_loss: 0.2981 - val_acc: 0.9245\n",
      "Epoch 37/150\n",
      "5143/5143 [==============================] - 8s 2ms/step - loss: 0.3851 - acc: 0.8759 - val_loss: 0.2661 - val_acc: 0.9480\n",
      "Epoch 38/150\n",
      "5143/5143 [==============================] - 8s 2ms/step - loss: 0.3798 - acc: 0.8796 - val_loss: 0.2788 - val_acc: 0.9397\n",
      "Epoch 39/150\n",
      "5143/5143 [==============================] - 8s 2ms/step - loss: 0.3700 - acc: 0.8860 - val_loss: 0.3090 - val_acc: 0.9302\n",
      "Epoch 40/150\n",
      "5143/5143 [==============================] - 8s 2ms/step - loss: 0.3486 - acc: 0.8943 - val_loss: 0.3362 - val_acc: 0.9055\n",
      "Epoch 41/150\n",
      "5143/5143 [==============================] - 8s 2ms/step - loss: 0.3592 - acc: 0.8909 - val_loss: 0.2622 - val_acc: 0.9499\n",
      "Epoch 42/150\n",
      "5143/5143 [==============================] - 8s 2ms/step - loss: 0.3484 - acc: 0.8979 - val_loss: 0.2690 - val_acc: 0.9435\n",
      "Epoch 43/150\n",
      "5143/5143 [==============================] - 8s 2ms/step - loss: 0.3487 - acc: 0.8937 - val_loss: 0.3348 - val_acc: 0.9042\n",
      "Epoch 44/150\n",
      "5143/5143 [==============================] - 8s 2ms/step - loss: 0.3238 - acc: 0.9099 - val_loss: 0.2591 - val_acc: 0.9486\n",
      "Epoch 45/150\n",
      "5143/5143 [==============================] - 8s 2ms/step - loss: 0.3539 - acc: 0.8972 - val_loss: 0.2686 - val_acc: 0.9454\n",
      "Epoch 46/150\n",
      "5143/5143 [==============================] - 8s 2ms/step - loss: 0.3366 - acc: 0.9007 - val_loss: 0.2723 - val_acc: 0.9365\n",
      "Epoch 47/150\n",
      "5143/5143 [==============================] - 8s 2ms/step - loss: 0.3336 - acc: 0.9014 - val_loss: 0.3318 - val_acc: 0.9055\n",
      "Epoch 48/150\n",
      "5143/5143 [==============================] - 8s 2ms/step - loss: 0.3278 - acc: 0.9110 - val_loss: 0.2546 - val_acc: 0.9461\n",
      "Epoch 49/150\n",
      "5143/5143 [==============================] - 8s 2ms/step - loss: 0.3112 - acc: 0.9143 - val_loss: 0.2626 - val_acc: 0.9435\n",
      "Epoch 50/150\n",
      "5143/5143 [==============================] - 8s 2ms/step - loss: 0.3218 - acc: 0.9108 - val_loss: 0.2974 - val_acc: 0.9289\n",
      "Epoch 51/150\n",
      "5143/5143 [==============================] - 8s 2ms/step - loss: 0.3345 - acc: 0.9054 - val_loss: 0.2514 - val_acc: 0.9461\n",
      "Epoch 52/150\n",
      "5143/5143 [==============================] - 8s 2ms/step - loss: 0.3208 - acc: 0.9117 - val_loss: 0.4684 - val_acc: 0.8376\n",
      "Epoch 53/150\n",
      "5143/5143 [==============================] - 8s 2ms/step - loss: 0.3117 - acc: 0.9203 - val_loss: 0.2721 - val_acc: 0.9429\n",
      "Epoch 54/150\n",
      "5143/5143 [==============================] - 8s 2ms/step - loss: 0.3018 - acc: 0.9216 - val_loss: 0.2402 - val_acc: 0.9562\n",
      "Epoch 55/150\n",
      "5143/5143 [==============================] - 8s 2ms/step - loss: 0.3007 - acc: 0.9184 - val_loss: 0.2689 - val_acc: 0.9416\n",
      "Epoch 56/150\n",
      "5143/5143 [==============================] - 8s 2ms/step - loss: 0.3082 - acc: 0.9191 - val_loss: 0.2184 - val_acc: 0.9638\n",
      "Epoch 57/150\n",
      "5143/5143 [==============================] - 8s 2ms/step - loss: 0.3084 - acc: 0.9153 - val_loss: 0.2403 - val_acc: 0.9505\n",
      "Epoch 58/150\n",
      "5143/5143 [==============================] - 8s 2ms/step - loss: 0.2943 - acc: 0.9275 - val_loss: 0.3677 - val_acc: 0.8940\n",
      "Epoch 59/150\n",
      "5143/5143 [==============================] - 8s 2ms/step - loss: 0.3071 - acc: 0.9193 - val_loss: 0.2597 - val_acc: 0.9429\n",
      "Epoch 60/150\n",
      "5143/5143 [==============================] - 8s 2ms/step - loss: 0.2909 - acc: 0.9258 - val_loss: 0.2103 - val_acc: 0.9626\n",
      "Epoch 61/150\n",
      "5143/5143 [==============================] - 8s 2ms/step - loss: 0.2901 - acc: 0.9243 - val_loss: 0.2739 - val_acc: 0.9410\n",
      "Epoch 62/150\n",
      "5143/5143 [==============================] - 8s 2ms/step - loss: 0.2924 - acc: 0.9207 - val_loss: 0.2528 - val_acc: 0.9492\n",
      "Epoch 63/150\n",
      "5143/5143 [==============================] - 8s 2ms/step - loss: 0.2942 - acc: 0.9216 - val_loss: 0.2223 - val_acc: 0.9569\n",
      "Epoch 64/150\n",
      "5143/5143 [==============================] - 8s 2ms/step - loss: 0.2911 - acc: 0.9216 - val_loss: 0.2216 - val_acc: 0.9569\n",
      "Epoch 65/150\n",
      "5143/5143 [==============================] - 8s 2ms/step - loss: 0.2905 - acc: 0.9248 - val_loss: 0.2134 - val_acc: 0.9613\n",
      "Epoch 66/150\n",
      "5143/5143 [==============================] - 8s 2ms/step - loss: 0.2712 - acc: 0.9310 - val_loss: 0.2334 - val_acc: 0.9442\n",
      "Epoch 67/150\n",
      "5143/5143 [==============================] - 8s 2ms/step - loss: 0.2842 - acc: 0.9291 - val_loss: 0.2521 - val_acc: 0.9423\n",
      "Epoch 68/150\n",
      "5143/5143 [==============================] - 8s 2ms/step - loss: 0.2709 - acc: 0.9325 - val_loss: 0.2127 - val_acc: 0.9632\n",
      "Epoch 69/150\n",
      "5143/5143 [==============================] - 8s 2ms/step - loss: 0.2791 - acc: 0.9341 - val_loss: 0.2550 - val_acc: 0.9480\n",
      "Epoch 70/150\n",
      "5143/5143 [==============================] - 8s 2ms/step - loss: 0.2784 - acc: 0.9304 - val_loss: 0.2061 - val_acc: 0.9619\n",
      "Epoch 71/150\n",
      "5143/5143 [==============================] - 8s 2ms/step - loss: 0.2699 - acc: 0.9329 - val_loss: 0.2355 - val_acc: 0.9492\n",
      "Epoch 72/150\n",
      "5143/5143 [==============================] - 8s 2ms/step - loss: 0.2769 - acc: 0.9307 - val_loss: 0.2041 - val_acc: 0.9607\n",
      "Epoch 73/150\n",
      "5143/5143 [==============================] - 8s 2ms/step - loss: 0.2759 - acc: 0.9277 - val_loss: 0.3561 - val_acc: 0.8997\n",
      "Epoch 74/150\n",
      "5143/5143 [==============================] - 8s 2ms/step - loss: 0.2808 - acc: 0.9306 - val_loss: 0.2718 - val_acc: 0.9404\n",
      "Epoch 75/150\n",
      "5143/5143 [==============================] - 8s 2ms/step - loss: 0.2827 - acc: 0.9276 - val_loss: 0.2583 - val_acc: 0.9499\n",
      "Epoch 76/150\n",
      "5143/5143 [==============================] - 8s 2ms/step - loss: 0.2796 - acc: 0.9279 - val_loss: 0.2063 - val_acc: 0.9657\n",
      "Epoch 77/150\n",
      "5143/5143 [==============================] - 8s 2ms/step - loss: 0.2689 - acc: 0.9339 - val_loss: 0.2378 - val_acc: 0.9473\n",
      "Epoch 78/150\n",
      "5143/5143 [==============================] - 8s 2ms/step - loss: 0.2637 - acc: 0.9374 - val_loss: 0.2029 - val_acc: 0.9651\n",
      "Epoch 79/150\n",
      "5143/5143 [==============================] - 8s 2ms/step - loss: 0.2659 - acc: 0.9341 - val_loss: 0.1990 - val_acc: 0.9695\n",
      "Epoch 80/150\n",
      "5143/5143 [==============================] - 8s 2ms/step - loss: 0.2801 - acc: 0.9312 - val_loss: 0.2416 - val_acc: 0.9480\n",
      "Epoch 81/150\n",
      "5143/5143 [==============================] - 8s 2ms/step - loss: 0.2697 - acc: 0.9296 - val_loss: 0.2028 - val_acc: 0.9708\n",
      "Epoch 82/150\n",
      "5143/5143 [==============================] - 8s 2ms/step - loss: 0.2552 - acc: 0.9399 - val_loss: 0.2286 - val_acc: 0.9505\n",
      "Epoch 83/150\n",
      "5143/5143 [==============================] - 8s 2ms/step - loss: 0.2621 - acc: 0.9374 - val_loss: 0.3054 - val_acc: 0.9156\n",
      "Epoch 84/150\n",
      "5143/5143 [==============================] - 8s 2ms/step - loss: 0.2590 - acc: 0.9387 - val_loss: 0.2275 - val_acc: 0.9543\n",
      "Epoch 85/150\n",
      "5143/5143 [==============================] - 8s 2ms/step - loss: 0.2674 - acc: 0.9353 - val_loss: 0.1994 - val_acc: 0.9657\n",
      "Epoch 86/150\n",
      "5143/5143 [==============================] - 8s 2ms/step - loss: 0.2709 - acc: 0.9319 - val_loss: 0.2011 - val_acc: 0.9632\n",
      "Epoch 87/150\n",
      "5143/5143 [==============================] - 8s 2ms/step - loss: 0.2571 - acc: 0.9392 - val_loss: 0.1850 - val_acc: 0.9683\n",
      "Epoch 88/150\n",
      "5143/5143 [==============================] - 8s 2ms/step - loss: 0.2556 - acc: 0.9372 - val_loss: 0.2141 - val_acc: 0.9607\n",
      "Epoch 89/150\n",
      "5143/5143 [==============================] - 8s 2ms/step - loss: 0.2655 - acc: 0.9353 - val_loss: 0.1875 - val_acc: 0.9695\n",
      "Epoch 90/150\n",
      "5143/5143 [==============================] - 8s 2ms/step - loss: 0.2779 - acc: 0.9301 - val_loss: 0.2947 - val_acc: 0.9365\n",
      "Epoch 91/150\n",
      "5143/5143 [==============================] - 8s 2ms/step - loss: 0.2674 - acc: 0.9303 - val_loss: 0.2695 - val_acc: 0.9365\n",
      "Epoch 92/150\n",
      "5143/5143 [==============================] - 8s 2ms/step - loss: 0.2399 - acc: 0.9439 - val_loss: 0.2630 - val_acc: 0.9391\n",
      "Epoch 93/150\n",
      "5143/5143 [==============================] - 8s 2ms/step - loss: 0.2695 - acc: 0.9314 - val_loss: 0.2021 - val_acc: 0.9619\n",
      "Epoch 94/150\n",
      "5143/5143 [==============================] - 8s 2ms/step - loss: 0.2667 - acc: 0.9348 - val_loss: 0.2132 - val_acc: 0.9645\n",
      "Epoch 95/150\n",
      "5143/5143 [==============================] - 8s 2ms/step - loss: 0.2531 - acc: 0.9391 - val_loss: 0.2074 - val_acc: 0.9645\n",
      "Epoch 96/150\n",
      "5143/5143 [==============================] - 8s 2ms/step - loss: 0.2597 - acc: 0.9370 - val_loss: 0.1867 - val_acc: 0.9683\n",
      "Epoch 97/150\n",
      "5143/5143 [==============================] - 8s 2ms/step - loss: 0.2462 - acc: 0.9429 - val_loss: 0.1719 - val_acc: 0.9797\n",
      "Epoch 98/150\n",
      "5143/5143 [==============================] - 8s 2ms/step - loss: 0.2542 - acc: 0.9402 - val_loss: 0.1835 - val_acc: 0.9695\n",
      "Epoch 99/150\n",
      "5143/5143 [==============================] - 8s 2ms/step - loss: 0.2347 - acc: 0.9485 - val_loss: 0.2137 - val_acc: 0.9632\n",
      "Epoch 100/150\n",
      "5143/5143 [==============================] - 8s 2ms/step - loss: 0.2557 - acc: 0.9396 - val_loss: 0.2081 - val_acc: 0.9619\n",
      "Epoch 101/150\n",
      "5143/5143 [==============================] - 8s 2ms/step - loss: 0.2542 - acc: 0.9364 - val_loss: 0.2192 - val_acc: 0.9607\n",
      "Epoch 102/150\n",
      "5143/5143 [==============================] - 8s 2ms/step - loss: 0.2507 - acc: 0.9431 - val_loss: 0.2674 - val_acc: 0.9416\n",
      "Epoch 103/150\n",
      "5143/5143 [==============================] - 8s 2ms/step - loss: 0.2595 - acc: 0.9363 - val_loss: 0.2713 - val_acc: 0.9423\n",
      "Epoch 104/150\n",
      "5143/5143 [==============================] - 8s 2ms/step - loss: 0.2580 - acc: 0.9371 - val_loss: 0.2131 - val_acc: 0.9607\n",
      "Epoch 105/150\n",
      "5143/5143 [==============================] - 8s 2ms/step - loss: 0.2639 - acc: 0.9350 - val_loss: 0.1827 - val_acc: 0.9708\n",
      "Epoch 106/150\n",
      "5143/5143 [==============================] - 8s 2ms/step - loss: 0.2781 - acc: 0.9264 - val_loss: 0.2473 - val_acc: 0.9505\n",
      "Epoch 107/150\n",
      "5143/5143 [==============================] - 8s 2ms/step - loss: 0.2405 - acc: 0.9488 - val_loss: 0.1925 - val_acc: 0.9708\n",
      "Epoch 108/150\n",
      "5143/5143 [==============================] - 8s 2ms/step - loss: 0.2555 - acc: 0.9404 - val_loss: 0.2105 - val_acc: 0.9556\n",
      "Epoch 109/150\n",
      "5143/5143 [==============================] - 8s 2ms/step - loss: 0.2442 - acc: 0.9421 - val_loss: 0.2344 - val_acc: 0.9613\n",
      "Epoch 110/150\n",
      "5143/5143 [==============================] - 8s 2ms/step - loss: 0.2425 - acc: 0.9431 - val_loss: 0.2260 - val_acc: 0.9581\n",
      "Epoch 111/150\n",
      "5143/5143 [==============================] - 8s 2ms/step - loss: 0.2430 - acc: 0.9433 - val_loss: 0.2246 - val_acc: 0.9581\n",
      "Epoch 112/150\n",
      "5143/5143 [==============================] - 8s 2ms/step - loss: 0.2532 - acc: 0.9394 - val_loss: 0.1859 - val_acc: 0.9683\n",
      "Epoch 113/150\n",
      "5143/5143 [==============================] - 8s 2ms/step - loss: 0.2737 - acc: 0.9298 - val_loss: 0.2428 - val_acc: 0.9505\n",
      "Epoch 114/150\n",
      "5143/5143 [==============================] - 8s 2ms/step - loss: 0.2462 - acc: 0.9458 - val_loss: 0.2012 - val_acc: 0.9670\n",
      "Epoch 115/150\n",
      "5143/5143 [==============================] - 8s 2ms/step - loss: 0.2400 - acc: 0.9437 - val_loss: 0.1605 - val_acc: 0.9835\n",
      "Epoch 116/150\n",
      "5143/5143 [==============================] - 8s 2ms/step - loss: 0.2457 - acc: 0.9434 - val_loss: 0.1711 - val_acc: 0.9765\n",
      "Epoch 117/150\n",
      "5143/5143 [==============================] - 8s 2ms/step - loss: 0.2392 - acc: 0.9451 - val_loss: 0.1778 - val_acc: 0.9708\n",
      "Epoch 118/150\n",
      "5143/5143 [==============================] - 8s 2ms/step - loss: 0.2654 - acc: 0.9353 - val_loss: 0.2131 - val_acc: 0.9619\n",
      "Epoch 119/150\n",
      "5143/5143 [==============================] - 8s 2ms/step - loss: 0.2500 - acc: 0.9421 - val_loss: 0.1901 - val_acc: 0.9645\n",
      "Epoch 120/150\n",
      "5143/5143 [==============================] - 8s 2ms/step - loss: 0.2580 - acc: 0.9353 - val_loss: 0.2222 - val_acc: 0.9619\n",
      "Epoch 121/150\n",
      "5143/5143 [==============================] - 8s 2ms/step - loss: 0.2591 - acc: 0.9389 - val_loss: 0.2389 - val_acc: 0.9492\n",
      "Epoch 122/150\n",
      "5143/5143 [==============================] - 8s 2ms/step - loss: 0.2492 - acc: 0.9448 - val_loss: 0.2435 - val_acc: 0.9518\n",
      "Epoch 127/150\n",
      "5143/5143 [==============================] - 8s 2ms/step - loss: 0.2642 - acc: 0.9365 - val_loss: 0.1977 - val_acc: 0.9670\n",
      "Epoch 128/150\n",
      "5143/5143 [==============================] - 8s 2ms/step - loss: 0.2533 - acc: 0.9403 - val_loss: 0.1733 - val_acc: 0.9759\n",
      "Epoch 129/150\n",
      "5143/5143 [==============================] - 8s 2ms/step - loss: 0.2433 - acc: 0.9455 - val_loss: 0.2517 - val_acc: 0.9429\n",
      "Epoch 130/150\n",
      "5143/5143 [==============================] - 8s 2ms/step - loss: 0.2618 - acc: 0.9358 - val_loss: 0.2462 - val_acc: 0.9518\n",
      "Epoch 131/150\n",
      "5143/5143 [==============================] - 8s 2ms/step - loss: 0.2429 - acc: 0.9443 - val_loss: 0.1787 - val_acc: 0.9746\n",
      "Epoch 132/150\n",
      "5143/5143 [==============================] - 8s 2ms/step - loss: 0.2445 - acc: 0.9432 - val_loss: 0.2160 - val_acc: 0.9632\n",
      "Epoch 133/150\n",
      "5143/5143 [==============================] - 8s 2ms/step - loss: 0.2400 - acc: 0.9466 - val_loss: 0.2056 - val_acc: 0.9670\n",
      "Epoch 134/150\n",
      "5143/5143 [==============================] - 8s 2ms/step - loss: 0.2354 - acc: 0.9482 - val_loss: 0.2034 - val_acc: 0.9607\n",
      "Epoch 135/150\n",
      "5143/5143 [==============================] - 8s 2ms/step - loss: 0.2481 - acc: 0.9429 - val_loss: 0.1842 - val_acc: 0.9695\n",
      "Epoch 136/150\n",
      "5143/5143 [==============================] - 8s 2ms/step - loss: 0.2322 - acc: 0.9483 - val_loss: 0.2143 - val_acc: 0.9600\n",
      "Epoch 137/150\n",
      "5143/5143 [==============================] - 8s 2ms/step - loss: 0.2446 - acc: 0.9430 - val_loss: 0.1799 - val_acc: 0.9683\n",
      "Epoch 138/150\n",
      "5143/5143 [==============================] - 8s 2ms/step - loss: 0.2343 - acc: 0.9475 - val_loss: 0.1982 - val_acc: 0.9607\n",
      "Epoch 139/150\n",
      "5143/5143 [==============================] - 8s 2ms/step - loss: 0.2335 - acc: 0.9477 - val_loss: 0.2247 - val_acc: 0.9556\n",
      "Epoch 140/150\n",
      "5143/5143 [==============================] - 8s 2ms/step - loss: 0.2488 - acc: 0.9395 - val_loss: 0.1887 - val_acc: 0.9683\n",
      "Epoch 141/150\n",
      "5143/5143 [==============================] - 8s 2ms/step - loss: 0.2408 - acc: 0.9446 - val_loss: 0.1818 - val_acc: 0.9670\n",
      "Epoch 142/150\n",
      "5143/5143 [==============================] - 8s 2ms/step - loss: 0.2450 - acc: 0.9395 - val_loss: 0.1718 - val_acc: 0.9759\n",
      "Epoch 143/150\n",
      "5143/5143 [==============================] - 8s 2ms/step - loss: 0.2397 - acc: 0.9480 - val_loss: 0.1767 - val_acc: 0.9772\n",
      "Epoch 144/150\n",
      "5143/5143 [==============================] - 8s 2ms/step - loss: 0.2437 - acc: 0.9437 - val_loss: 0.1948 - val_acc: 0.9607\n",
      "Epoch 145/150\n",
      "5143/5143 [==============================] - 8s 2ms/step - loss: 0.2459 - acc: 0.9425 - val_loss: 0.1914 - val_acc: 0.9645\n"
     ]
    },
    {
     "data": {
      "image/png": "[encoded data removed]",
      "text/plain": [
       "<Figure size 792x288 with 2 Axes>"
      ]
     },
     "metadata": {
      "needs_background": "light"
     },
     "output_type": "display_data"
    }
   ],
   "source": [
    "%matplotlib inline\n",
    "from keras.utils import multi_gpu_model\n",
    "\n",
    "num_epochs = 150\n",
    "\n",
    "result_dir=''\n",
    "# training args\n",
    "lr = 0.001\n",
    "lr_decay = 0.\n",
    "\n",
    "num_trials = 1\n",
    "patience = 30\n",
    "store_models = True\n",
    "\n",
    "best_epoch_acc = []\n",
    "# final_epoch_sens0 = []\n",
    "# final_epoch_sens1 = []\n",
    "# final_epoch_sens2 = []\n",
    "# final_epoch_sens3 = []\n",
    "# final_epoch_sens4 = []\n",
    "# final_epoch_sens5 = []\n",
    "\n",
    "# final_epoch_spec = []\n",
    "\n",
    "for i in range(num_trials):\n",
    "    # init model\n",
    "    model = SixtyFourNet(drop_rate=0.3, weight_dcay=0.01, input_shape=X_train_y.shape)\n",
    "    model=multi_gpu_model(model,2)\n",
    "\n",
    "    opti = Adam(lr=lr, decay=lr_decay)\n",
    "    model.compile(loss='binary_crossentropy', optimizer=opti, metrics=['accuracy'])\n",
    "    \n",
    "    #callbacks\n",
    "    earlystopping = EarlyStopping(monitor='val_loss', min_delta=0, patience=patience, verbose=0, mode='auto')\n",
    "    model_checkpoint = ModelCheckpoint(os.path.join(result_dir, \"model_admci_y_trial_%i.h5\" %i), monitor='val_acc', verbose=0, save_best_only=True, mode='max')\n",
    "\n",
    "    if store_models:\n",
    "        callbacks = [earlystopping, model_checkpoint]\n",
    "    else:\n",
    "        callbacks = [earlystopping]\n",
    "    \n",
    "    history = model.fit(\n",
    "        X_train_y,\n",
    "        y_train_y,\n",
    "        epochs=num_epochs,\n",
    "        batch_size=b,\n",
    "        validation_data=(X_test_y,y_test_y),\n",
    "        callbacks=callbacks,\n",
    "        shuffle=True\n",
    "    )\n",
    "    \n",
    "    training_time = time.time() - start_time\n",
    "    # Plot training curves\n",
    "    plt.figure(figsize=(11, 4))\n",
    "    plt.subplot(1, 2, 1)\n",
    "    plt.plot(history.history[\"loss\"])\n",
    "    plt.plot(history.history[\"val_loss\"])\n",
    "    plt.legend([\"Train\", \"Test\"])\n",
    "    plt.title(\"Loss\")\n",
    "    plt.subplot(1, 2, 2)\n",
    "    plt.plot(history.history[\"acc\"])\n",
    "    plt.plot(history.history[\"val_acc\"])\n",
    "    plt.legend([\"Train\", \"Test\"])\n",
    "    plt.title(\"Accuracy\")\n",
    "    plt.show()    \n",
    "    # Evaluation\n",
    "\n",
    "    y_pred_y = model.predict(X_test_y, batch_size=1)\n",
    "\n",
    "\n",
    "    # Store results\n",
    "    best_epoch = np.argmax(history.history[\"val_acc\"])\n",
    "    best_epoch_acc.append(history.history[\"val_acc\"][best_epoch])\n"
   ]
  },
  {
   "cell_type": "code",
   "execution_count": 46,
   "metadata": {},
   "outputs": [
    {
     "name": "stdout",
     "output_type": "stream",
     "text": [
      "0.9644670050761421\n",
      "0.9644670050761421\n"
     ]
    }
   ],
   "source": [
    "y_pred_y = model.predict(X_test_y, batch_size=1)\n",
    "## acc \n",
    "for i in range(2):\n",
    "    print(np.mean(y_test_y[:,i]==((y_pred_y>=0.5)[:,i])*1))"
   ]
  },
  {
   "cell_type": "code",
   "execution_count": 47,
   "metadata": {},
   "outputs": [
    {
     "name": "stdout",
     "output_type": "stream",
     "text": [
      "0.95\n",
      "0.9959677419354839\n"
     ]
    }
   ],
   "source": [
    "##tp\n",
    "for i in range(2):\n",
    "    print(np.sum((y_pred_y[:,i]>=0.5)*1+y_test_y[:,i]==2)/np.sum(y_test_y[:,i]==1))"
   ]
  },
  {
   "cell_type": "code",
   "execution_count": 48,
   "metadata": {},
   "outputs": [
    {
     "name": "stdout",
     "output_type": "stream",
     "text": [
      "0.9980544747081712\n",
      "0.9014598540145985\n"
     ]
    }
   ],
   "source": [
    "##precision\n",
    "\n",
    "for i in range(2):\n",
    "    print(np.sum((y_pred_y[:,i]>=0.5)*1+y_test_y[:,i]==2)/np.sum((y_pred_y[:,i]>=0.5)*1==1))"
   ]
  },
  {
   "cell_type": "markdown",
   "metadata": {},
   "source": [
    "# z axis"
   ]
  },
  {
   "cell_type": "code",
   "execution_count": 33,
   "metadata": {},
   "outputs": [],
   "source": [
    "from keras.utils import np_utils\n",
    "from sklearn.model_selection import train_test_split, KFold, cross_val_score\n",
    "from sklearn.preprocessing import LabelEncoder\n",
    "encoder = LabelEncoder()\n",
    "encoded_Y_z = encoder.fit_transform(y_train_z)\n",
    "encoded_Y_test_z = encoder.fit_transform(y_test_z)\n",
    "# convert integers to dummy variables (one hot encoding)\n",
    "y_train_z = np_utils.to_categorical(encoded_Y_z)\n",
    "y_test_z = np_utils.to_categorical(encoded_Y_test_z)"
   ]
  },
  {
   "cell_type": "code",
   "execution_count": 34,
   "metadata": {},
   "outputs": [
    {
     "name": "stdout",
     "output_type": "stream",
     "text": [
      "Train on 5143 samples, validate on 788 samples\n",
      "Epoch 1/150\n",
      "5143/5143 [==============================] - 9s 2ms/step - loss: 1.3592 - acc: 0.5353 - val_loss: 1.2786 - val_acc: 0.3147\n",
      "Epoch 2/150\n",
      "5143/5143 [==============================] - 8s 2ms/step - loss: 1.0548 - acc: 0.5487 - val_loss: 1.1622 - val_acc: 0.3147\n",
      "Epoch 3/150\n",
      "5143/5143 [==============================] - 8s 2ms/step - loss: 0.9833 - acc: 0.5637 - val_loss: 1.0057 - val_acc: 0.3261\n",
      "Epoch 4/150\n",
      "5143/5143 [==============================] - 8s 2ms/step - loss: 0.9208 - acc: 0.5716 - val_loss: 1.0324 - val_acc: 0.3147\n",
      "Epoch 5/150\n",
      "5143/5143 [==============================] - 8s 2ms/step - loss: 0.8581 - acc: 0.6033 - val_loss: 0.9342 - val_acc: 0.3794\n",
      "Epoch 6/150\n",
      "5143/5143 [==============================] - 8s 2ms/step - loss: 0.8032 - acc: 0.6267 - val_loss: 0.8369 - val_acc: 0.5476\n",
      "Epoch 7/150\n",
      "5143/5143 [==============================] - 8s 2ms/step - loss: 0.7598 - acc: 0.6430 - val_loss: 0.8549 - val_acc: 0.5057\n",
      "Epoch 8/150\n",
      "5143/5143 [==============================] - 8s 2ms/step - loss: 0.7326 - acc: 0.6469 - val_loss: 0.7506 - val_acc: 0.6168\n",
      "Epoch 9/150\n",
      "5143/5143 [==============================] - 8s 2ms/step - loss: 0.6934 - acc: 0.6675 - val_loss: 0.7393 - val_acc: 0.6098\n",
      "Epoch 10/150\n",
      "5143/5143 [==============================] - 8s 2ms/step - loss: 0.6780 - acc: 0.6716 - val_loss: 0.7684 - val_acc: 0.5685\n",
      "Epoch 11/150\n",
      "5143/5143 [==============================] - 8s 2ms/step - loss: 0.6500 - acc: 0.6908 - val_loss: 0.6689 - val_acc: 0.6770\n",
      "Epoch 12/150\n",
      "5143/5143 [==============================] - 8s 2ms/step - loss: 0.6364 - acc: 0.6870 - val_loss: 0.7388 - val_acc: 0.5876\n",
      "Epoch 13/150\n",
      "5143/5143 [==============================] - 8s 2ms/step - loss: 0.6196 - acc: 0.7023 - val_loss: 0.6289 - val_acc: 0.6948\n",
      "Epoch 14/150\n",
      "5143/5143 [==============================] - 8s 2ms/step - loss: 0.6115 - acc: 0.7099 - val_loss: 0.5775 - val_acc: 0.7367\n",
      "Epoch 15/150\n",
      "5143/5143 [==============================] - 8s 2ms/step - loss: 0.5961 - acc: 0.7233 - val_loss: 0.5760 - val_acc: 0.7449\n",
      "Epoch 16/150\n",
      "5143/5143 [==============================] - 8s 2ms/step - loss: 0.5886 - acc: 0.7241 - val_loss: 0.6710 - val_acc: 0.6726\n",
      "Epoch 17/150\n",
      "5143/5143 [==============================] - 8s 2ms/step - loss: 0.5646 - acc: 0.7452 - val_loss: 0.5715 - val_acc: 0.7462\n",
      "Epoch 18/150\n",
      "5143/5143 [==============================] - 8s 2ms/step - loss: 0.5621 - acc: 0.7497 - val_loss: 0.6098 - val_acc: 0.7170\n",
      "Epoch 19/150\n",
      "5143/5143 [==============================] - 8s 2ms/step - loss: 0.5459 - acc: 0.7591 - val_loss: 0.5792 - val_acc: 0.7322\n",
      "Epoch 20/150\n",
      "5143/5143 [==============================] - 8s 2ms/step - loss: 0.5412 - acc: 0.7613 - val_loss: 0.5472 - val_acc: 0.7678\n",
      "Epoch 21/150\n",
      "5143/5143 [==============================] - 8s 2ms/step - loss: 0.5204 - acc: 0.7828 - val_loss: 0.5058 - val_acc: 0.7868\n",
      "Epoch 22/150\n",
      "5143/5143 [==============================] - 8s 2ms/step - loss: 0.5134 - acc: 0.7871 - val_loss: 0.4264 - val_acc: 0.8534\n",
      "Epoch 23/150\n",
      "5143/5143 [==============================] - 8s 2ms/step - loss: 0.5044 - acc: 0.8022 - val_loss: 0.4672 - val_acc: 0.8242\n",
      "Epoch 24/150\n",
      "5143/5143 [==============================] - 8s 2ms/step - loss: 0.4808 - acc: 0.8125 - val_loss: 0.5077 - val_acc: 0.7925\n",
      "Epoch 25/150\n",
      "5143/5143 [==============================] - 8s 2ms/step - loss: 0.4774 - acc: 0.8127 - val_loss: 0.4211 - val_acc: 0.8547\n",
      "Epoch 26/150\n",
      "5143/5143 [==============================] - 8s 2ms/step - loss: 0.4680 - acc: 0.8223 - val_loss: 0.5233 - val_acc: 0.7792\n",
      "Epoch 27/150\n",
      "5143/5143 [==============================] - 8s 2ms/step - loss: 0.4609 - acc: 0.8289 - val_loss: 0.4522 - val_acc: 0.8414\n",
      "Epoch 28/150\n",
      "5143/5143 [==============================] - 8s 2ms/step - loss: 0.4618 - acc: 0.8311 - val_loss: 0.3811 - val_acc: 0.8852\n",
      "Epoch 29/150\n",
      "5143/5143 [==============================] - 8s 2ms/step - loss: 0.4302 - acc: 0.8518 - val_loss: 0.3891 - val_acc: 0.8712\n",
      "Epoch 30/150\n",
      "5143/5143 [==============================] - 8s 2ms/step - loss: 0.4335 - acc: 0.8496 - val_loss: 0.3603 - val_acc: 0.8839\n",
      "Epoch 31/150\n",
      "5143/5143 [==============================] - 8s 2ms/step - loss: 0.4123 - acc: 0.8612 - val_loss: 0.3714 - val_acc: 0.8978\n",
      "Epoch 32/150\n",
      "5143/5143 [==============================] - 8s 2ms/step - loss: 0.3976 - acc: 0.8748 - val_loss: 0.3086 - val_acc: 0.9264\n",
      "Epoch 33/150\n",
      "5143/5143 [==============================] - 8s 2ms/step - loss: 0.4197 - acc: 0.8561 - val_loss: 0.4007 - val_acc: 0.8750\n",
      "Epoch 34/150\n",
      "5143/5143 [==============================] - 8s 2ms/step - loss: 0.4172 - acc: 0.8620 - val_loss: 0.3456 - val_acc: 0.9010\n",
      "Epoch 35/150\n",
      "5143/5143 [==============================] - 8s 2ms/step - loss: 0.4044 - acc: 0.8730 - val_loss: 0.3317 - val_acc: 0.9048\n",
      "Epoch 36/150\n",
      "5143/5143 [==============================] - 8s 2ms/step - loss: 0.3863 - acc: 0.8795 - val_loss: 0.4666 - val_acc: 0.8439\n",
      "Epoch 37/150\n",
      "5143/5143 [==============================] - 8s 2ms/step - loss: 0.3912 - acc: 0.8787 - val_loss: 0.2665 - val_acc: 0.9473\n",
      "Epoch 38/150\n",
      "5143/5143 [==============================] - 8s 2ms/step - loss: 0.3823 - acc: 0.8820 - val_loss: 0.3118 - val_acc: 0.9181\n",
      "Epoch 39/150\n",
      "5143/5143 [==============================] - 8s 2ms/step - loss: 0.3733 - acc: 0.8873 - val_loss: 0.3178 - val_acc: 0.9112\n",
      "Epoch 40/150\n",
      "5143/5143 [==============================] - 8s 2ms/step - loss: 0.3713 - acc: 0.8892 - val_loss: 0.2631 - val_acc: 0.9467\n",
      "Epoch 41/150\n",
      "5143/5143 [==============================] - 8s 2ms/step - loss: 0.3622 - acc: 0.8937 - val_loss: 0.3088 - val_acc: 0.9150\n",
      "Epoch 42/150\n",
      "5143/5143 [==============================] - 8s 2ms/step - loss: 0.3588 - acc: 0.8935 - val_loss: 0.2592 - val_acc: 0.9448\n",
      "Epoch 43/150\n",
      "5143/5143 [==============================] - 8s 2ms/step - loss: 0.3472 - acc: 0.9003 - val_loss: 0.3142 - val_acc: 0.9162\n",
      "Epoch 44/150\n",
      "5143/5143 [==============================] - 8s 2ms/step - loss: 0.3429 - acc: 0.8994 - val_loss: 0.2541 - val_acc: 0.9499\n",
      "Epoch 45/150\n",
      "5143/5143 [==============================] - 8s 2ms/step - loss: 0.3655 - acc: 0.8873 - val_loss: 0.2968 - val_acc: 0.9264\n",
      "Epoch 46/150\n",
      "5143/5143 [==============================] - 8s 2ms/step - loss: 0.3500 - acc: 0.8963 - val_loss: 0.2629 - val_acc: 0.9429\n",
      "Epoch 47/150\n",
      "5143/5143 [==============================] - 8s 2ms/step - loss: 0.3458 - acc: 0.9017 - val_loss: 0.2868 - val_acc: 0.9258\n",
      "Epoch 48/150\n",
      "5143/5143 [==============================] - 8s 2ms/step - loss: 0.3363 - acc: 0.9039 - val_loss: 0.2382 - val_acc: 0.9619\n",
      "Epoch 49/150\n",
      "5143/5143 [==============================] - 8s 2ms/step - loss: 0.3352 - acc: 0.9061 - val_loss: 0.2510 - val_acc: 0.9467\n",
      "Epoch 50/150\n",
      "5143/5143 [==============================] - 8s 2ms/step - loss: 0.3274 - acc: 0.9080 - val_loss: 0.3065 - val_acc: 0.9188\n",
      "Epoch 51/150\n",
      "5143/5143 [==============================] - 8s 2ms/step - loss: 0.3296 - acc: 0.9114 - val_loss: 0.2264 - val_acc: 0.9619\n",
      "Epoch 52/150\n",
      "5143/5143 [==============================] - 8s 2ms/step - loss: 0.3515 - acc: 0.9007 - val_loss: 0.2283 - val_acc: 0.9626\n",
      "Epoch 53/150\n",
      "5143/5143 [==============================] - 8s 2ms/step - loss: 0.3240 - acc: 0.9102 - val_loss: 0.2539 - val_acc: 0.9518\n",
      "Epoch 54/150\n",
      "5143/5143 [==============================] - 8s 2ms/step - loss: 0.3263 - acc: 0.9101 - val_loss: 0.2989 - val_acc: 0.9245\n",
      "Epoch 55/150\n",
      "5143/5143 [==============================] - 8s 2ms/step - loss: 0.3166 - acc: 0.9150 - val_loss: 0.2196 - val_acc: 0.9657\n",
      "Epoch 56/150\n",
      "5143/5143 [==============================] - 8s 2ms/step - loss: 0.3371 - acc: 0.9047 - val_loss: 0.2329 - val_acc: 0.9511\n",
      "Epoch 57/150\n",
      "5143/5143 [==============================] - 8s 2ms/step - loss: 0.3391 - acc: 0.9053 - val_loss: 0.3429 - val_acc: 0.9074\n",
      "Epoch 58/150\n",
      "5143/5143 [==============================] - 8s 2ms/step - loss: 0.2925 - acc: 0.9267 - val_loss: 0.2278 - val_acc: 0.9600\n",
      "Epoch 59/150\n",
      "5143/5143 [==============================] - 8s 2ms/step - loss: 0.3057 - acc: 0.9212 - val_loss: 0.2580 - val_acc: 0.9486\n",
      "Epoch 60/150\n",
      "5143/5143 [==============================] - 8s 2ms/step - loss: 0.3148 - acc: 0.9179 - val_loss: 0.2245 - val_acc: 0.9695\n",
      "Epoch 61/150\n",
      "5143/5143 [==============================] - 8s 2ms/step - loss: 0.3093 - acc: 0.9161 - val_loss: 0.2491 - val_acc: 0.9549\n",
      "Epoch 62/150\n",
      "5143/5143 [==============================] - 8s 2ms/step - loss: 0.3099 - acc: 0.9159 - val_loss: 0.2836 - val_acc: 0.9365\n",
      "Epoch 63/150\n",
      "5143/5143 [==============================] - 8s 2ms/step - loss: 0.3158 - acc: 0.9114 - val_loss: 0.2426 - val_acc: 0.9562\n",
      "Epoch 64/150\n",
      "5143/5143 [==============================] - 8s 2ms/step - loss: 0.2857 - acc: 0.9283 - val_loss: 0.2314 - val_acc: 0.9530\n",
      "Epoch 65/150\n",
      "5143/5143 [==============================] - 8s 2ms/step - loss: 0.3092 - acc: 0.9143 - val_loss: 0.2202 - val_acc: 0.9581\n"
     ]
    },
    {
     "data": {
      "image/png": "[encoded data removed]",
      "text/plain": [
       "<Figure size 792x288 with 2 Axes>"
      ]
     },
     "metadata": {
      "needs_background": "light"
     },
     "output_type": "display_data"
    }
   ],
   "source": [
    "%matplotlib inline\n",
    "from keras.utils import multi_gpu_model\n",
    "\n",
    "num_epochs = 150\n",
    "\n",
    "result_dir=''\n",
    "# training args\n",
    "lr = 0.001\n",
    "lr_decay = 0.\n",
    "\n",
    "num_trials = 1\n",
    "patience = 10\n",
    "store_models = True\n",
    "\n",
    "best_epoch_acc = []\n",
    "\n",
    "\n",
    "for i in range(num_trials):\n",
    "    # init model\n",
    "    model = SixtyFourNet(drop_rate=0.3, weight_dcay=0.01, input_shape=X_train_z.shape)\n",
    "    model=multi_gpu_model(model,2)\n",
    "\n",
    "    opti = Adam(lr=lr, decay=lr_decay)\n",
    "    model.compile(loss='binary_crossentropy', optimizer=opti, metrics=['accuracy'])\n",
    "    \n",
    "    #callbacks\n",
    "    earlystopping = EarlyStopping(monitor='val_loss', min_delta=0, patience=patience, verbose=0, mode='auto')\n",
    "    model_checkpoint = ModelCheckpoint(os.path.join(result_dir, \"model_admci_z_trial_%i.h5\" %i), monitor='val_acc', verbose=0, save_best_only=True, mode='max')\n",
    "\n",
    "    if store_models:\n",
    "        callbacks = [earlystopping, model_checkpoint]\n",
    "    else:\n",
    "        callbacks = [earlystopping]\n",
    "    \n",
    "    history = model.fit(\n",
    "        X_train_z,\n",
    "        y_train_z,\n",
    "        epochs=num_epochs,\n",
    "        batch_size=b,\n",
    "        validation_data=(X_test_z,y_test_z),\n",
    "        callbacks=callbacks,\n",
    "        shuffle=True\n",
    "    )\n",
    "    \n",
    "    training_time = time.time() - start_time\n",
    "    # Plot training curves\n",
    "    plt.figure(figsize=(11, 4))\n",
    "    plt.subplot(1, 2, 1)\n",
    "    plt.plot(history.history[\"loss\"])\n",
    "    plt.plot(history.history[\"val_loss\"])\n",
    "    plt.legend([\"Train\", \"Test\"])\n",
    "    plt.title(\"Loss\")\n",
    "    plt.subplot(1, 2, 2)\n",
    "    plt.plot(history.history[\"acc\"])\n",
    "    plt.plot(history.history[\"val_acc\"])\n",
    "    plt.legend([\"Train\", \"Test\"])\n",
    "    plt.title(\"Accuracy\")\n",
    "    plt.show()    \n",
    "    # Evaluation\n",
    "\n",
    "    y_pred_z = model.predict(X_test_z, batch_size=1)\n",
    "\n",
    "\n",
    "    # Store results\n",
    "    best_epoch = np.argmax(history.history[\"val_acc\"])\n",
    "    best_epoch_acc.append(history.history[\"val_acc\"][best_epoch])\n"
   ]
  },
  {
   "cell_type": "code",
   "execution_count": 35,
   "metadata": {},
   "outputs": [
    {
     "name": "stdout",
     "output_type": "stream",
     "text": [
      "0.9581218274111675\n",
      "0.9581218274111675\n"
     ]
    }
   ],
   "source": [
    "## acc \n",
    "for i in range(2):\n",
    "    print(np.mean(y_test_z[:,i]==((y_pred_z>=0.5)[:,i])*1))"
   ]
  },
  {
   "cell_type": "code",
   "execution_count": 36,
   "metadata": {},
   "outputs": [
    {
     "name": "stdout",
     "output_type": "stream",
     "text": [
      "0.9444444444444444\n",
      "0.9879032258064516\n"
     ]
    }
   ],
   "source": [
    "##tp\n",
    "for i in range(2):\n",
    "    print(np.sum((y_pred_z[:,i]>=0.5)*1+y_test_z[:,i]==2)/np.sum(y_test_z[:,i]==1))"
   ]
  },
  {
   "cell_type": "code",
   "execution_count": 37,
   "metadata": {},
   "outputs": [
    {
     "name": "stdout",
     "output_type": "stream",
     "text": [
      "0.9941520467836257\n",
      "0.8909090909090909\n"
     ]
    }
   ],
   "source": [
    "##precision\n",
    "for i in range(2):\n",
    "    print(np.sum((y_pred_z[:,i]>=0.5)*1+y_test_z[:,i]==2)/np.sum((y_pred_z[:,i]>=0.5)*1==1))"
   ]
  },
  {
   "cell_type": "markdown",
   "metadata": {},
   "source": [
    "# Voting System"
   ]
  },
  {
   "cell_type": "code",
   "execution_count": 49,
   "metadata": {},
   "outputs": [],
   "source": [
    "def init_model(path, finetune=True, up_to=7):\n",
    "    model = load_model(path)\n",
    "    model.load_weights(path)\n",
    "    if finetune:\n",
    "        for layer in model.layers[:up_to]:\n",
    "            layer.trainable = False\n",
    "    return model\n",
    "\n",
    "model_x = init_model(path='model_admci_x_trial_0.h5', finetune=False, up_to=None)\n",
    "model_y = init_model(path='model_admci_y_trial_0.h5', finetune=False, up_to=None)\n",
    "model_z = init_model(path='model_admci_z_trial_0.h5', finetune=False, up_to=None)\n"
   ]
  },
  {
   "cell_type": "code",
   "execution_count": 50,
   "metadata": {},
   "outputs": [],
   "source": [
    "pred_x=model_x.predict(X_test_x)\n",
    "pred_y=model_y.predict(X_test_y)\n",
    "pred_z=model_z.predict(X_test_z)\n"
   ]
  },
  {
   "cell_type": "code",
   "execution_count": 51,
   "metadata": {},
   "outputs": [],
   "source": [
    "pred=((pred_x+pred_y+pred_z)>=1.5)*1"
   ]
  },
  {
   "cell_type": "code",
   "execution_count": 52,
   "metadata": {},
   "outputs": [
    {
     "name": "stdout",
     "output_type": "stream",
     "text": [
      "0.9784263959390863\n",
      "0.9796954314720813\n"
     ]
    }
   ],
   "source": [
    "## acc \n",
    "for i in range(2):\n",
    "    print(np.mean(y_test_z[:,i]==pred[:,i]))"
   ]
  },
  {
   "cell_type": "code",
   "execution_count": 53,
   "metadata": {},
   "outputs": [
    {
     "name": "stdout",
     "output_type": "stream",
     "text": [
      "0.9703703703703703\n",
      "0.9959677419354839\n"
     ]
    }
   ],
   "source": [
    "##tp\n",
    "for i in range(2):\n",
    "    print(np.sum(pred[:,i]+y_test_z[:,i]==2)/np.sum(y_test_z[:,i]==1))"
   ]
  },
  {
   "cell_type": "code",
   "execution_count": 54,
   "metadata": {},
   "outputs": [
    {
     "name": "stdout",
     "output_type": "stream",
     "text": [
      "0.9980952380952381\n",
      "0.9427480916030534\n"
     ]
    }
   ],
   "source": [
    "##precision\n",
    "for i in range(2):\n",
    "    print(np.sum(pred[:,i]+y_test_z[:,i]==2)/np.sum(pred[:,i]==1))"
   ]
  },
  {
   "cell_type": "code",
   "execution_count": null,
   "metadata": {},
   "outputs": [],
   "source": []
  }
 ],
 "metadata": {
  "kernelspec": {
   "display_name": "Python 3",
   "language": "python",
   "name": "python3"
  },
  "language_info": {
   "codemirror_mode": {
    "name": "ipython",
    "version": 3
   },
   "file_extension": ".py",
   "mimetype": "text/x-python",
   "name": "python",
   "nbconvert_exporter": "python",
   "pygments_lexer": "ipython3",
   "version": "3.5.3"
  }
 },
 "nbformat": 4,
 "nbformat_minor": 2
}
