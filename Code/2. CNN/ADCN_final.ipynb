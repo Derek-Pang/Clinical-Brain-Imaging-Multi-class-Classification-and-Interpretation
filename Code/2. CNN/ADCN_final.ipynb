{
 "cells": [
  {
   "cell_type": "code",
   "execution_count": 1,
   "metadata": {},
   "outputs": [],
   "source": [
    "%load_ext autoreload\n",
    "%autoreload 2\n"
   ]
  },
  {
   "cell_type": "code",
   "execution_count": 2,
   "metadata": {},
   "outputs": [
    {
     "name": "stderr",
     "output_type": "stream",
     "text": [
      "Using TensorFlow backend.\n"
     ]
    }
   ],
   "source": [
    "import numpy as np\n",
    "import pandas as pd\n",
    "import nibabel as nib\n",
    "# import nilearn\n",
    "\n",
    "from scipy.ndimage.interpolation import zoom\n",
    "from sklearn.utils import shuffle\n",
    "from sklearn.model_selection import GroupShuffleSplit\n",
    "from sklearn.metrics import confusion_matrix\n",
    "from sklearn.model_selection import KFold\n",
    "\n",
    "import matplotlib.pyplot as plt\n",
    "import os\n",
    "import time\n",
    "import h5py\n",
    "\n",
    "# keras\n",
    "from keras.models import Sequential\n",
    "from keras.layers import Input, Conv2D, Flatten, Dense, MaxPooling2D, Dropout\n",
    "from keras.regularizers import l2\n",
    "from keras.optimizers import Adam\n",
    "from keras.models import load_model\n",
    "from keras.callbacks import EarlyStopping, ModelCheckpoint\n",
    "from keras.utils import Sequence\n"
   ]
  },
  {
   "cell_type": "code",
   "execution_count": 3,
   "metadata": {},
   "outputs": [],
   "source": [
    "import sys\n",
    "import tensorflow as tf\n",
    "import SimpleITK as sitk\n",
    "import dltk\n",
    "import math\n",
    "from myshow import myshow\n",
    "from tensorflow.python.framework import ops\n",
    "import pylab as py\n",
    "import matplotlib.pyplot as plt"
   ]
  },
  {
   "cell_type": "code",
   "execution_count": 4,
   "metadata": {},
   "outputs": [],
   "source": [
    "gpu = 0,1\n",
    "\n",
    "shape = (256, 256, 256)\n",
    "\n",
    "##### training parameters #####\n",
    "# number of folds\n",
    "# k_folds = 7\n",
    "# batch size\n",
    "# i.e. number of samples per training step\n",
    "# validation always uses b = 1\n",
    "b = 50 \n",
    "# number of epochs\n",
    "# i.e. times to loop over the entire set"
   ]
  },
  {
   "cell_type": "code",
   "execution_count": 5,
   "metadata": {},
   "outputs": [],
   "source": [
    "from sklearn.metrics import recall_score\n",
    "\n",
    "# metrics\n",
    "def specificity(y_true, y_pred):\n",
    "    return recall_score(y_true, y_pred, pos_label=0,average='weighted')\n",
    "\n",
    "\n",
    "def sensitivity(y_true, y_pred):\n",
    "    return recall_score(y_true, y_pred, pos_label=1,average='weighted')\n",
    "\n",
    "\n",
    "def balanced_accuracy(y_true, y_pred):\n",
    "    spec = specificity(y_true, y_pred)\n",
    "    sens = sensitivity(y_true, y_pred)\n",
    "    return (spec + sens) / 2"
   ]
  },
  {
   "cell_type": "code",
   "execution_count": 6,
   "metadata": {},
   "outputs": [],
   "source": [
    "# Start timing\n",
    "start_time = time.time()"
   ]
  },
  {
   "cell_type": "code",
   "execution_count": 7,
   "metadata": {},
   "outputs": [],
   "source": [
    "# # Tensorflow settings\n",
    "# import tensorflow as tf\n",
    "# from keras.backend.tensorflow_backend import set_session, get_session\n",
    "\n",
    "# config = tf.ConfigProto(device_count={'gpu':\"0\"})\n",
    "# config.gpu_options.allow_growth = True\n",
    "# # config.gpu_options.visible_device_list = \"6\" #?????? 6\n",
    "# sess = tf.Session(config=config)\n",
    "# set_session(sess)"
   ]
  },
  {
   "cell_type": "code",
   "execution_count": 8,
   "metadata": {},
   "outputs": [],
   "source": [
    "import tensorflow as tf\n",
    "def decode2(serialized_example):\n",
    "    # Decode examples stored in TFRecord\n",
    "    # NOTE: make sure to specify the correct dimensions for the images\n",
    "    features = tf.parse_single_example(\n",
    "        serialized_example,\n",
    "        features={'image': tf.FixedLenFeature([256, 256, 1], tf.float32),\n",
    "                  'label': tf.FixedLenFeature([], tf.int64),\n",
    "                  'name': tf.FixedLenFeature([],tf.string)})\n",
    "    \n",
    "    images = features['image'] \n",
    "    labels = features['label']\n",
    "    names = features['name']\n",
    "    # NOTE: No need to cast these features, as they are already `tf.float32` values.\n",
    "    return images, labels,names"
   ]
  },
  {
   "cell_type": "code",
   "execution_count": 9,
   "metadata": {},
   "outputs": [],
   "source": [
    "labels = pd.read_csv(\"nii_with_binary_label.csv\")\n",
    "CN_files = labels[labels['CN']==1].iloc[:,1] #Category label 1\n",
    "EMCI_files = labels[labels['EMCI']==1].iloc[:,1] #Category label 2\n",
    "MCI_files = labels[labels['MCI']==1].iloc[:,1] #Category label 3\n",
    "LMCI_files = labels[labels['LMCI']==1].iloc[:,1] #Category label 4\n",
    "AD_files = labels[labels['AD']==1].iloc[:,1] #Category label 5\n",
    "SMC_files = labels[labels['SMC']==1].iloc[:,1] #Category label 6"
   ]
  },
  {
   "cell_type": "code",
   "execution_count": 10,
   "metadata": {},
   "outputs": [
    {
     "name": "stdout",
     "output_type": "stream",
     "text": [
      "WARNING:tensorflow:From /usr/local/lib/python3.5/dist-packages/tensorflow/python/data/ops/dataset_ops.py:1419: colocate_with (from tensorflow.python.framework.ops) is deprecated and will be removed in a future version.\n",
      "Instructions for updating:\n",
      "Colocations handled automatically by placer.\n"
     ]
    }
   ],
   "source": [
    "all_AD_x = tf.data.TFRecordDataset(\"x_AD.tfrecords\").shuffle(10000,seed=1)\n",
    "all_CN_x = tf.data.TFRecordDataset(\"x_CN.tfrecords\").shuffle(10000,seed=1)\n",
    "all_MCI_x = tf.data.TFRecordDataset(\"x_MCI.tfrecords\").shuffle(10000,seed=1)\n",
    "all_EMCI_x = tf.data.TFRecordDataset(\"x_EMCI.tfrecords\").shuffle(10000,seed=1)\n",
    "all_LMCI_x = tf.data.TFRecordDataset(\"x_LMCI.tfrecords\").shuffle(10000,seed=1)\n",
    "all_SMC_x = tf.data.TFRecordDataset(\"x_SMC.tfrecords\").shuffle(10000,seed=1)\n",
    "\n",
    "test_AD_x = all_AD_x.take(int(len(AD_files)*0.2)) \n",
    "train_AD_x = all_AD_x.skip(int(len(AD_files)*0.2))\n",
    "train_AD_re_x = train_AD_x.repeat(3)\n",
    "\n",
    "test_CN_x = all_CN_x.take(int(len(CN_files)*0.2)) \n",
    "train_CN_x = all_CN_x.skip(int(len(CN_files)*0.2))\n",
    "\n",
    "test_MCI_x = all_MCI_x.take(int(len(MCI_files)*0.2)) \n",
    "train_MCI_x = all_MCI_x.skip(int(len(MCI_files)*0.2))\n",
    "\n",
    "test_EMCI_x = all_EMCI_x.take(int(len(EMCI_files)*0.2)) \n",
    "train_EMCI_x = all_EMCI_x.skip(int(len(EMCI_files)*0.2))\n",
    "train_EMCI_re_x = train_EMCI_x.repeat(2)\n",
    "\n",
    "test_LMCI_x = all_LMCI_x.take(int(len(LMCI_files)*0.2)) \n",
    "train_LMCI_x = all_LMCI_x.skip(int(len(LMCI_files)*0.2))\n",
    "train_LMCI_re_x = train_LMCI_x.repeat(3)\n",
    "\n",
    "test_SMC_x = all_SMC_x.take(int(len(SMC_files)*0.2)) \n",
    "train_SMC_x = all_SMC_x.skip(int(len(SMC_files)*0.2))\n",
    "train_SMC_re_x = train_SMC_x.repeat(9)\n",
    "\n",
    "\n",
    "\n",
    "train_2cls_tra_x = train_AD_re_x.concatenate(train_CN_x)\n",
    "test_2cls_x = test_AD_x.concatenate(test_CN_x)\n",
    "\n",
    "train_2cls_tra_x = train_2cls_tra_x.map(decode2).batch(batch_size=50000)\n",
    "test_2cls_x = test_2cls_x.map(decode2).batch(batch_size = 10000)\n",
    "\n",
    "iterator_train_x = train_2cls_tra_x.make_initializable_iterator()\n",
    "features_x,labels_x,names_x = iterator_train_x.get_next()\n",
    "\n",
    "iterator_test_x = test_2cls_x.make_initializable_iterator()\n",
    "features_te_x,labels_te_x,names_te_x = iterator_test_x.get_next()\n"
   ]
  },
  {
   "cell_type": "code",
   "execution_count": 11,
   "metadata": {},
   "outputs": [],
   "source": [
    "all_AD_y = tf.data.TFRecordDataset(\"y_AD.tfrecords\").shuffle(10000,seed=1)\n",
    "all_CN_y = tf.data.TFRecordDataset(\"y_CN.tfrecords\").shuffle(10000,seed=1)\n",
    "all_MCI_y = tf.data.TFRecordDataset(\"y_MCI.tfrecords\").shuffle(10000,seed=1)\n",
    "all_EMCI_y = tf.data.TFRecordDataset(\"y_EMCI.tfrecords\").shuffle(10000,seed=1)\n",
    "all_LMCI_y = tf.data.TFRecordDataset(\"y_LMCI.tfrecords\").shuffle(10000,seed=1)\n",
    "all_SMC_y = tf.data.TFRecordDataset(\"y_SMC.tfrecords\").shuffle(10000,seed=1)\n",
    "\n",
    "test_AD_y = all_AD_y.take(int(len(AD_files)*0.2)) \n",
    "train_AD_y = all_AD_y.skip(int(len(AD_files)*0.2))\n",
    "train_AD_re_y = train_AD_y.repeat(3)\n",
    "\n",
    "test_CN_y = all_CN_y.take(int(len(CN_files)*0.2)) \n",
    "train_CN_y = all_CN_y.skip(int(len(CN_files)*0.2))\n",
    "\n",
    "test_MCI_y = all_MCI_y.take(int(len(MCI_files)*0.2)) \n",
    "train_MCI_y = all_MCI_y.skip(int(len(MCI_files)*0.2))\n",
    "\n",
    "test_EMCI_y = all_EMCI_y.take(int(len(EMCI_files)*0.2)) \n",
    "train_EMCI_y = all_EMCI_y.skip(int(len(EMCI_files)*0.2))\n",
    "train_EMCI_re_y = train_EMCI_y.repeat(2)\n",
    "\n",
    "test_LMCI_y = all_LMCI_y.take(int(len(LMCI_files)*0.2)) \n",
    "train_LMCI_y = all_LMCI_y.skip(int(len(LMCI_files)*0.2))\n",
    "train_LMCI_re_y = train_LMCI_y.repeat(3)\n",
    "\n",
    "test_SMC_y = all_SMC_y.take(int(len(SMC_files)*0.2)) \n",
    "train_SMC_y = all_SMC_y.skip(int(len(SMC_files)*0.2))\n",
    "train_SMC_re_y = train_SMC_y.repeat(9)\n",
    "\n",
    "train_2cls_tra_y= train_AD_re_y.concatenate(train_CN_y)\n",
    "test_2cls_y = test_AD_y.concatenate(test_CN_y)\n",
    "\n",
    "train_2cls_tra_y = train_2cls_tra_y.map(decode2).batch(batch_size=50000)\n",
    "test_2cls_y = test_2cls_y.map(decode2).batch(batch_size = 10000)\n",
    "\n",
    "iterator_train_y = train_2cls_tra_y.make_initializable_iterator()\n",
    "features_y,labels_y,names_y = iterator_train_y.get_next()\n",
    "\n",
    "iterator_test_y = test_2cls_y.make_initializable_iterator()\n",
    "features_te_y,labels_te_y,names_te_y = iterator_test_y.get_next()"
   ]
  },
  {
   "cell_type": "code",
   "execution_count": 12,
   "metadata": {},
   "outputs": [],
   "source": [
    "all_AD_z = tf.data.TFRecordDataset(\"z_AD.tfrecords\").shuffle(10000,seed=1)\n",
    "all_CN_z = tf.data.TFRecordDataset(\"z_CN.tfrecords\").shuffle(10000,seed=1)\n",
    "all_MCI_z = tf.data.TFRecordDataset(\"z_MCI.tfrecords\").shuffle(10000,seed=1)\n",
    "all_EMCI_z = tf.data.TFRecordDataset(\"z_EMCI.tfrecords\").shuffle(10000,seed=1)\n",
    "all_LMCI_z = tf.data.TFRecordDataset(\"z_LMCI.tfrecords\").shuffle(10000,seed=1)\n",
    "all_SMC_z = tf.data.TFRecordDataset(\"z_SMC.tfrecords\").shuffle(10000,seed=1)\n",
    "\n",
    "test_AD_z = all_AD_z.take(int(len(AD_files)*0.2)) \n",
    "train_AD_z = all_AD_z.skip(int(len(AD_files)*0.2))\n",
    "train_AD_re_z = train_AD_z.repeat(3)\n",
    "\n",
    "test_CN_z = all_CN_z.take(int(len(CN_files)*0.2)) \n",
    "train_CN_z = all_CN_z.skip(int(len(CN_files)*0.2))\n",
    "\n",
    "test_MCI_z = all_MCI_z.take(int(len(MCI_files)*0.2)) \n",
    "train_MCI_z = all_MCI_z.skip(int(len(MCI_files)*0.2))\n",
    "\n",
    "test_EMCI_z = all_EMCI_z.take(int(len(EMCI_files)*0.2)) \n",
    "train_EMCI_z = all_EMCI_z.skip(int(len(EMCI_files)*0.2))\n",
    "train_EMCI_re_z = train_EMCI_z.repeat(2)\n",
    "\n",
    "test_LMCI_z = all_LMCI_z.take(int(len(LMCI_files)*0.2)) \n",
    "train_LMCI_z = all_LMCI_z.skip(int(len(LMCI_files)*0.2))\n",
    "train_LMCI_re_z = train_LMCI_z.repeat(3)\n",
    "\n",
    "test_SMC_z = all_SMC_z.take(int(len(SMC_files)*0.2)) \n",
    "train_SMC_z = all_SMC_z.skip(int(len(SMC_files)*0.2))\n",
    "train_SMC_re_z = train_SMC_z.repeat(9)\n",
    "\n",
    "train_2cls_tra_z= train_AD_re_z.concatenate(train_CN_z)\n",
    "test_2cls_z = test_AD_z.concatenate(test_CN_z)\n",
    "\n",
    "train_2cls_tra_z = train_2cls_tra_z.map(decode2).batch(batch_size=50000)\n",
    "test_2cls_z = test_2cls_z.map(decode2).batch(batch_size = 10000)\n",
    "\n",
    "iterator_train_z = train_2cls_tra_z.make_initializable_iterator()\n",
    "features_z,labels_z,names_z = iterator_train_z.get_next()\n",
    "\n",
    "iterator_test_z = test_2cls_z.make_initializable_iterator()\n",
    "features_te_z,labels_te_z,names_te_z = iterator_test_z.get_next()"
   ]
  },
  {
   "cell_type": "code",
   "execution_count": 13,
   "metadata": {},
   "outputs": [],
   "source": [
    "with tf.Session() as sess:\n",
    "    sess.run(iterator_train_x.initializer)\n",
    "    sess.run(iterator_test_x.initializer)\n",
    "    X_train_x,y_train_x = sess.run([features_x, labels_x])\n",
    "    X_test_x,y_test_x,names_x=sess.run([features_te_x,labels_te_x,names_te_x])"
   ]
  },
  {
   "cell_type": "code",
   "execution_count": 14,
   "metadata": {},
   "outputs": [],
   "source": [
    "with tf.Session() as sess:\n",
    "    sess.run(iterator_train_y.initializer)\n",
    "    sess.run(iterator_test_y.initializer)\n",
    "    X_train_y,y_train_y = sess.run([features_y, labels_y])\n",
    "    X_test_y,y_test_y,names_y=sess.run([features_te_y,labels_te_y,names_te_y])"
   ]
  },
  {
   "cell_type": "code",
   "execution_count": 15,
   "metadata": {},
   "outputs": [],
   "source": [
    "with tf.Session() as sess:\n",
    "    sess.run(iterator_train_z.initializer)\n",
    "    sess.run(iterator_test_z.initializer)\n",
    "    X_train_z,y_train_z = sess.run([features_z, labels_z])\n",
    "    X_test_z,y_test_z,names_z=sess.run([features_te_z,labels_te_z,names_te_z])"
   ]
  },
  {
   "cell_type": "code",
   "execution_count": 16,
   "metadata": {},
   "outputs": [],
   "source": [
    "def SixtyFourNet(input_shape, drop_rate=0., weight_dcay=0.):\n",
    "    model = Sequential()\n",
    "    model.add(Conv2D(64, kernel_size=3, \n",
    "                     input_shape=(int(input_shape[1]), int(input_shape[2]), int(input_shape[3])), \n",
    "                     activation='elu', padding='valid', name='Conv_1'))\n",
    "    model.add(MaxPooling2D(pool_size=3, name='Pool_1'))\n",
    "    model.add(Dropout(drop_rate))\n",
    "    model.add(Conv2D(16, kernel_size=3, padding='valid', activation='elu', name='Conv_2'))\n",
    "\n",
    "    model.add(MaxPooling2D(pool_size=3, name='Pool_2'))\n",
    "    model.add(Dropout(drop_rate))\n",
    "\n",
    "    model.add(Conv2D(32, kernel_size=3, padding='valid', activation='elu', name='Conv_3',\n",
    "                     kernel_regularizer=l2(weight_dcay)))\n",
    "    model.add(Conv2D(16, kernel_size=3, padding='valid', activation='elu', name='Conv_4',\n",
    "                     kernel_regularizer=l2(weight_dcay)))\n",
    "    model.add(MaxPooling2D(pool_size=3, name='Pool_4'))\n",
    "    model.add(Dropout(drop_rate))\n",
    "\n",
    "    model.add(Flatten())\n",
    "    model.add(Dense(units=2, activation='sigmoid'))\n",
    "    return model"
   ]
  },
  {
   "cell_type": "markdown",
   "metadata": {},
   "source": [
    "# x_axis"
   ]
  },
  {
   "cell_type": "code",
   "execution_count": 17,
   "metadata": {},
   "outputs": [],
   "source": [
    "from keras.utils import np_utils\n",
    "from sklearn.model_selection import train_test_split, KFold, cross_val_score\n",
    "from sklearn.preprocessing import LabelEncoder\n",
    "encoder = LabelEncoder()\n",
    "encoded_Y_x = encoder.fit_transform(y_train_x)\n",
    "encoded_Y_test_x = encoder.fit_transform(y_test_x)\n",
    "# convert integers to dummy variables (one hot encoding)\n",
    "y_train_x = np_utils.to_categorical(encoded_Y_x)\n",
    "y_test_x = np_utils.to_categorical(encoded_Y_test_x)"
   ]
  },
  {
   "cell_type": "code",
   "execution_count": 18,
   "metadata": {},
   "outputs": [
    {
     "data": {
      "text/plain": [
       "(5404, 2)"
      ]
     },
     "execution_count": 18,
     "metadata": {},
     "output_type": "execute_result"
    }
   ],
   "source": [
    "X_train_x.shape\n",
    "y_train_x.shape"
   ]
  },
  {
   "cell_type": "code",
   "execution_count": 19,
   "metadata": {},
   "outputs": [
    {
     "data": {
      "text/plain": [
       "(854, 2)"
      ]
     },
     "execution_count": 19,
     "metadata": {},
     "output_type": "execute_result"
    }
   ],
   "source": [
    "X_test_x.shape\n",
    "y_test_x.shape"
   ]
  },
  {
   "cell_type": "code",
   "execution_count": 20,
   "metadata": {},
   "outputs": [
    {
     "name": "stdout",
     "output_type": "stream",
     "text": [
      "WARNING:tensorflow:From /usr/local/lib/python3.5/dist-packages/keras/backend/tensorflow_backend.py:3445: calling dropout (from tensorflow.python.ops.nn_ops) with keep_prob is deprecated and will be removed in a future version.\n",
      "Instructions for updating:\n",
      "Please use `rate` instead of `keep_prob`. Rate should be set to `rate = 1 - keep_prob`.\n",
      "WARNING:tensorflow:From /usr/local/lib/python3.5/dist-packages/tensorflow/python/ops/math_ops.py:3066: to_int32 (from tensorflow.python.ops.math_ops) is deprecated and will be removed in a future version.\n",
      "Instructions for updating:\n",
      "Use tf.cast instead.\n",
      "Train on 5404 samples, validate on 854 samples\n",
      "Epoch 1/150\n",
      "5404/5404 [==============================] - 13s 2ms/step - loss: 1.2607 - acc: 0.5193 - val_loss: 1.0453 - val_acc: 0.5673\n",
      "Epoch 2/150\n",
      "5404/5404 [==============================] - 9s 2ms/step - loss: 1.0256 - acc: 0.5423 - val_loss: 1.0187 - val_acc: 0.3981\n",
      "Epoch 3/150\n",
      "5404/5404 [==============================] - 9s 2ms/step - loss: 0.9494 - acc: 0.5499 - val_loss: 0.9175 - val_acc: 0.5281\n",
      "Epoch 4/150\n",
      "5404/5404 [==============================] - 9s 2ms/step - loss: 0.8818 - acc: 0.5636 - val_loss: 0.8702 - val_acc: 0.5023\n",
      "Epoch 5/150\n",
      "5404/5404 [==============================] - 9s 2ms/step - loss: 0.8302 - acc: 0.5837 - val_loss: 0.8486 - val_acc: 0.4356\n",
      "Epoch 6/150\n",
      "5404/5404 [==============================] - 9s 2ms/step - loss: 0.7894 - acc: 0.5959 - val_loss: 0.8994 - val_acc: 0.3091\n",
      "Epoch 7/150\n",
      "5404/5404 [==============================] - 9s 2ms/step - loss: 0.7569 - acc: 0.5996 - val_loss: 0.7335 - val_acc: 0.6405\n",
      "Epoch 8/150\n",
      "5404/5404 [==============================] - 9s 2ms/step - loss: 0.7274 - acc: 0.6157 - val_loss: 0.7566 - val_acc: 0.5381\n",
      "Epoch 9/150\n",
      "5404/5404 [==============================] - 9s 2ms/step - loss: 0.7081 - acc: 0.6231 - val_loss: 0.6974 - val_acc: 0.6300\n",
      "Epoch 10/150\n",
      "5404/5404 [==============================] - 9s 2ms/step - loss: 0.6890 - acc: 0.6332 - val_loss: 0.6522 - val_acc: 0.7207\n",
      "Epoch 11/150\n",
      "5404/5404 [==============================] - 9s 2ms/step - loss: 0.6694 - acc: 0.6530 - val_loss: 0.6260 - val_acc: 0.7213\n",
      "Epoch 12/150\n",
      "5404/5404 [==============================] - 8s 2ms/step - loss: 0.6597 - acc: 0.6579 - val_loss: 0.6553 - val_acc: 0.6809\n",
      "Epoch 13/150\n",
      "5404/5404 [==============================] - 9s 2ms/step - loss: 0.6485 - acc: 0.6643 - val_loss: 0.6382 - val_acc: 0.6692\n",
      "Epoch 14/150\n",
      "5404/5404 [==============================] - 9s 2ms/step - loss: 0.6326 - acc: 0.6842 - val_loss: 0.6472 - val_acc: 0.6792\n",
      "Epoch 15/150\n",
      "5404/5404 [==============================] - 9s 2ms/step - loss: 0.6280 - acc: 0.6839 - val_loss: 0.6632 - val_acc: 0.6388\n",
      "Epoch 16/150\n",
      "5404/5404 [==============================] - 9s 2ms/step - loss: 0.6140 - acc: 0.6934 - val_loss: 0.6550 - val_acc: 0.6639\n",
      "Epoch 17/150\n",
      "5404/5404 [==============================] - 9s 2ms/step - loss: 0.6035 - acc: 0.7122 - val_loss: 0.5590 - val_acc: 0.7488\n",
      "Epoch 18/150\n",
      "5404/5404 [==============================] - 9s 2ms/step - loss: 0.5878 - acc: 0.7221 - val_loss: 0.6783 - val_acc: 0.6347\n",
      "Epoch 19/150\n",
      "5404/5404 [==============================] - 9s 2ms/step - loss: 0.5777 - acc: 0.7280 - val_loss: 0.6122 - val_acc: 0.6996\n",
      "Epoch 20/150\n",
      "5404/5404 [==============================] - 9s 2ms/step - loss: 0.5624 - acc: 0.7439 - val_loss: 0.4775 - val_acc: 0.8109\n",
      "Epoch 21/150\n",
      "5404/5404 [==============================] - 9s 2ms/step - loss: 0.5443 - acc: 0.7594 - val_loss: 0.5094 - val_acc: 0.7886\n",
      "Epoch 22/150\n",
      "5404/5404 [==============================] - 9s 2ms/step - loss: 0.5327 - acc: 0.7645 - val_loss: 0.5402 - val_acc: 0.7652\n",
      "Epoch 23/150\n",
      "5404/5404 [==============================] - 9s 2ms/step - loss: 0.5320 - acc: 0.7637 - val_loss: 0.4244 - val_acc: 0.8407\n",
      "Epoch 24/150\n",
      "5404/5404 [==============================] - 9s 2ms/step - loss: 0.5055 - acc: 0.7884 - val_loss: 0.4866 - val_acc: 0.8015\n",
      "Epoch 25/150\n",
      "5404/5404 [==============================] - 9s 2ms/step - loss: 0.5138 - acc: 0.7882 - val_loss: 0.5109 - val_acc: 0.7851\n",
      "Epoch 26/150\n",
      "5404/5404 [==============================] - 9s 2ms/step - loss: 0.5012 - acc: 0.7992 - val_loss: 0.3862 - val_acc: 0.8741\n",
      "Epoch 27/150\n",
      "5404/5404 [==============================] - 9s 2ms/step - loss: 0.4841 - acc: 0.8051 - val_loss: 0.3915 - val_acc: 0.8888\n",
      "Epoch 28/150\n",
      "5404/5404 [==============================] - 9s 2ms/step - loss: 0.4844 - acc: 0.8093 - val_loss: 0.3927 - val_acc: 0.8648\n",
      "Epoch 29/150\n",
      "5404/5404 [==============================] - 9s 2ms/step - loss: 0.4795 - acc: 0.8124 - val_loss: 0.4674 - val_acc: 0.8261\n",
      "Epoch 30/150\n",
      "5404/5404 [==============================] - 9s 2ms/step - loss: 0.4624 - acc: 0.8264 - val_loss: 0.4308 - val_acc: 0.8431\n",
      "Epoch 31/150\n",
      "5404/5404 [==============================] - 9s 2ms/step - loss: 0.4475 - acc: 0.8353 - val_loss: 0.3541 - val_acc: 0.8946\n",
      "Epoch 32/150\n",
      "5404/5404 [==============================] - 9s 2ms/step - loss: 0.4531 - acc: 0.8283 - val_loss: 0.3175 - val_acc: 0.9157\n",
      "Epoch 33/150\n",
      "5404/5404 [==============================] - 9s 2ms/step - loss: 0.4330 - acc: 0.8411 - val_loss: 0.3721 - val_acc: 0.8864\n",
      "Epoch 34/150\n",
      "5404/5404 [==============================] - 9s 2ms/step - loss: 0.4265 - acc: 0.8423 - val_loss: 0.3421 - val_acc: 0.8999\n",
      "Epoch 35/150\n",
      "5404/5404 [==============================] - 9s 2ms/step - loss: 0.4353 - acc: 0.8410 - val_loss: 0.3571 - val_acc: 0.8911\n",
      "Epoch 36/150\n",
      "5404/5404 [==============================] - 9s 2ms/step - loss: 0.4600 - acc: 0.8323 - val_loss: 0.3284 - val_acc: 0.9104\n",
      "Epoch 37/150\n",
      "5404/5404 [==============================] - 9s 2ms/step - loss: 0.4339 - acc: 0.8470 - val_loss: 0.2911 - val_acc: 0.9192\n",
      "Epoch 38/150\n",
      "5404/5404 [==============================] - 9s 2ms/step - loss: 0.4329 - acc: 0.8503 - val_loss: 0.3022 - val_acc: 0.9274\n",
      "Epoch 39/150\n",
      "5404/5404 [==============================] - 9s 2ms/step - loss: 0.3995 - acc: 0.8664 - val_loss: 0.3245 - val_acc: 0.9081\n",
      "Epoch 40/150\n",
      "5404/5404 [==============================] - 9s 2ms/step - loss: 0.4115 - acc: 0.8579 - val_loss: 0.3297 - val_acc: 0.9116\n",
      "Epoch 41/150\n",
      "5404/5404 [==============================] - 9s 2ms/step - loss: 0.3851 - acc: 0.8731 - val_loss: 0.3218 - val_acc: 0.9169\n",
      "Epoch 42/150\n",
      "5404/5404 [==============================] - 9s 2ms/step - loss: 0.3751 - acc: 0.8722 - val_loss: 0.3061 - val_acc: 0.9192\n",
      "Epoch 43/150\n",
      "5404/5404 [==============================] - 9s 2ms/step - loss: 0.3998 - acc: 0.8648 - val_loss: 0.3672 - val_acc: 0.8829\n",
      "Epoch 44/150\n",
      "5404/5404 [==============================] - 9s 2ms/step - loss: 0.3888 - acc: 0.8689 - val_loss: 0.3330 - val_acc: 0.9069\n",
      "Epoch 45/150\n",
      "5404/5404 [==============================] - 9s 2ms/step - loss: 0.3765 - acc: 0.8806 - val_loss: 0.2596 - val_acc: 0.9520\n",
      "Epoch 46/150\n",
      "5404/5404 [==============================] - 9s 2ms/step - loss: 0.4064 - acc: 0.8549 - val_loss: 0.2857 - val_acc: 0.9303\n",
      "Epoch 47/150\n",
      "5404/5404 [==============================] - 9s 2ms/step - loss: 0.3839 - acc: 0.8708 - val_loss: 0.3030 - val_acc: 0.9133\n",
      "Epoch 48/150\n",
      "5404/5404 [==============================] - 9s 2ms/step - loss: 0.3682 - acc: 0.8863 - val_loss: 0.3751 - val_acc: 0.8934\n",
      "Epoch 49/150\n",
      "5404/5404 [==============================] - 9s 2ms/step - loss: 0.3627 - acc: 0.8833 - val_loss: 0.2564 - val_acc: 0.9450\n",
      "Epoch 50/150\n",
      "5404/5404 [==============================] - 9s 2ms/step - loss: 0.4011 - acc: 0.8670 - val_loss: 0.3411 - val_acc: 0.8981\n",
      "Epoch 51/150\n",
      "5404/5404 [==============================] - 9s 2ms/step - loss: 0.3759 - acc: 0.8797 - val_loss: 0.3522 - val_acc: 0.8911\n",
      "Epoch 52/150\n",
      "5404/5404 [==============================] - 9s 2ms/step - loss: 0.3564 - acc: 0.8947 - val_loss: 0.2485 - val_acc: 0.9496\n",
      "Epoch 53/150\n",
      "5404/5404 [==============================] - 9s 2ms/step - loss: 0.3533 - acc: 0.8889 - val_loss: 0.2301 - val_acc: 0.9567\n",
      "Epoch 54/150\n",
      "5404/5404 [==============================] - 9s 2ms/step - loss: 0.3397 - acc: 0.8985 - val_loss: 0.2935 - val_acc: 0.9286\n",
      "Epoch 55/150\n",
      "5404/5404 [==============================] - 9s 2ms/step - loss: 0.3470 - acc: 0.8915 - val_loss: 0.2367 - val_acc: 0.9578\n",
      "Epoch 56/150\n",
      "5404/5404 [==============================] - 9s 2ms/step - loss: 0.3542 - acc: 0.8915 - val_loss: 0.2770 - val_acc: 0.9350\n",
      "Epoch 57/150\n",
      "5404/5404 [==============================] - 9s 2ms/step - loss: 0.3433 - acc: 0.8966 - val_loss: 0.2844 - val_acc: 0.9251\n",
      "Epoch 58/150\n",
      "5404/5404 [==============================] - 9s 2ms/step - loss: 0.3283 - acc: 0.9084 - val_loss: 0.2538 - val_acc: 0.9479\n",
      "Epoch 59/150\n",
      "5404/5404 [==============================] - 9s 2ms/step - loss: 0.3322 - acc: 0.9038 - val_loss: 0.2911 - val_acc: 0.9227\n",
      "Epoch 60/150\n",
      "5404/5404 [==============================] - 9s 2ms/step - loss: 0.3497 - acc: 0.8933 - val_loss: 0.2324 - val_acc: 0.9532\n",
      "Epoch 61/150\n",
      "5404/5404 [==============================] - 9s 2ms/step - loss: 0.3358 - acc: 0.8973 - val_loss: 0.2281 - val_acc: 0.9526\n",
      "Epoch 62/150\n",
      "5404/5404 [==============================] - 9s 2ms/step - loss: 0.3382 - acc: 0.8976 - val_loss: 0.2077 - val_acc: 0.9584\n",
      "Epoch 63/150\n",
      "5404/5404 [==============================] - 9s 2ms/step - loss: 0.3437 - acc: 0.8951 - val_loss: 0.3151 - val_acc: 0.9151\n",
      "Epoch 64/150\n",
      "5404/5404 [==============================] - 9s 2ms/step - loss: 0.3584 - acc: 0.8968 - val_loss: 0.2309 - val_acc: 0.9520\n",
      "Epoch 65/150\n",
      "5404/5404 [==============================] - 9s 2ms/step - loss: 0.3408 - acc: 0.9026 - val_loss: 0.2266 - val_acc: 0.9526\n",
      "Epoch 66/150\n",
      "5404/5404 [==============================] - 9s 2ms/step - loss: 0.3297 - acc: 0.9020 - val_loss: 0.2959 - val_acc: 0.9262\n",
      "Epoch 67/150\n",
      "5404/5404 [==============================] - 9s 2ms/step - loss: 0.3446 - acc: 0.8977 - val_loss: 0.2822 - val_acc: 0.9251\n",
      "Epoch 68/150\n",
      "5404/5404 [==============================] - 9s 2ms/step - loss: 0.3323 - acc: 0.9042 - val_loss: 0.3000 - val_acc: 0.9221\n",
      "Epoch 69/150\n",
      "5404/5404 [==============================] - 9s 2ms/step - loss: 0.3741 - acc: 0.8862 - val_loss: 0.2192 - val_acc: 0.9532\n",
      "Epoch 70/150\n",
      "5404/5404 [==============================] - 9s 2ms/step - loss: 0.3541 - acc: 0.8903 - val_loss: 0.2592 - val_acc: 0.9397\n",
      "Epoch 71/150\n",
      "5404/5404 [==============================] - 9s 2ms/step - loss: 0.3540 - acc: 0.8944 - val_loss: 0.2329 - val_acc: 0.9526\n",
      "Epoch 72/150\n",
      "5404/5404 [==============================] - 9s 2ms/step - loss: 0.3312 - acc: 0.9090 - val_loss: 0.2661 - val_acc: 0.9362\n"
     ]
    },
    {
     "data": {
      "image/png": "[encoded data removed]",
      "text/plain": [
       "<Figure size 792x288 with 2 Axes>"
      ]
     },
     "metadata": {
      "needs_background": "light"
     },
     "output_type": "display_data"
    }
   ],
   "source": [
    "%matplotlib inline\n",
    "from keras.utils import multi_gpu_model\n",
    "\n",
    "num_epochs = 150\n",
    "\n",
    "result_dir=''\n",
    "# training args\n",
    "lr = 0.001\n",
    "lr_decay = 0.\n",
    "\n",
    "num_trials = 1\n",
    "patience = 10\n",
    "store_models = True\n",
    "\n",
    "best_epoch_acc = []\n",
    "\n",
    "\n",
    "for i in range(num_trials):\n",
    "    # init model\n",
    "    model = SixtyFourNet(drop_rate=0.3, weight_dcay=0.01, input_shape=X_train_x.shape)\n",
    "    model=multi_gpu_model(model,2)\n",
    "\n",
    "    opti = Adam(lr=lr, decay=lr_decay)\n",
    "    model.compile(loss='binary_crossentropy', optimizer=opti, metrics=['accuracy'])\n",
    "    \n",
    "    #callbacks\n",
    "    earlystopping = EarlyStopping(monitor='val_loss', min_delta=0, patience=patience, verbose=0, mode='auto')\n",
    "    model_checkpoint = ModelCheckpoint(os.path.join(result_dir, \"model_adcn_x_trial_%i.h5\" %i), monitor='val_acc', verbose=0, save_best_only=True, mode='max')\n",
    "\n",
    "    if store_models:\n",
    "        callbacks = [earlystopping, model_checkpoint]\n",
    "    else:\n",
    "        callbacks = [earlystopping]\n",
    "    \n",
    "    history = model.fit(\n",
    "        X_train_x,\n",
    "        y_train_x,\n",
    "        epochs=num_epochs,\n",
    "        batch_size=b,\n",
    "        validation_data=(X_test_x,y_test_x),\n",
    "        callbacks=callbacks,\n",
    "        shuffle=True\n",
    "    )\n",
    "    \n",
    "    training_time = time.time() - start_time\n",
    "    # Plot training curves\n",
    "    plt.figure(figsize=(11, 4))\n",
    "    plt.subplot(1, 2, 1)\n",
    "    plt.plot(history.history[\"loss\"])\n",
    "    plt.plot(history.history[\"val_loss\"])\n",
    "    plt.legend([\"Train\", \"Test\"])\n",
    "    plt.title(\"Loss\")\n",
    "    plt.subplot(1, 2, 2)\n",
    "    plt.plot(history.history[\"acc\"])\n",
    "    plt.plot(history.history[\"val_acc\"])\n",
    "    plt.legend([\"Train\", \"Test\"])\n",
    "    plt.title(\"Accuracy\")\n",
    "    plt.show()    \n",
    "    # Evaluation\n",
    "\n",
    "    y_pred_x = model.predict(X_test_x, batch_size=1)\n",
    "\n",
    "    \n",
    "    # Store results\n",
    "    best_epoch = np.argmax(history.history[\"val_acc\"])\n",
    "    best_epoch_acc.append(history.history[\"val_acc\"][best_epoch])"
   ]
  },
  {
   "cell_type": "code",
   "execution_count": 21,
   "metadata": {},
   "outputs": [
    {
     "name": "stdout",
     "output_type": "stream",
     "text": [
      "0.936768149882904 0.9355971896955504\n"
     ]
    }
   ],
   "source": [
    "sens0 = sensitivity(y_test_x[:,0], (y_pred_x[:,0]>0.5)*1)\n",
    "sens1 = sensitivity(y_test_x[:,1], (y_pred_x[:,1]>0.5)*1)\n",
    "# sens2 = sensitivity(y_test[:,2], (y_pred[:,2]>0.5)*1)\n",
    "# sens3 = sensitivity(y_test[:,3], (y_pred[:,3]>0.5)*1)\n",
    "# sens4 = sensitivity(y_test[:,4], (y_pred[:,4]>0.5)*1)\n",
    "# sens5 = sensitivity(y_test[:,5], (y_pred[:,5]>0.5)*1)\n",
    "print(sens0,sens1)"
   ]
  },
  {
   "cell_type": "code",
   "execution_count": 22,
   "metadata": {},
   "outputs": [
    {
     "name": "stdout",
     "output_type": "stream",
     "text": [
      "0.936768149882904 0.9355971896955504\n"
     ]
    },
    {
     "name": "stderr",
     "output_type": "stream",
     "text": [
      "/usr/local/lib/python3.5/dist-packages/sklearn/metrics/classification.py:1052: UserWarning: Note that pos_label (set to 0) is ignored when average != 'binary' (got 'weighted'). You may use labels=[pos_label] to specify a single positive class.\n",
      "  % (pos_label, average), UserWarning)\n"
     ]
    }
   ],
   "source": [
    "sens0 = specificity(y_test_x[:,0], (y_pred_x[:,0]>0.5)*1)\n",
    "sens1 = specificity(y_test_x[:,1], (y_pred_x[:,1]>0.5)*1)\n",
    "# sens2 = specificity(y_test[:,2], (y_pred[:,2]>0.5)*1)\n",
    "# sens3 = specificity(y_test[:,3], (y_pred[:,3]>0.5)*1)\n",
    "# sens4 = specificity(y_test[:,4], (y_pred[:,4]>0.5)*1)\n",
    "# sens5 = specificity(y_test[:,5], (y_pred[:,5]>0.5)*1)\n",
    "print(sens0,sens1)"
   ]
  },
  {
   "cell_type": "code",
   "execution_count": 23,
   "metadata": {},
   "outputs": [],
   "source": [
    "# model.summary()"
   ]
  },
  {
   "cell_type": "code",
   "execution_count": 24,
   "metadata": {},
   "outputs": [],
   "source": [
    "# # sens=model.evaluate(X_train, y_pred, verbose=0)\n",
    "# import keras\n",
    "# keras.metrics.categorical_accuracy(y_train, y_pred.reshape(3418,2))\n",
    "\n",
    "# # categorical_accuracy(y_true, y_pred)\n"
   ]
  },
  {
   "cell_type": "code",
   "execution_count": 25,
   "metadata": {},
   "outputs": [
    {
     "name": "stdout",
     "output_type": "stream",
     "text": [
      "0.936768149882904\n",
      "0.9355971896955504\n"
     ]
    }
   ],
   "source": [
    "## acc \n",
    "for i in range(2):\n",
    "    print(np.mean(y_test_x[:,i]==((y_pred_x>=0.5)[:,i])*1))"
   ]
  },
  {
   "cell_type": "code",
   "execution_count": 26,
   "metadata": {},
   "outputs": [
    {
     "name": "stdout",
     "output_type": "stream",
     "text": [
      "0.9125412541254125\n",
      "0.9959677419354839\n"
     ]
    }
   ],
   "source": [
    "##tp\n",
    "for i in range(2):\n",
    "    print(np.sum((y_pred_x[:,i]>=0.5)*1+y_test_x[:,i]==2)/np.sum(y_test_x[:,i]==1))"
   ]
  },
  {
   "cell_type": "code",
   "execution_count": 27,
   "metadata": {},
   "outputs": [
    {
     "name": "stdout",
     "output_type": "stream",
     "text": [
      "0.9981949458483754\n",
      "0.8205980066445183\n"
     ]
    }
   ],
   "source": [
    "##precision\n",
    "\n",
    "for i in range(2):\n",
    "    print(np.sum((y_pred_x[:,i]>=0.5)*1+y_test_x[:,i]==2)/np.sum((y_pred_x[:,i]>=0.5)*1==1))"
   ]
  },
  {
   "cell_type": "markdown",
   "metadata": {},
   "source": [
    "# y_axis"
   ]
  },
  {
   "cell_type": "code",
   "execution_count": 26,
   "metadata": {},
   "outputs": [],
   "source": [
    "from keras.utils import np_utils\n",
    "from sklearn.model_selection import train_test_split, KFold, cross_val_score\n",
    "from sklearn.preprocessing import LabelEncoder\n",
    "encoder = LabelEncoder()\n",
    "encoded_Y_y = encoder.fit_transform(y_train_y)\n",
    "encoded_Y_test_y = encoder.fit_transform(y_test_y)\n",
    "# convert integers to dummy variables (one hot encoding)\n",
    "y_train_y = np_utils.to_categorical(encoded_Y_y)\n",
    "y_test_y = np_utils.to_categorical(encoded_Y_test_y)"
   ]
  },
  {
   "cell_type": "code",
   "execution_count": 27,
   "metadata": {},
   "outputs": [
    {
     "name": "stdout",
     "output_type": "stream",
     "text": [
      "Train on 5404 samples, validate on 854 samples\n",
      "Epoch 1/150\n",
      "5404/5404 [==============================] - 9s 2ms/step - loss: 1.2841 - acc: 0.5148 - val_loss: 0.9894 - val_acc: 0.7108\n",
      "Epoch 2/150\n",
      "5404/5404 [==============================] - 8s 2ms/step - loss: 1.0192 - acc: 0.5575 - val_loss: 0.9476 - val_acc: 0.6434\n",
      "Epoch 3/150\n",
      "5404/5404 [==============================] - 8s 2ms/step - loss: 0.9140 - acc: 0.6163 - val_loss: 0.8814 - val_acc: 0.6358\n",
      "Epoch 4/150\n",
      "5404/5404 [==============================] - 8s 2ms/step - loss: 0.8164 - acc: 0.6751 - val_loss: 0.6854 - val_acc: 0.7705\n",
      "Epoch 5/150\n",
      "5404/5404 [==============================] - 8s 2ms/step - loss: 0.7542 - acc: 0.6918 - val_loss: 0.6757 - val_acc: 0.7576\n",
      "Epoch 6/150\n",
      "5404/5404 [==============================] - 8s 2ms/step - loss: 0.6835 - acc: 0.7322 - val_loss: 0.6337 - val_acc: 0.7605\n",
      "Epoch 7/150\n",
      "5404/5404 [==============================] - 8s 2ms/step - loss: 0.6394 - acc: 0.7461 - val_loss: 0.7138 - val_acc: 0.6838\n",
      "Epoch 8/150\n",
      "5404/5404 [==============================] - 8s 2ms/step - loss: 0.5977 - acc: 0.7593 - val_loss: 0.6303 - val_acc: 0.7348\n",
      "Epoch 9/150\n",
      "5404/5404 [==============================] - 8s 2ms/step - loss: 0.5482 - acc: 0.7855 - val_loss: 0.4672 - val_acc: 0.8390\n",
      "Epoch 10/150\n",
      "5404/5404 [==============================] - 8s 1ms/step - loss: 0.5267 - acc: 0.7934 - val_loss: 0.5187 - val_acc: 0.8056\n",
      "Epoch 11/150\n",
      "5404/5404 [==============================] - 8s 1ms/step - loss: 0.5040 - acc: 0.8039 - val_loss: 0.5178 - val_acc: 0.7863\n",
      "Epoch 12/150\n",
      "5404/5404 [==============================] - 8s 2ms/step - loss: 0.5016 - acc: 0.8033 - val_loss: 0.4665 - val_acc: 0.8349\n",
      "Epoch 13/150\n",
      "5404/5404 [==============================] - 8s 2ms/step - loss: 0.4678 - acc: 0.8261 - val_loss: 0.5828 - val_acc: 0.7541\n",
      "Epoch 14/150\n",
      "5404/5404 [==============================] - 8s 2ms/step - loss: 0.4615 - acc: 0.8212 - val_loss: 0.3736 - val_acc: 0.8946\n",
      "Epoch 15/150\n",
      "5404/5404 [==============================] - 8s 2ms/step - loss: 0.4380 - acc: 0.8372 - val_loss: 0.4797 - val_acc: 0.8203\n",
      "Epoch 16/150\n",
      "5404/5404 [==============================] - 8s 2ms/step - loss: 0.4349 - acc: 0.8392 - val_loss: 0.4650 - val_acc: 0.8273\n",
      "Epoch 17/150\n",
      "5404/5404 [==============================] - 8s 2ms/step - loss: 0.4237 - acc: 0.8469 - val_loss: 0.3189 - val_acc: 0.9186\n",
      "Epoch 18/150\n",
      "5404/5404 [==============================] - 8s 2ms/step - loss: 0.4101 - acc: 0.8516 - val_loss: 0.4019 - val_acc: 0.8642\n",
      "Epoch 19/150\n",
      "5404/5404 [==============================] - 8s 2ms/step - loss: 0.3860 - acc: 0.8640 - val_loss: 0.5114 - val_acc: 0.8085\n",
      "Epoch 20/150\n",
      "5404/5404 [==============================] - 8s 2ms/step - loss: 0.3881 - acc: 0.8639 - val_loss: 0.3539 - val_acc: 0.8958\n",
      "Epoch 21/150\n",
      "5404/5404 [==============================] - 8s 2ms/step - loss: 0.3625 - acc: 0.8735 - val_loss: 0.2853 - val_acc: 0.9274\n",
      "Epoch 22/150\n",
      "5404/5404 [==============================] - 8s 2ms/step - loss: 0.3509 - acc: 0.8876 - val_loss: 0.3469 - val_acc: 0.9011\n",
      "Epoch 23/150\n",
      "5404/5404 [==============================] - 8s 2ms/step - loss: 0.3407 - acc: 0.8901 - val_loss: 0.2598 - val_acc: 0.9438\n",
      "Epoch 24/150\n",
      "5404/5404 [==============================] - 8s 2ms/step - loss: 0.3347 - acc: 0.8944 - val_loss: 0.2629 - val_acc: 0.9379\n",
      "Epoch 25/150\n",
      "5404/5404 [==============================] - 8s 2ms/step - loss: 0.3380 - acc: 0.8895 - val_loss: 0.2999 - val_acc: 0.9268\n",
      "Epoch 26/150\n",
      "5404/5404 [==============================] - 8s 2ms/step - loss: 0.3157 - acc: 0.9044 - val_loss: 0.2248 - val_acc: 0.9619\n",
      "Epoch 27/150\n",
      "5404/5404 [==============================] - 8s 2ms/step - loss: 0.3241 - acc: 0.8983 - val_loss: 0.3214 - val_acc: 0.9145\n",
      "Epoch 28/150\n",
      "5404/5404 [==============================] - 8s 1ms/step - loss: 0.3155 - acc: 0.9059 - val_loss: 0.2922 - val_acc: 0.9262\n",
      "Epoch 29/150\n",
      "5404/5404 [==============================] - 8s 2ms/step - loss: 0.2864 - acc: 0.9157 - val_loss: 0.2166 - val_acc: 0.9602\n",
      "Epoch 30/150\n",
      "5404/5404 [==============================] - 8s 2ms/step - loss: 0.3135 - acc: 0.9038 - val_loss: 0.2449 - val_acc: 0.9479\n",
      "Epoch 31/150\n",
      "5404/5404 [==============================] - 8s 2ms/step - loss: 0.2940 - acc: 0.9172 - val_loss: 0.2020 - val_acc: 0.9666\n",
      "Epoch 32/150\n",
      "5404/5404 [==============================] - 8s 2ms/step - loss: 0.3189 - acc: 0.9076 - val_loss: 0.2286 - val_acc: 0.9537\n",
      "Epoch 33/150\n",
      "5404/5404 [==============================] - 8s 2ms/step - loss: 0.3202 - acc: 0.9067 - val_loss: 0.2476 - val_acc: 0.9496\n",
      "Epoch 34/150\n",
      "5404/5404 [==============================] - 8s 2ms/step - loss: 0.2899 - acc: 0.9159 - val_loss: 0.3541 - val_acc: 0.9040\n",
      "Epoch 35/150\n",
      "5404/5404 [==============================] - 8s 2ms/step - loss: 0.2762 - acc: 0.9244 - val_loss: 0.2716 - val_acc: 0.9315\n",
      "Epoch 36/150\n",
      "5404/5404 [==============================] - 8s 2ms/step - loss: 0.2850 - acc: 0.9181 - val_loss: 0.1979 - val_acc: 0.9666\n",
      "Epoch 37/150\n",
      "5404/5404 [==============================] - 8s 2ms/step - loss: 0.2716 - acc: 0.9278 - val_loss: 0.2543 - val_acc: 0.9508\n",
      "Epoch 38/150\n",
      "5404/5404 [==============================] - 8s 2ms/step - loss: 0.2907 - acc: 0.9221 - val_loss: 0.2013 - val_acc: 0.9660\n",
      "Epoch 39/150\n",
      "5404/5404 [==============================] - 8s 2ms/step - loss: 0.2708 - acc: 0.9260 - val_loss: 0.2691 - val_acc: 0.9327\n",
      "Epoch 40/150\n",
      "5404/5404 [==============================] - 8s 2ms/step - loss: 0.2640 - acc: 0.9329 - val_loss: 0.2305 - val_acc: 0.9602\n",
      "Epoch 41/150\n",
      "5404/5404 [==============================] - 8s 2ms/step - loss: 0.2455 - acc: 0.9392 - val_loss: 0.1993 - val_acc: 0.9655\n",
      "Epoch 42/150\n",
      "5404/5404 [==============================] - 8s 2ms/step - loss: 0.2467 - acc: 0.9366 - val_loss: 0.1977 - val_acc: 0.9655\n",
      "Epoch 43/150\n",
      "5404/5404 [==============================] - 8s 2ms/step - loss: 0.2370 - acc: 0.9383 - val_loss: 0.1673 - val_acc: 0.9807\n",
      "Epoch 44/150\n",
      "5404/5404 [==============================] - 8s 2ms/step - loss: 0.2543 - acc: 0.9345 - val_loss: 0.1922 - val_acc: 0.9643\n",
      "Epoch 45/150\n",
      "5404/5404 [==============================] - 9s 2ms/step - loss: 0.2437 - acc: 0.9404 - val_loss: 0.2431 - val_acc: 0.9578\n",
      "Epoch 46/150\n",
      "5404/5404 [==============================] - 8s 2ms/step - loss: 0.2430 - acc: 0.9373 - val_loss: 0.2495 - val_acc: 0.9385\n",
      "Epoch 47/150\n",
      "5404/5404 [==============================] - 8s 2ms/step - loss: 0.2450 - acc: 0.9391 - val_loss: 0.1776 - val_acc: 0.9748\n",
      "Epoch 48/150\n",
      "5404/5404 [==============================] - 8s 2ms/step - loss: 0.2643 - acc: 0.9295 - val_loss: 0.1876 - val_acc: 0.9707\n",
      "Epoch 49/150\n",
      "5404/5404 [==============================] - 9s 2ms/step - loss: 0.2406 - acc: 0.9406 - val_loss: 0.1971 - val_acc: 0.9672\n",
      "Epoch 50/150\n",
      "5404/5404 [==============================] - 8s 2ms/step - loss: 0.2381 - acc: 0.9399 - val_loss: 0.1966 - val_acc: 0.9637\n",
      "Epoch 51/150\n",
      "5404/5404 [==============================] - 8s 2ms/step - loss: 0.2410 - acc: 0.9418 - val_loss: 0.1786 - val_acc: 0.9766\n",
      "Epoch 52/150\n",
      "5404/5404 [==============================] - 8s 2ms/step - loss: 0.2692 - acc: 0.9290 - val_loss: 0.2382 - val_acc: 0.9485\n",
      "Epoch 53/150\n",
      "5404/5404 [==============================] - 8s 2ms/step - loss: 0.2572 - acc: 0.9347 - val_loss: 0.1887 - val_acc: 0.9625\n"
     ]
    },
    {
     "data": {
      "image/png": "[encoded data removed]",
      "text/plain": [
       "<Figure size 792x288 with 2 Axes>"
      ]
     },
     "metadata": {
      "needs_background": "light"
     },
     "output_type": "display_data"
    }
   ],
   "source": [
    "%matplotlib inline\n",
    "from keras.utils import multi_gpu_model\n",
    "\n",
    "num_epochs = 150\n",
    "\n",
    "result_dir=''\n",
    "# training args\n",
    "lr = 0.001\n",
    "lr_decay = 0.\n",
    "\n",
    "num_trials = 1\n",
    "patience = 10\n",
    "store_models = True\n",
    "\n",
    "best_epoch_acc = []\n",
    "# final_epoch_sens0 = []\n",
    "# final_epoch_sens1 = []\n",
    "# final_epoch_sens2 = []\n",
    "# final_epoch_sens3 = []\n",
    "# final_epoch_sens4 = []\n",
    "# final_epoch_sens5 = []\n",
    "\n",
    "# final_epoch_spec = []\n",
    "\n",
    "for i in range(num_trials):\n",
    "    # init model\n",
    "    model = SixtyFourNet(drop_rate=0.3, weight_dcay=0.01, input_shape=X_train_y.shape)\n",
    "    model=multi_gpu_model(model,2)\n",
    "\n",
    "    opti = Adam(lr=lr, decay=lr_decay)\n",
    "    model.compile(loss='binary_crossentropy', optimizer=opti, metrics=['accuracy'])\n",
    "    \n",
    "    #callbacks\n",
    "    earlystopping = EarlyStopping(monitor='val_loss', min_delta=0, patience=patience, verbose=0, mode='auto')\n",
    "    model_checkpoint = ModelCheckpoint(os.path.join(result_dir, \"model_adcn_y_trial_%i.h5\" %i), monitor='val_acc', verbose=0, save_best_only=True, mode='max')\n",
    "\n",
    "    if store_models:\n",
    "        callbacks = [earlystopping, model_checkpoint]\n",
    "    else:\n",
    "        callbacks = [earlystopping]\n",
    "    \n",
    "    history = model.fit(\n",
    "        X_train_y,\n",
    "        y_train_y,\n",
    "        epochs=num_epochs,\n",
    "        batch_size=b,\n",
    "        validation_data=(X_test_y,y_test_y),\n",
    "        callbacks=callbacks,\n",
    "        shuffle=True\n",
    "    )\n",
    "    \n",
    "    training_time = time.time() - start_time\n",
    "    # Plot training curves\n",
    "    plt.figure(figsize=(11, 4))\n",
    "    plt.subplot(1, 2, 1)\n",
    "    plt.plot(history.history[\"loss\"])\n",
    "    plt.plot(history.history[\"val_loss\"])\n",
    "    plt.legend([\"Train\", \"Test\"])\n",
    "    plt.title(\"Loss\")\n",
    "    plt.subplot(1, 2, 2)\n",
    "    plt.plot(history.history[\"acc\"])\n",
    "    plt.plot(history.history[\"val_acc\"])\n",
    "    plt.legend([\"Train\", \"Test\"])\n",
    "    plt.title(\"Accuracy\")\n",
    "    plt.show()    \n",
    "    # Evaluation\n",
    "\n",
    "    y_pred_y = model.predict(X_test_y, batch_size=1)\n",
    "\n",
    "\n",
    "    # Store results\n",
    "    best_epoch = np.argmax(history.history[\"val_acc\"])\n",
    "    best_epoch_acc.append(history.history[\"val_acc\"][best_epoch])\n"
   ]
  },
  {
   "cell_type": "code",
   "execution_count": 30,
   "metadata": {},
   "outputs": [
    {
     "name": "stdout",
     "output_type": "stream",
     "text": [
      "0.9625292740046838\n",
      "0.9625292740046838\n"
     ]
    }
   ],
   "source": [
    "y_pred_y = model.predict(X_test_y, batch_size=1)\n",
    "## acc \n",
    "for i in range(2):\n",
    "    print(np.mean(y_test_y[:,i]==((y_pred_y>=0.5)[:,i])*1))"
   ]
  },
  {
   "cell_type": "code",
   "execution_count": 31,
   "metadata": {},
   "outputs": [
    {
     "name": "stdout",
     "output_type": "stream",
     "text": [
      "0.9587458745874587\n",
      "0.9717741935483871\n"
     ]
    }
   ],
   "source": [
    "##tp\n",
    "for i in range(2):\n",
    "    print(np.sum((y_pred_y[:,i]>=0.5)*1+y_test_y[:,i]==2)/np.sum(y_test_y[:,i]==1))"
   ]
  },
  {
   "cell_type": "code",
   "execution_count": 32,
   "metadata": {},
   "outputs": [
    {
     "name": "stdout",
     "output_type": "stream",
     "text": [
      "0.9880952380952381\n",
      "0.9060150375939849\n"
     ]
    }
   ],
   "source": [
    "##precision\n",
    "\n",
    "for i in range(2):\n",
    "    print(np.sum((y_pred_y[:,i]>=0.5)*1+y_test_y[:,i]==2)/np.sum((y_pred_y[:,i]>=0.5)*1==1))"
   ]
  },
  {
   "cell_type": "markdown",
   "metadata": {},
   "source": [
    "# z axis"
   ]
  },
  {
   "cell_type": "code",
   "execution_count": 33,
   "metadata": {},
   "outputs": [],
   "source": [
    "from keras.utils import np_utils\n",
    "from sklearn.model_selection import train_test_split, KFold, cross_val_score\n",
    "from sklearn.preprocessing import LabelEncoder\n",
    "encoder = LabelEncoder()\n",
    "encoded_Y_z = encoder.fit_transform(y_train_z)\n",
    "encoded_Y_test_z = encoder.fit_transform(y_test_z)\n",
    "# convert integers to dummy variables (one hot encoding)\n",
    "y_train_z = np_utils.to_categorical(encoded_Y_z)\n",
    "y_test_z = np_utils.to_categorical(encoded_Y_test_z)"
   ]
  },
  {
   "cell_type": "code",
   "execution_count": 34,
   "metadata": {},
   "outputs": [
    {
     "name": "stdout",
     "output_type": "stream",
     "text": [
      "Train on 5404 samples, validate on 854 samples\n",
      "Epoch 1/150\n",
      "5404/5404 [==============================] - 9s 2ms/step - loss: 1.3818 - acc: 0.5188 - val_loss: 1.1183 - val_acc: 0.4994\n",
      "Epoch 2/150\n",
      "5404/5404 [==============================] - 9s 2ms/step - loss: 1.0299 - acc: 0.5564 - val_loss: 1.0768 - val_acc: 0.4819\n",
      "Epoch 3/150\n",
      "5404/5404 [==============================] - 9s 2ms/step - loss: 0.9569 - acc: 0.5787 - val_loss: 1.0268 - val_acc: 0.4344\n",
      "Epoch 4/150\n",
      "5404/5404 [==============================] - 9s 2ms/step - loss: 0.8850 - acc: 0.6037 - val_loss: 0.9470 - val_acc: 0.4309\n",
      "Epoch 5/150\n",
      "5404/5404 [==============================] - 9s 2ms/step - loss: 0.8297 - acc: 0.6188 - val_loss: 0.9478 - val_acc: 0.4186\n",
      "Epoch 6/150\n",
      "5404/5404 [==============================] - 8s 2ms/step - loss: 0.7727 - acc: 0.6493 - val_loss: 0.8590 - val_acc: 0.5234\n",
      "Epoch 7/150\n",
      "5404/5404 [==============================] - 8s 2ms/step - loss: 0.7273 - acc: 0.6638 - val_loss: 0.9603 - val_acc: 0.4139\n",
      "Epoch 8/150\n",
      "5404/5404 [==============================] - 8s 2ms/step - loss: 0.6861 - acc: 0.6877 - val_loss: 0.8939 - val_acc: 0.5029\n",
      "Epoch 9/150\n",
      "5404/5404 [==============================] - 8s 2ms/step - loss: 0.6431 - acc: 0.7098 - val_loss: 0.7161 - val_acc: 0.6417\n",
      "Epoch 10/150\n",
      "5404/5404 [==============================] - 8s 2ms/step - loss: 0.6054 - acc: 0.7301 - val_loss: 0.7117 - val_acc: 0.6335\n",
      "Epoch 11/150\n",
      "5404/5404 [==============================] - 9s 2ms/step - loss: 0.5867 - acc: 0.7371 - val_loss: 0.6083 - val_acc: 0.7149\n",
      "Epoch 12/150\n",
      "5404/5404 [==============================] - 8s 2ms/step - loss: 0.5753 - acc: 0.7378 - val_loss: 0.4798 - val_acc: 0.8167\n",
      "Epoch 13/150\n",
      "5404/5404 [==============================] - 9s 2ms/step - loss: 0.5506 - acc: 0.7525 - val_loss: 0.4815 - val_acc: 0.8126\n",
      "Epoch 14/150\n",
      "5404/5404 [==============================] - 9s 2ms/step - loss: 0.5472 - acc: 0.7528 - val_loss: 0.7082 - val_acc: 0.6329\n",
      "Epoch 15/150\n",
      "5404/5404 [==============================] - 9s 2ms/step - loss: 0.5254 - acc: 0.7703 - val_loss: 0.6647 - val_acc: 0.6674\n",
      "Epoch 16/150\n",
      "5404/5404 [==============================] - 9s 2ms/step - loss: 0.5130 - acc: 0.7777 - val_loss: 0.4700 - val_acc: 0.8214\n",
      "Epoch 17/150\n",
      "5404/5404 [==============================] - 8s 2ms/step - loss: 0.5140 - acc: 0.7729 - val_loss: 0.5781 - val_acc: 0.7406\n",
      "Epoch 18/150\n",
      "5404/5404 [==============================] - 8s 2ms/step - loss: 0.5046 - acc: 0.7790 - val_loss: 0.4290 - val_acc: 0.8261\n",
      "Epoch 19/150\n",
      "5404/5404 [==============================] - 9s 2ms/step - loss: 0.5012 - acc: 0.7844 - val_loss: 0.5456 - val_acc: 0.7576\n",
      "Epoch 20/150\n",
      "5404/5404 [==============================] - 9s 2ms/step - loss: 0.4856 - acc: 0.7916 - val_loss: 0.5374 - val_acc: 0.7793\n",
      "Epoch 21/150\n",
      "5404/5404 [==============================] - 9s 2ms/step - loss: 0.4796 - acc: 0.7990 - val_loss: 0.6987 - val_acc: 0.6434\n",
      "Epoch 22/150\n",
      "5404/5404 [==============================] - 8s 2ms/step - loss: 0.4643 - acc: 0.8101 - val_loss: 0.4269 - val_acc: 0.8437\n",
      "Epoch 23/150\n",
      "5404/5404 [==============================] - 8s 2ms/step - loss: 0.4646 - acc: 0.8051 - val_loss: 0.4377 - val_acc: 0.8425\n",
      "Epoch 24/150\n",
      "5404/5404 [==============================] - 8s 2ms/step - loss: 0.4629 - acc: 0.8088 - val_loss: 0.4393 - val_acc: 0.8372\n",
      "Epoch 25/150\n",
      "5404/5404 [==============================] - 9s 2ms/step - loss: 0.4531 - acc: 0.8188 - val_loss: 0.4206 - val_acc: 0.8607\n",
      "Epoch 26/150\n",
      "5404/5404 [==============================] - 9s 2ms/step - loss: 0.4387 - acc: 0.8309 - val_loss: 0.3566 - val_acc: 0.8835\n",
      "Epoch 27/150\n",
      "5404/5404 [==============================] - 8s 2ms/step - loss: 0.4411 - acc: 0.8286 - val_loss: 0.3565 - val_acc: 0.8811\n",
      "Epoch 28/150\n",
      "5404/5404 [==============================] - 9s 2ms/step - loss: 0.4273 - acc: 0.8321 - val_loss: 0.4348 - val_acc: 0.8407\n",
      "Epoch 29/150\n",
      "5404/5404 [==============================] - 9s 2ms/step - loss: 0.4308 - acc: 0.8334 - val_loss: 0.3890 - val_acc: 0.8835\n",
      "Epoch 30/150\n",
      "5404/5404 [==============================] - 9s 2ms/step - loss: 0.4054 - acc: 0.8482 - val_loss: 0.3657 - val_acc: 0.8934\n",
      "Epoch 31/150\n",
      "5404/5404 [==============================] - 8s 2ms/step - loss: 0.4181 - acc: 0.8391 - val_loss: 0.5242 - val_acc: 0.8033\n",
      "Epoch 32/150\n",
      "5404/5404 [==============================] - 9s 2ms/step - loss: 0.3974 - acc: 0.8476 - val_loss: 0.3211 - val_acc: 0.9005\n",
      "Epoch 33/150\n",
      "5404/5404 [==============================] - 9s 2ms/step - loss: 0.4007 - acc: 0.8550 - val_loss: 0.5868 - val_acc: 0.7582\n",
      "Epoch 34/150\n",
      "5404/5404 [==============================] - 8s 2ms/step - loss: 0.3954 - acc: 0.8556 - val_loss: 0.4936 - val_acc: 0.8220\n",
      "Epoch 35/150\n",
      "5404/5404 [==============================] - 9s 2ms/step - loss: 0.3818 - acc: 0.8582 - val_loss: 0.3091 - val_acc: 0.9104\n",
      "Epoch 36/150\n",
      "5404/5404 [==============================] - 8s 2ms/step - loss: 0.3883 - acc: 0.8593 - val_loss: 0.3296 - val_acc: 0.9110\n",
      "Epoch 37/150\n",
      "5404/5404 [==============================] - 9s 2ms/step - loss: 0.3866 - acc: 0.8550 - val_loss: 0.3637 - val_acc: 0.8817\n",
      "Epoch 38/150\n",
      "5404/5404 [==============================] - 8s 2ms/step - loss: 0.3715 - acc: 0.8705 - val_loss: 0.3823 - val_acc: 0.8741\n",
      "Epoch 39/150\n",
      "5404/5404 [==============================] - 9s 2ms/step - loss: 0.3590 - acc: 0.8756 - val_loss: 0.6111 - val_acc: 0.7553\n",
      "Epoch 40/150\n",
      "5404/5404 [==============================] - 8s 2ms/step - loss: 0.3623 - acc: 0.8739 - val_loss: 0.4553 - val_acc: 0.8361\n",
      "Epoch 41/150\n",
      "5404/5404 [==============================] - 9s 2ms/step - loss: 0.3607 - acc: 0.8795 - val_loss: 0.3485 - val_acc: 0.9034\n",
      "Epoch 42/150\n",
      "5404/5404 [==============================] - 9s 2ms/step - loss: 0.3599 - acc: 0.8759 - val_loss: 0.2958 - val_acc: 0.9245\n",
      "Epoch 43/150\n",
      "5404/5404 [==============================] - 8s 2ms/step - loss: 0.3544 - acc: 0.8790 - val_loss: 0.5264 - val_acc: 0.7986\n",
      "Epoch 44/150\n",
      "5404/5404 [==============================] - 9s 2ms/step - loss: 0.3727 - acc: 0.8714 - val_loss: 0.4147 - val_acc: 0.8478\n",
      "Epoch 45/150\n",
      "5404/5404 [==============================] - 9s 2ms/step - loss: 0.3352 - acc: 0.8892 - val_loss: 0.3185 - val_acc: 0.9133\n",
      "Epoch 46/150\n",
      "5404/5404 [==============================] - 9s 2ms/step - loss: 0.3482 - acc: 0.8855 - val_loss: 0.3587 - val_acc: 0.8923\n",
      "Epoch 47/150\n",
      "5404/5404 [==============================] - 8s 2ms/step - loss: 0.3347 - acc: 0.8951 - val_loss: 0.3659 - val_acc: 0.8911\n",
      "Epoch 48/150\n",
      "5404/5404 [==============================] - 9s 2ms/step - loss: 0.3357 - acc: 0.8945 - val_loss: 0.3408 - val_acc: 0.8888\n",
      "Epoch 49/150\n",
      "5404/5404 [==============================] - 9s 2ms/step - loss: 0.3264 - acc: 0.8955 - val_loss: 0.2537 - val_acc: 0.9362\n",
      "Epoch 50/150\n",
      "5404/5404 [==============================] - 9s 2ms/step - loss: 0.3485 - acc: 0.8861 - val_loss: 0.3966 - val_acc: 0.8800\n",
      "Epoch 51/150\n",
      "5404/5404 [==============================] - 8s 2ms/step - loss: 0.3226 - acc: 0.8947 - val_loss: 0.3274 - val_acc: 0.9087\n",
      "Epoch 52/150\n",
      "5404/5404 [==============================] - 8s 2ms/step - loss: 0.3473 - acc: 0.8886 - val_loss: 0.4279 - val_acc: 0.8554\n",
      "Epoch 53/150\n",
      "5404/5404 [==============================] - 8s 2ms/step - loss: 0.3265 - acc: 0.8959 - val_loss: 0.4253 - val_acc: 0.8648\n",
      "Epoch 54/150\n",
      "5404/5404 [==============================] - 9s 2ms/step - loss: 0.3096 - acc: 0.9029 - val_loss: 0.3858 - val_acc: 0.8759\n",
      "Epoch 55/150\n",
      "5404/5404 [==============================] - 8s 2ms/step - loss: 0.3326 - acc: 0.8965 - val_loss: 0.3993 - val_acc: 0.8852\n",
      "Epoch 56/150\n",
      "5404/5404 [==============================] - 8s 2ms/step - loss: 0.3340 - acc: 0.8923 - val_loss: 0.4797 - val_acc: 0.8308\n",
      "Epoch 57/150\n",
      "5404/5404 [==============================] - 9s 2ms/step - loss: 0.3140 - acc: 0.9025 - val_loss: 0.2410 - val_acc: 0.9479\n",
      "Epoch 58/150\n",
      "5404/5404 [==============================] - 9s 2ms/step - loss: 0.3140 - acc: 0.9023 - val_loss: 0.3674 - val_acc: 0.8888\n",
      "Epoch 59/150\n",
      "5404/5404 [==============================] - 8s 2ms/step - loss: 0.3213 - acc: 0.8995 - val_loss: 0.4290 - val_acc: 0.8536\n",
      "Epoch 60/150\n",
      "5404/5404 [==============================] - 8s 2ms/step - loss: 0.3090 - acc: 0.9069 - val_loss: 0.3093 - val_acc: 0.9163\n",
      "Epoch 61/150\n",
      "5404/5404 [==============================] - 8s 2ms/step - loss: 0.2934 - acc: 0.9136 - val_loss: 0.2402 - val_acc: 0.9426\n",
      "Epoch 62/150\n",
      "5404/5404 [==============================] - 8s 2ms/step - loss: 0.3125 - acc: 0.9022 - val_loss: 0.2925 - val_acc: 0.9221\n",
      "Epoch 63/150\n",
      "5404/5404 [==============================] - 9s 2ms/step - loss: 0.2949 - acc: 0.9122 - val_loss: 0.2766 - val_acc: 0.9333\n",
      "Epoch 64/150\n",
      "5404/5404 [==============================] - 8s 2ms/step - loss: 0.3174 - acc: 0.9056 - val_loss: 0.3244 - val_acc: 0.9057\n",
      "Epoch 65/150\n",
      "5404/5404 [==============================] - 8s 2ms/step - loss: 0.2859 - acc: 0.9155 - val_loss: 0.3062 - val_acc: 0.9139\n",
      "Epoch 66/150\n",
      "5404/5404 [==============================] - 8s 2ms/step - loss: 0.2965 - acc: 0.9132 - val_loss: 0.2796 - val_acc: 0.9333\n",
      "Epoch 67/150\n",
      "5404/5404 [==============================] - 9s 2ms/step - loss: 0.2875 - acc: 0.9183 - val_loss: 0.2833 - val_acc: 0.9251\n",
      "Epoch 68/150\n",
      "5404/5404 [==============================] - 8s 2ms/step - loss: 0.2937 - acc: 0.9151 - val_loss: 0.2304 - val_acc: 0.9520\n",
      "Epoch 69/150\n",
      "5404/5404 [==============================] - 8s 2ms/step - loss: 0.2914 - acc: 0.9189 - val_loss: 0.3384 - val_acc: 0.9034\n",
      "Epoch 70/150\n",
      "5404/5404 [==============================] - 8s 2ms/step - loss: 0.2903 - acc: 0.9187 - val_loss: 0.3018 - val_acc: 0.9116\n",
      "Epoch 71/150\n",
      "5404/5404 [==============================] - 8s 2ms/step - loss: 0.3060 - acc: 0.9081 - val_loss: 0.2281 - val_acc: 0.9485\n",
      "Epoch 72/150\n",
      "5404/5404 [==============================] - 8s 2ms/step - loss: 0.2792 - acc: 0.9208 - val_loss: 0.4047 - val_acc: 0.8817\n",
      "Epoch 73/150\n",
      "5404/5404 [==============================] - 9s 2ms/step - loss: 0.2966 - acc: 0.9115 - val_loss: 0.3570 - val_acc: 0.8946\n",
      "Epoch 74/150\n",
      "5404/5404 [==============================] - 8s 2ms/step - loss: 0.2957 - acc: 0.9154 - val_loss: 0.2838 - val_acc: 0.9280\n",
      "Epoch 75/150\n",
      "5404/5404 [==============================] - 8s 2ms/step - loss: 0.3059 - acc: 0.9078 - val_loss: 0.2855 - val_acc: 0.9315\n",
      "Epoch 76/150\n",
      "5404/5404 [==============================] - 8s 2ms/step - loss: 0.2980 - acc: 0.9125 - val_loss: 0.3360 - val_acc: 0.9139\n",
      "Epoch 77/150\n",
      "5404/5404 [==============================] - 8s 2ms/step - loss: 0.2889 - acc: 0.9165 - val_loss: 0.2604 - val_acc: 0.9350\n",
      "Epoch 78/150\n",
      "5404/5404 [==============================] - 8s 2ms/step - loss: 0.2848 - acc: 0.9166 - val_loss: 0.2881 - val_acc: 0.9245\n",
      "Epoch 79/150\n",
      "5404/5404 [==============================] - 8s 2ms/step - loss: 0.2824 - acc: 0.9176 - val_loss: 0.2664 - val_acc: 0.9374\n",
      "Epoch 80/150\n",
      "5404/5404 [==============================] - 9s 2ms/step - loss: 0.2781 - acc: 0.9187 - val_loss: 0.2248 - val_acc: 0.9485\n",
      "Epoch 81/150\n",
      "5404/5404 [==============================] - 9s 2ms/step - loss: 0.2629 - acc: 0.9291 - val_loss: 0.2562 - val_acc: 0.9315\n",
      "Epoch 82/150\n",
      "5404/5404 [==============================] - 8s 2ms/step - loss: 0.2668 - acc: 0.9240 - val_loss: 0.3376 - val_acc: 0.9028\n",
      "Epoch 83/150\n",
      "5404/5404 [==============================] - 9s 2ms/step - loss: 0.2652 - acc: 0.9251 - val_loss: 0.3348 - val_acc: 0.9040\n",
      "Epoch 84/150\n",
      "5404/5404 [==============================] - 8s 2ms/step - loss: 0.2775 - acc: 0.9202 - val_loss: 0.2260 - val_acc: 0.9467\n",
      "Epoch 85/150\n",
      "5404/5404 [==============================] - 8s 2ms/step - loss: 0.2829 - acc: 0.9169 - val_loss: 0.4050 - val_acc: 0.8642\n",
      "Epoch 86/150\n",
      "5404/5404 [==============================] - 8s 2ms/step - loss: 0.2678 - acc: 0.9280 - val_loss: 0.2866 - val_acc: 0.9233\n",
      "Epoch 87/150\n",
      "5404/5404 [==============================] - 8s 2ms/step - loss: 0.2601 - acc: 0.9278 - val_loss: 0.2626 - val_acc: 0.9338\n",
      "Epoch 88/150\n",
      "5404/5404 [==============================] - 8s 2ms/step - loss: 0.2558 - acc: 0.9307 - val_loss: 0.2737 - val_acc: 0.9262\n",
      "Epoch 89/150\n",
      "5404/5404 [==============================] - 9s 2ms/step - loss: 0.2592 - acc: 0.9275 - val_loss: 0.3195 - val_acc: 0.9215\n",
      "Epoch 90/150\n",
      "5404/5404 [==============================] - 9s 2ms/step - loss: 0.2744 - acc: 0.9253 - val_loss: 0.2850 - val_acc: 0.9274\n"
     ]
    },
    {
     "data": {
      "image/png": "[encoded data removed]",
      "text/plain": [
       "<Figure size 792x288 with 2 Axes>"
      ]
     },
     "metadata": {
      "needs_background": "light"
     },
     "output_type": "display_data"
    }
   ],
   "source": [
    "%matplotlib inline\n",
    "from keras.utils import multi_gpu_model\n",
    "\n",
    "num_epochs = 150\n",
    "\n",
    "result_dir=''\n",
    "# training args\n",
    "lr = 0.001\n",
    "lr_decay = 0.\n",
    "\n",
    "num_trials = 1\n",
    "patience = 10\n",
    "store_models = True\n",
    "\n",
    "best_epoch_acc = []\n",
    "\n",
    "\n",
    "for i in range(num_trials):\n",
    "    # init model\n",
    "    model = SixtyFourNet(drop_rate=0.3, weight_dcay=0.01, input_shape=X_train_z.shape)\n",
    "    model=multi_gpu_model(model,2)\n",
    "\n",
    "    opti = Adam(lr=lr, decay=lr_decay)\n",
    "    model.compile(loss='binary_crossentropy', optimizer=opti, metrics=['accuracy'])\n",
    "    \n",
    "    #callbacks\n",
    "    earlystopping = EarlyStopping(monitor='val_loss', min_delta=0, patience=patience, verbose=0, mode='auto')\n",
    "    model_checkpoint = ModelCheckpoint(os.path.join(result_dir, \"model_adcn_z_trial_%i.h5\" %i), monitor='val_acc', verbose=0, save_best_only=True, mode='max')\n",
    "\n",
    "    if store_models:\n",
    "        callbacks = [earlystopping, model_checkpoint]\n",
    "    else:\n",
    "        callbacks = [earlystopping]\n",
    "    \n",
    "    history = model.fit(\n",
    "        X_train_z,\n",
    "        y_train_z,\n",
    "        epochs=num_epochs,\n",
    "        batch_size=b,\n",
    "        validation_data=(X_test_z,y_test_z),\n",
    "        callbacks=callbacks,\n",
    "        shuffle=True\n",
    "    )\n",
    "    \n",
    "    training_time = time.time() - start_time\n",
    "    # Plot training curves\n",
    "    plt.figure(figsize=(11, 4))\n",
    "    plt.subplot(1, 2, 1)\n",
    "    plt.plot(history.history[\"loss\"])\n",
    "    plt.plot(history.history[\"val_loss\"])\n",
    "    plt.legend([\"Train\", \"Test\"])\n",
    "    plt.title(\"Loss\")\n",
    "    plt.subplot(1, 2, 2)\n",
    "    plt.plot(history.history[\"acc\"])\n",
    "    plt.plot(history.history[\"val_acc\"])\n",
    "    plt.legend([\"Train\", \"Test\"])\n",
    "    plt.title(\"Accuracy\")\n",
    "    plt.show()    \n",
    "    # Evaluation\n",
    "\n",
    "    y_pred_z = model.predict(X_test_z, batch_size=1)\n",
    "\n",
    "\n",
    "    # Store results\n",
    "    best_epoch = np.argmax(history.history[\"val_acc\"])\n",
    "    best_epoch_acc.append(history.history[\"val_acc\"][best_epoch])\n"
   ]
  },
  {
   "cell_type": "code",
   "execution_count": 35,
   "metadata": {},
   "outputs": [
    {
     "name": "stdout",
     "output_type": "stream",
     "text": [
      "0.927400468384075\n",
      "0.927400468384075\n"
     ]
    }
   ],
   "source": [
    "## acc \n",
    "for i in range(2):\n",
    "    print(np.mean(y_test_z[:,i]==((y_pred_z>=0.5)[:,i])*1))"
   ]
  },
  {
   "cell_type": "code",
   "execution_count": 36,
   "metadata": {},
   "outputs": [
    {
     "name": "stdout",
     "output_type": "stream",
     "text": [
      "0.9026402640264026\n",
      "0.9879032258064516\n"
     ]
    }
   ],
   "source": [
    "##tp\n",
    "for i in range(2):\n",
    "    print(np.sum((y_pred_z[:,i]>=0.5)*1+y_test_z[:,i]==2)/np.sum(y_test_z[:,i]==1))"
   ]
  },
  {
   "cell_type": "code",
   "execution_count": 37,
   "metadata": {},
   "outputs": [
    {
     "name": "stdout",
     "output_type": "stream",
     "text": [
      "0.9945454545454545\n",
      "0.805921052631579\n"
     ]
    }
   ],
   "source": [
    "##precision\n",
    "for i in range(2):\n",
    "    print(np.sum((y_pred_z[:,i]>=0.5)*1+y_test_z[:,i]==2)/np.sum((y_pred_z[:,i]>=0.5)*1==1))"
   ]
  },
  {
   "cell_type": "markdown",
   "metadata": {},
   "source": [
    "# Voting System"
   ]
  },
  {
   "cell_type": "code",
   "execution_count": 42,
   "metadata": {},
   "outputs": [],
   "source": [
    "def init_model(path, finetune=True, up_to=7):\n",
    "    model = load_model(path)\n",
    "    model.load_weights(path)\n",
    "    if finetune:\n",
    "        for layer in model.layers[:up_to]:\n",
    "            layer.trainable = False\n",
    "    return model\n",
    "\n",
    "model_x = init_model(path='model_adcn_x_trial_0.h5', finetune=False, up_to=None)\n",
    "model_y = init_model(path='model_adcn_y_trial_0.h5', finetune=False, up_to=None)\n",
    "model_z = init_model(path='model_adcn_z_trial_0.h5', finetune=False, up_to=None)\n"
   ]
  },
  {
   "cell_type": "code",
   "execution_count": 62,
   "metadata": {},
   "outputs": [],
   "source": [
    "pred_x=model_x.predict(X_test_x)\n",
    "pred_y=model_y.predict(X_test_y)\n",
    "pred_z=model_z.predict(X_test_z)\n"
   ]
  },
  {
   "cell_type": "code",
   "execution_count": 63,
   "metadata": {},
   "outputs": [],
   "source": [
    "pred=((pred_x+pred_y+pred_z)>=1.5)*1"
   ]
  },
  {
   "cell_type": "code",
   "execution_count": 64,
   "metadata": {},
   "outputs": [
    {
     "name": "stdout",
     "output_type": "stream",
     "text": [
      "0.9836065573770492\n",
      "0.9836065573770492\n"
     ]
    }
   ],
   "source": [
    "## acc \n",
    "for i in range(2):\n",
    "    print(np.mean(y_test_z[:,i]==pred[:,i]))"
   ]
  },
  {
   "cell_type": "code",
   "execution_count": 55,
   "metadata": {},
   "outputs": [
    {
     "name": "stdout",
     "output_type": "stream",
     "text": [
      "0.9900990099009901\n",
      "0.9556451612903226\n"
     ]
    }
   ],
   "source": [
    "##tp\n",
    "for i in range(2):\n",
    "    print(np.sum(pred[:,i]+y_test_z[:,i]==2)/np.sum(y_test_z[:,i]==1))"
   ]
  },
  {
   "cell_type": "code",
   "execution_count": 57,
   "metadata": {},
   "outputs": [
    {
     "name": "stdout",
     "output_type": "stream",
     "text": [
      "0.9803921568627451\n",
      "0.9753086419753086\n"
     ]
    }
   ],
   "source": [
    "##precision\n",
    "for i in range(2):\n",
    "    print(np.sum(pred[:,i]+y_test_z[:,i]==2)/np.sum(pred[:,i]==1))"
   ]
  },
  {
   "cell_type": "code",
   "execution_count": null,
   "metadata": {},
   "outputs": [],
   "source": []
  }
 ],
 "metadata": {
  "kernelspec": {
   "display_name": "Python 3",
   "language": "python",
   "name": "python3"
  },
  "language_info": {
   "codemirror_mode": {
    "name": "ipython",
    "version": 3
   },
   "file_extension": ".py",
   "mimetype": "text/x-python",
   "name": "python",
   "nbconvert_exporter": "python",
   "pygments_lexer": "ipython3",
   "version": "3.5.3"
  }
 },
 "nbformat": 4,
 "nbformat_minor": 2
}
