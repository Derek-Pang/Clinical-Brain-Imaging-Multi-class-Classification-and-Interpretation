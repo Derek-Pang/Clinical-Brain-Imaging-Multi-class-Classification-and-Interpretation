{
 "cells": [
  {
   "cell_type": "code",
   "execution_count": 1,
   "metadata": {},
   "outputs": [],
   "source": [
    "%load_ext autoreload\n",
    "%autoreload 2\n"
   ]
  },
  {
   "cell_type": "code",
   "execution_count": 2,
   "metadata": {},
   "outputs": [
    {
     "name": "stderr",
     "output_type": "stream",
     "text": [
      "Using TensorFlow backend.\n"
     ]
    }
   ],
   "source": [
    "import numpy as np\n",
    "import pandas as pd\n",
    "import nibabel as nib\n",
    "# import nilearn\n",
    "\n",
    "from scipy.ndimage.interpolation import zoom\n",
    "from sklearn.utils import shuffle\n",
    "from sklearn.model_selection import GroupShuffleSplit\n",
    "from sklearn.metrics import confusion_matrix\n",
    "from sklearn.model_selection import KFold\n",
    "\n",
    "import matplotlib.pyplot as plt\n",
    "import os\n",
    "import time\n",
    "import h5py\n",
    "\n",
    "# keras\n",
    "from keras.models import Sequential\n",
    "from keras.layers import Input, Conv2D, Flatten, Dense, MaxPooling2D, Dropout\n",
    "from keras.regularizers import l2\n",
    "from keras.optimizers import Adam\n",
    "from keras.models import load_model\n",
    "from keras.callbacks import EarlyStopping, ModelCheckpoint\n",
    "from keras.utils import Sequence\n"
   ]
  },
  {
   "cell_type": "code",
   "execution_count": 3,
   "metadata": {},
   "outputs": [],
   "source": [
    "import sys\n",
    "import tensorflow as tf\n",
    "import SimpleITK as sitk\n",
    "import dltk\n",
    "import math\n",
    "from myshow import myshow\n",
    "from tensorflow.python.framework import ops\n",
    "import pylab as py\n",
    "import matplotlib.pyplot as plt"
   ]
  },
  {
   "cell_type": "code",
   "execution_count": 4,
   "metadata": {},
   "outputs": [],
   "source": [
    "gpu = 0,1\n",
    "\n",
    "shape = (256, 256, 256)\n",
    "\n",
    "##### training parameters #####\n",
    "# number of folds\n",
    "# k_folds = 7\n",
    "# batch size\n",
    "# i.e. number of samples per training step\n",
    "# validation always uses b = 1\n",
    "b = 50 \n",
    "# number of epochs\n",
    "# i.e. times to loop over the entire set"
   ]
  },
  {
   "cell_type": "code",
   "execution_count": 5,
   "metadata": {},
   "outputs": [],
   "source": [
    "# Start timing\n",
    "start_time = time.time()"
   ]
  },
  {
   "cell_type": "code",
   "execution_count": 8,
   "metadata": {},
   "outputs": [],
   "source": [
    "# # Tensorflow settings\n",
    "# import tensorflow as tf\n",
    "# from keras.backend.tensorflow_backend import set_session, get_session\n",
    "\n",
    "# config = tf.ConfigProto(device_count={'gpu':\"0\"})\n",
    "# config.gpu_options.allow_growth = True\n",
    "# # config.gpu_options.visible_device_list = \"6\" #?????? 6\n",
    "# sess = tf.Session(config=config)\n",
    "# set_session(sess)"
   ]
  },
  {
   "cell_type": "code",
   "execution_count": 6,
   "metadata": {},
   "outputs": [],
   "source": [
    "import tensorflow as tf\n",
    "def decode2(serialized_example):\n",
    "    # Decode examples stored in TFRecord\n",
    "    # NOTE: make sure to specify the correct dimensions for the images\n",
    "    features = tf.parse_single_example(\n",
    "        serialized_example,\n",
    "        features={'image': tf.FixedLenFeature([256, 256, 1], tf.float32),\n",
    "                  'label': tf.FixedLenFeature([], tf.int64),\n",
    "                  'name': tf.FixedLenFeature([],tf.string)})\n",
    "    \n",
    "    images = features['image'] \n",
    "    labels = features['label']\n",
    "    names = features['name']\n",
    "    # NOTE: No need to cast these features, as they are already `tf.float32` values.\n",
    "    return images, labels,names"
   ]
  },
  {
   "cell_type": "code",
   "execution_count": 7,
   "metadata": {},
   "outputs": [],
   "source": [
    "labels = pd.read_csv(\"nii_with_binary_label.csv\")\n",
    "CN_files = labels[labels['CN']==1].iloc[:,1] #Category label 1 \n",
    "EMCI_files = labels[labels['EMCI']==1].iloc[:,1] #Category label 2\n",
    "MCI_files = labels[labels['MCI']==1].iloc[:,1] #Category label 3\n",
    "LMCI_files = labels[labels['LMCI']==1].iloc[:,1] #Category label 4\n",
    "AD_files = labels[labels['AD']==1].iloc[:,1] #Category label 5\n",
    "SMC_files = labels[labels['SMC']==1].iloc[:,1] #Category label 6"
   ]
  },
  {
   "cell_type": "code",
   "execution_count": null,
   "metadata": {},
   "outputs": [],
   "source": []
  },
  {
   "cell_type": "code",
   "execution_count": 8,
   "metadata": {},
   "outputs": [
    {
     "name": "stdout",
     "output_type": "stream",
     "text": [
      "WARNING:tensorflow:From /usr/local/lib/python3.5/dist-packages/tensorflow/python/data/ops/dataset_ops.py:1419: colocate_with (from tensorflow.python.framework.ops) is deprecated and will be removed in a future version.\n",
      "Instructions for updating:\n",
      "Colocations handled automatically by placer.\n"
     ]
    }
   ],
   "source": [
    "all_AD_x = tf.data.TFRecordDataset(\"x_AD.tfrecords\").shuffle(10000,seed=1)\n",
    "all_CN_x = tf.data.TFRecordDataset(\"x_CN.tfrecords\").shuffle(10000,seed=1)\n",
    "all_MCI_x = tf.data.TFRecordDataset(\"x_MCI.tfrecords\").shuffle(10000,seed=1)\n",
    "all_EMCI_x = tf.data.TFRecordDataset(\"x_EMCI.tfrecords\").shuffle(10000,seed=1)\n",
    "all_LMCI_x = tf.data.TFRecordDataset(\"x_LMCI.tfrecords\").shuffle(10000,seed=1)\n",
    "all_SMC_x = tf.data.TFRecordDataset(\"x_SMC.tfrecords\").shuffle(10000,seed=1)\n",
    "\n",
    "test_AD_x = all_AD_x.take(int(len(AD_files)*0.2)) \n",
    "train_AD_x = all_AD_x.skip(int(len(AD_files)*0.2))\n",
    "train_AD_re_x = train_AD_x.repeat(3)\n",
    "\n",
    "test_CN_x = all_CN_x.take(int(len(CN_files)*0.2)) \n",
    "train_CN_x = all_CN_x.skip(int(len(CN_files)*0.2))\n",
    "\n",
    "test_MCI_x = all_MCI_x.take(int(len(MCI_files)*0.2)) \n",
    "train_MCI_x = all_MCI_x.skip(int(len(MCI_files)*0.2))\n",
    "\n",
    "test_EMCI_x = all_EMCI_x.take(int(len(EMCI_files)*0.2)) \n",
    "train_EMCI_x = all_EMCI_x.skip(int(len(EMCI_files)*0.2))\n",
    "train_EMCI_re_x = train_EMCI_x.repeat(2)\n",
    "\n",
    "test_LMCI_x = all_LMCI_x.take(int(len(LMCI_files)*0.2)) \n",
    "train_LMCI_x = all_LMCI_x.skip(int(len(LMCI_files)*0.2))\n",
    "train_LMCI_re_x = train_LMCI_x.repeat(3)\n",
    "\n",
    "test_SMC_x = all_SMC_x.take(int(len(SMC_files)*0.2)) \n",
    "train_SMC_x = all_SMC_x.skip(int(len(SMC_files)*0.2))\n",
    "train_SMC_re_x = train_SMC_x.repeat(9)\n",
    "\n",
    "train_6cls_x = train_AD_re_x.concatenate(train_CN_x).concatenate(train_MCI_x).concatenate(train_LMCI_re_x).concatenate(train_EMCI_re_x).concatenate(train_SMC_re_x)\n",
    "test_6cls_x = test_AD_x.concatenate(test_CN_x).concatenate(test_MCI_x).concatenate(test_LMCI_x).concatenate(test_EMCI_x).concatenate(test_SMC_x)\n",
    "train_6cls_x = train_6cls_x.map(decode2).batch(batch_size=100000)\n",
    "test_6cls_x = test_6cls_x.map(decode2).batch(batch_size = 21000)\n",
    "iterator_train_6_x = train_6cls_x.make_initializable_iterator()\n",
    "iterator_test_6_x = test_6cls_x.make_initializable_iterator()\n",
    "features6_x,labels6_x,names6_x = iterator_train_6_x.get_next()\n",
    "ftest6_x,ltest6_x,ntest6_x=iterator_test_6_x.get_next()\n",
    "\n"
   ]
  },
  {
   "cell_type": "code",
   "execution_count": 9,
   "metadata": {},
   "outputs": [],
   "source": [
    "all_AD_y = tf.data.TFRecordDataset(\"y_AD.tfrecords\").shuffle(10000,seed=1)\n",
    "all_CN_y = tf.data.TFRecordDataset(\"y_CN.tfrecords\").shuffle(10000,seed=1)\n",
    "all_MCI_y = tf.data.TFRecordDataset(\"y_MCI.tfrecords\").shuffle(10000,seed=1)\n",
    "all_EMCI_y = tf.data.TFRecordDataset(\"y_EMCI.tfrecords\").shuffle(10000,seed=1)\n",
    "all_LMCI_y = tf.data.TFRecordDataset(\"y_LMCI.tfrecords\").shuffle(10000,seed=1)\n",
    "all_SMC_y = tf.data.TFRecordDataset(\"y_SMC.tfrecords\").shuffle(10000,seed=1)\n",
    "\n",
    "test_AD_y = all_AD_y.take(int(len(AD_files)*0.2)) \n",
    "train_AD_y = all_AD_y.skip(int(len(AD_files)*0.2))\n",
    "train_AD_re_y = train_AD_y.repeat(3)\n",
    "\n",
    "test_CN_y = all_CN_y.take(int(len(CN_files)*0.2)) \n",
    "train_CN_y = all_CN_y.skip(int(len(CN_files)*0.2))\n",
    "\n",
    "test_MCI_y = all_MCI_y.take(int(len(MCI_files)*0.2)) \n",
    "train_MCI_y = all_MCI_y.skip(int(len(MCI_files)*0.2))\n",
    "\n",
    "test_EMCI_y = all_EMCI_y.take(int(len(EMCI_files)*0.2)) \n",
    "train_EMCI_y = all_EMCI_y.skip(int(len(EMCI_files)*0.2))\n",
    "train_EMCI_re_y = train_EMCI_y.repeat(2)\n",
    "\n",
    "test_LMCI_y = all_LMCI_y.take(int(len(LMCI_files)*0.2)) \n",
    "train_LMCI_y = all_LMCI_y.skip(int(len(LMCI_files)*0.2))\n",
    "train_LMCI_re_y = train_LMCI_y.repeat(3)\n",
    "\n",
    "test_SMC_y = all_SMC_y.take(int(len(SMC_files)*0.2)) \n",
    "train_SMC_y = all_SMC_y.skip(int(len(SMC_files)*0.2))\n",
    "train_SMC_re_y = train_SMC_y.repeat(9)\n",
    "\n",
    "train_6cls_y = train_AD_re_y.concatenate(train_CN_y).concatenate(train_MCI_y).concatenate(train_LMCI_re_y).concatenate(train_EMCI_re_y).concatenate(train_SMC_re_y)\n",
    "test_6cls_y = test_AD_y.concatenate(test_CN_y).concatenate(test_MCI_y).concatenate(test_LMCI_y).concatenate(test_EMCI_y).concatenate(test_SMC_y)\n",
    "train_6cls_y = train_6cls_y.map(decode2).batch(batch_size=100000)\n",
    "test_6cls_y = test_6cls_y.map(decode2).batch(batch_size = 21000)\n",
    "iterator_train_6_y = train_6cls_y.make_initializable_iterator()\n",
    "iterator_test_6_y = test_6cls_y.make_initializable_iterator()\n",
    "features6_y,labels6_y,names6_y = iterator_train_6_y.get_next()\n",
    "ftest6_y,ltest6_y,ntest6_y=iterator_test_6_y.get_next()"
   ]
  },
  {
   "cell_type": "code",
   "execution_count": 10,
   "metadata": {},
   "outputs": [],
   "source": [
    "all_AD_z = tf.data.TFRecordDataset(\"z_AD.tfrecords\").shuffle(10000,seed=1)\n",
    "all_CN_z = tf.data.TFRecordDataset(\"z_CN.tfrecords\").shuffle(10000,seed=1)\n",
    "all_MCI_z = tf.data.TFRecordDataset(\"z_MCI.tfrecords\").shuffle(10000,seed=1)\n",
    "all_EMCI_z = tf.data.TFRecordDataset(\"z_EMCI.tfrecords\").shuffle(10000,seed=1)\n",
    "all_LMCI_z = tf.data.TFRecordDataset(\"z_LMCI.tfrecords\").shuffle(10000,seed=1)\n",
    "all_SMC_z = tf.data.TFRecordDataset(\"z_SMC.tfrecords\").shuffle(10000,seed=1)\n",
    "\n",
    "test_AD_z = all_AD_z.take(int(len(AD_files)*0.2)) \n",
    "train_AD_z = all_AD_z.skip(int(len(AD_files)*0.2))\n",
    "train_AD_re_z = train_AD_z.repeat(3)\n",
    "\n",
    "test_CN_z = all_CN_z.take(int(len(CN_files)*0.2)) \n",
    "train_CN_z = all_CN_z.skip(int(len(CN_files)*0.2))\n",
    "\n",
    "test_MCI_z = all_MCI_z.take(int(len(MCI_files)*0.2)) \n",
    "train_MCI_z = all_MCI_z.skip(int(len(MCI_files)*0.2))\n",
    "\n",
    "test_EMCI_z = all_EMCI_z.take(int(len(EMCI_files)*0.2)) \n",
    "train_EMCI_z = all_EMCI_z.skip(int(len(EMCI_files)*0.2))\n",
    "train_EMCI_re_z = train_EMCI_z.repeat(2)\n",
    "\n",
    "test_LMCI_z = all_LMCI_z.take(int(len(LMCI_files)*0.2)) \n",
    "train_LMCI_z = all_LMCI_z.skip(int(len(LMCI_files)*0.2))\n",
    "train_LMCI_re_z = train_LMCI_z.repeat(3)\n",
    "\n",
    "test_SMC_z = all_SMC_z.take(int(len(SMC_files)*0.2)) \n",
    "train_SMC_z = all_SMC_z.skip(int(len(SMC_files)*0.2))\n",
    "train_SMC_re_z = train_SMC_z.repeat(9)\n",
    "\n",
    "train_6cls_z = train_AD_re_z.concatenate(train_CN_z).concatenate(train_MCI_z).concatenate(train_LMCI_re_z).concatenate(train_EMCI_re_z).concatenate(train_SMC_re_z)\n",
    "test_6cls_z = test_AD_z.concatenate(test_CN_z).concatenate(test_MCI_z).concatenate(test_LMCI_z).concatenate(test_EMCI_z).concatenate(test_SMC_z)\n",
    "train_6cls_z = train_6cls_z.map(decode2).batch(batch_size=100000)\n",
    "test_6cls_z = test_6cls_z.map(decode2).batch(batch_size = 21000)\n",
    "iterator_train_6_z = train_6cls_z.make_initializable_iterator()\n",
    "iterator_test_6_z = test_6cls_z.make_initializable_iterator()\n",
    "features6_z,labels6_z,names6_z = iterator_train_6_z.get_next()\n",
    "ftest6_z,ltest6_z,ntest6_z=iterator_test_6_z.get_next()\n",
    "\n"
   ]
  },
  {
   "cell_type": "code",
   "execution_count": 11,
   "metadata": {},
   "outputs": [],
   "source": [
    "with tf.Session() as sess:\n",
    "    sess.run(iterator_train_6_x.initializer)\n",
    "    sess.run(iterator_test_6_x.initializer)\n",
    "    X_train_x,y_train_x = sess.run([features6_x,labels6_x])\n",
    "    X_test_x,y_test_x=sess.run([ftest6_x,ltest6_x])"
   ]
  },
  {
   "cell_type": "code",
   "execution_count": 12,
   "metadata": {},
   "outputs": [],
   "source": [
    "with tf.Session() as sess:\n",
    "    sess.run(iterator_train_6_y.initializer)\n",
    "    sess.run(iterator_test_6_y.initializer)\n",
    "    X_train_y,y_train_y = sess.run([features6_y,labels6_y])\n",
    "    X_test_y,y_test_y=sess.run([ftest6_y,ltest6_y])"
   ]
  },
  {
   "cell_type": "code",
   "execution_count": 13,
   "metadata": {},
   "outputs": [],
   "source": [
    "with tf.Session() as sess:\n",
    "    sess.run(iterator_train_6_z.initializer)\n",
    "    sess.run(iterator_test_6_z.initializer)\n",
    "    X_train_z,y_train_z = sess.run([features6_z, labels6_z])\n",
    "    X_test_z,y_test_z=sess.run([ftest6_z,ltest6_z])"
   ]
  },
  {
   "cell_type": "code",
   "execution_count": 11,
   "metadata": {},
   "outputs": [],
   "source": [
    "def SixtyFourNet(input_shape, drop_rate=0., weight_dcay=0.):\n",
    "    model = Sequential()\n",
    "    model.add(Conv2D(64, kernel_size=3, \n",
    "                     input_shape=(int(input_shape[1]), int(input_shape[2]), int(input_shape[3])), \n",
    "                     activation='elu', padding='valid', name='Conv_1'))\n",
    "    model.add(MaxPooling2D(pool_size=3, name='Pool_1'))\n",
    "    model.add(Dropout(drop_rate))\n",
    "    model.add(Conv2D(16, kernel_size=3, padding='valid', activation='elu', name='Conv_2'))\n",
    "\n",
    "    model.add(MaxPooling2D(pool_size=3, name='Pool_2'))\n",
    "    model.add(Dropout(drop_rate))\n",
    "\n",
    "    model.add(Conv2D(32, kernel_size=3, padding='valid', activation='elu', name='Conv_3',\n",
    "                     kernel_regularizer=l2(weight_dcay)))\n",
    "    model.add(Conv2D(16, kernel_size=3, padding='valid', activation='elu', name='Conv_4',\n",
    "                     kernel_regularizer=l2(weight_dcay)))\n",
    "    model.add(MaxPooling2D(pool_size=3, name='Pool_4'))\n",
    "    model.add(Dropout(drop_rate))\n",
    "\n",
    "    model.add(Flatten())\n",
    "#     model.add(Dense(units=512, activation='elu'))\n",
    "    model.add(Dense(units=6, activation='softmax'))\n",
    "    return model"
   ]
  },
  {
   "cell_type": "markdown",
   "metadata": {},
   "source": [
    "# x_axis"
   ]
  },
  {
   "cell_type": "code",
   "execution_count": 17,
   "metadata": {},
   "outputs": [],
   "source": [
    "from keras.utils import np_utils\n",
    "from sklearn.model_selection import train_test_split, KFold, cross_val_score\n",
    "from sklearn.preprocessing import LabelEncoder\n",
    "encoder = LabelEncoder()\n",
    "encoded_Y_x = encoder.fit_transform(y_train_x)\n",
    "encoded_Y_test_x = encoder.fit_transform(y_test_x)\n",
    "# convert integers to dummy variables (one hot encoding)\n",
    "y_train_x = np_utils.to_categorical(encoded_Y_x)\n",
    "y_test_x = np_utils.to_categorical(encoded_Y_test_x)"
   ]
  },
  {
   "cell_type": "code",
   "execution_count": 17,
   "metadata": {},
   "outputs": [
    {
     "data": {
      "text/plain": [
       "(14978, 6)"
      ]
     },
     "execution_count": 17,
     "metadata": {},
     "output_type": "execute_result"
    }
   ],
   "source": [
    "X_train_x.shape\n",
    "y_train_x.shape"
   ]
  },
  {
   "cell_type": "code",
   "execution_count": 18,
   "metadata": {},
   "outputs": [
    {
     "data": {
      "text/plain": [
       "(1992, 6)"
      ]
     },
     "execution_count": 18,
     "metadata": {},
     "output_type": "execute_result"
    }
   ],
   "source": [
    "X_test_x.shape\n",
    "y_test_x.shape"
   ]
  },
  {
   "cell_type": "code",
   "execution_count": 20,
   "metadata": {},
   "outputs": [
    {
     "name": "stdout",
     "output_type": "stream",
     "text": [
      "Train on 14978 samples, validate on 1992 samples\n",
      "Epoch 1/150\n",
      "14978/14978 [==============================] - 22s 1ms/step - loss: 2.4794 - acc: 0.1921 - val_loss: 2.0583 - val_acc: 0.2550\n",
      "Epoch 2/150\n",
      "14978/14978 [==============================] - 21s 1ms/step - loss: 2.0008 - acc: 0.2489 - val_loss: 1.8689 - val_acc: 0.3333\n",
      "Epoch 3/150\n",
      "14978/14978 [==============================] - 21s 1ms/step - loss: 1.7870 - acc: 0.3043 - val_loss: 1.7595 - val_acc: 0.3534\n",
      "Epoch 4/150\n",
      "14978/14978 [==============================] - 22s 1ms/step - loss: 1.6598 - acc: 0.3478 - val_loss: 1.6763 - val_acc: 0.3604\n",
      "Epoch 5/150\n",
      "14978/14978 [==============================] - 21s 1ms/step - loss: 1.5789 - acc: 0.3779 - val_loss: 1.5533 - val_acc: 0.3770\n",
      "Epoch 6/150\n",
      "14978/14978 [==============================] - 21s 1ms/step - loss: 1.5227 - acc: 0.3911 - val_loss: 1.4144 - val_acc: 0.4558\n",
      "Epoch 7/150\n",
      "14978/14978 [==============================] - 21s 1ms/step - loss: 1.4768 - acc: 0.4160 - val_loss: 1.6035 - val_acc: 0.4021\n",
      "Epoch 8/150\n",
      "14978/14978 [==============================] - 22s 1ms/step - loss: 1.4350 - acc: 0.4316 - val_loss: 1.4657 - val_acc: 0.4317\n",
      "Epoch 9/150\n",
      "14978/14978 [==============================] - 21s 1ms/step - loss: 1.4155 - acc: 0.4471 - val_loss: 1.4309 - val_acc: 0.4498\n",
      "Epoch 10/150\n",
      "14978/14978 [==============================] - 21s 1ms/step - loss: 1.3821 - acc: 0.4646 - val_loss: 1.3459 - val_acc: 0.4784\n",
      "Epoch 11/150\n",
      "14978/14978 [==============================] - 21s 1ms/step - loss: 1.3604 - acc: 0.4710 - val_loss: 1.3500 - val_acc: 0.4880\n",
      "Epoch 12/150\n",
      "14978/14978 [==============================] - 21s 1ms/step - loss: 1.3308 - acc: 0.4925 - val_loss: 1.5325 - val_acc: 0.3946\n",
      "Epoch 13/150\n",
      "14978/14978 [==============================] - 22s 1ms/step - loss: 1.3184 - acc: 0.5008 - val_loss: 1.3128 - val_acc: 0.5206\n",
      "Epoch 14/150\n",
      "14978/14978 [==============================] - 22s 1ms/step - loss: 1.3018 - acc: 0.5093 - val_loss: 1.2718 - val_acc: 0.5126\n",
      "Epoch 15/150\n",
      "14978/14978 [==============================] - 21s 1ms/step - loss: 1.2923 - acc: 0.5152 - val_loss: 1.2318 - val_acc: 0.5407\n",
      "Epoch 16/150\n",
      "14978/14978 [==============================] - 21s 1ms/step - loss: 1.2545 - acc: 0.5278 - val_loss: 1.3354 - val_acc: 0.5120\n",
      "Epoch 17/150\n",
      "14978/14978 [==============================] - 22s 1ms/step - loss: 1.2493 - acc: 0.5347 - val_loss: 1.3936 - val_acc: 0.4644\n",
      "Epoch 18/150\n",
      "14978/14978 [==============================] - 22s 1ms/step - loss: 1.2328 - acc: 0.5453 - val_loss: 1.2265 - val_acc: 0.5366\n",
      "Epoch 19/150\n",
      "14978/14978 [==============================] - 22s 1ms/step - loss: 1.2312 - acc: 0.5455 - val_loss: 1.2392 - val_acc: 0.5462\n",
      "Epoch 20/150\n",
      "14978/14978 [==============================] - 21s 1ms/step - loss: 1.2166 - acc: 0.5570 - val_loss: 1.1538 - val_acc: 0.5793\n",
      "Epoch 21/150\n",
      "14978/14978 [==============================] - 21s 1ms/step - loss: 1.2028 - acc: 0.5654 - val_loss: 1.0867 - val_acc: 0.6145\n",
      "Epoch 22/150\n",
      "14978/14978 [==============================] - 21s 1ms/step - loss: 1.1901 - acc: 0.5758 - val_loss: 1.2318 - val_acc: 0.5517\n",
      "Epoch 23/150\n",
      "14978/14978 [==============================] - 21s 1ms/step - loss: 1.1940 - acc: 0.5632 - val_loss: 1.2116 - val_acc: 0.5638\n",
      "Epoch 24/150\n",
      "14978/14978 [==============================] - 22s 1ms/step - loss: 1.1722 - acc: 0.5800 - val_loss: 1.2635 - val_acc: 0.5387\n",
      "Epoch 25/150\n",
      "14978/14978 [==============================] - 21s 1ms/step - loss: 1.1755 - acc: 0.5762 - val_loss: 1.1894 - val_acc: 0.5683\n",
      "Epoch 26/150\n",
      "14978/14978 [==============================] - 22s 1ms/step - loss: 1.1506 - acc: 0.5854 - val_loss: 1.0748 - val_acc: 0.6019\n",
      "Epoch 27/150\n",
      "14978/14978 [==============================] - 21s 1ms/step - loss: 1.1579 - acc: 0.5864 - val_loss: 1.2278 - val_acc: 0.5512\n",
      "Epoch 28/150\n",
      "14978/14978 [==============================] - 22s 1ms/step - loss: 1.1459 - acc: 0.5881 - val_loss: 1.0801 - val_acc: 0.6064\n",
      "Epoch 29/150\n",
      "14978/14978 [==============================] - 22s 1ms/step - loss: 1.1295 - acc: 0.6014 - val_loss: 1.1952 - val_acc: 0.5648\n",
      "Epoch 30/150\n",
      "14978/14978 [==============================] - 22s 1ms/step - loss: 1.1380 - acc: 0.6002 - val_loss: 1.1816 - val_acc: 0.5949\n",
      "Epoch 31/150\n",
      "14978/14978 [==============================] - 22s 1ms/step - loss: 1.1188 - acc: 0.6071 - val_loss: 1.1184 - val_acc: 0.6079\n",
      "Epoch 32/150\n",
      "14978/14978 [==============================] - 22s 1ms/step - loss: 1.1133 - acc: 0.6067 - val_loss: 1.0968 - val_acc: 0.6205\n",
      "Epoch 33/150\n",
      "14978/14978 [==============================] - 21s 1ms/step - loss: 1.1146 - acc: 0.6098 - val_loss: 1.0807 - val_acc: 0.6225\n",
      "Epoch 34/150\n",
      "14978/14978 [==============================] - 21s 1ms/step - loss: 1.1191 - acc: 0.6076 - val_loss: 1.0560 - val_acc: 0.6280\n",
      "Epoch 35/150\n",
      "14978/14978 [==============================] - 21s 1ms/step - loss: 1.1082 - acc: 0.6076 - val_loss: 1.0854 - val_acc: 0.6320\n",
      "Epoch 36/150\n",
      "14978/14978 [==============================] - 21s 1ms/step - loss: 1.1101 - acc: 0.6118 - val_loss: 1.0243 - val_acc: 0.6406\n",
      "Epoch 37/150\n",
      "14978/14978 [==============================] - 21s 1ms/step - loss: 1.0927 - acc: 0.6207 - val_loss: 1.0158 - val_acc: 0.6491\n",
      "Epoch 38/150\n",
      "14978/14978 [==============================] - 22s 1ms/step - loss: 1.0893 - acc: 0.6196 - val_loss: 1.0421 - val_acc: 0.6411\n",
      "Epoch 39/150\n",
      "14978/14978 [==============================] - 22s 1ms/step - loss: 1.0897 - acc: 0.6259 - val_loss: 1.0411 - val_acc: 0.6451\n",
      "Epoch 40/150\n",
      "14978/14978 [==============================] - 22s 1ms/step - loss: 1.0914 - acc: 0.6228 - val_loss: 1.0476 - val_acc: 0.6330\n",
      "Epoch 41/150\n",
      "14978/14978 [==============================] - 22s 1ms/step - loss: 1.0786 - acc: 0.6251 - val_loss: 1.0237 - val_acc: 0.6386\n",
      "Epoch 42/150\n",
      "14978/14978 [==============================] - 22s 1ms/step - loss: 1.0727 - acc: 0.6287 - val_loss: 0.9670 - val_acc: 0.6822\n",
      "Epoch 43/150\n",
      "14978/14978 [==============================] - 21s 1ms/step - loss: 1.0707 - acc: 0.6309 - val_loss: 1.0672 - val_acc: 0.6350\n",
      "Epoch 44/150\n",
      "14978/14978 [==============================] - 22s 1ms/step - loss: 1.0832 - acc: 0.6299 - val_loss: 1.0422 - val_acc: 0.6401\n",
      "14978/14978 [==============================] - 22s 1ms/step - loss: 1.0628 - acc: 0.6387 - val_loss: 1.0815 - val_acc: 0.6260\n",
      "Epoch 47/150\n",
      "14978/14978 [==============================] - 22s 1ms/step - loss: 1.0592 - acc: 0.6347 - val_loss: 0.9543 - val_acc: 0.6727\n",
      "Epoch 48/150\n",
      "14978/14978 [==============================] - 21s 1ms/step - loss: 1.0554 - acc: 0.6362 - val_loss: 1.0221 - val_acc: 0.6401\n",
      "Epoch 49/150\n",
      "14978/14978 [==============================] - 22s 1ms/step - loss: 1.0515 - acc: 0.6389 - val_loss: 0.9729 - val_acc: 0.6767\n",
      "Epoch 51/150\n",
      "14978/14978 [==============================] - 21s 1ms/step - loss: 1.0518 - acc: 0.6409 - val_loss: 1.0206 - val_acc: 0.6702\n",
      "Epoch 52/150\n",
      "14978/14978 [==============================] - 21s 1ms/step - loss: 1.0396 - acc: 0.6475 - val_loss: 0.9062 - val_acc: 0.7033\n",
      "Epoch 53/150\n",
      "14978/14978 [==============================] - 21s 1ms/step - loss: 1.0393 - acc: 0.6458 - val_loss: 0.9473 - val_acc: 0.6757\n",
      "Epoch 54/150\n",
      "14978/14978 [==============================] - 21s 1ms/step - loss: 1.0574 - acc: 0.6345 - val_loss: 1.0347 - val_acc: 0.6496\n",
      "Epoch 55/150\n",
      "14978/14978 [==============================] - 21s 1ms/step - loss: 1.0590 - acc: 0.6351 - val_loss: 0.9941 - val_acc: 0.6707\n",
      "Epoch 56/150\n",
      "14978/14978 [==============================] - 22s 1ms/step - loss: 1.0455 - acc: 0.6427 - val_loss: 1.0312 - val_acc: 0.6355\n",
      "Epoch 57/150\n",
      "14978/14978 [==============================] - 22s 1ms/step - loss: 1.0407 - acc: 0.6434 - val_loss: 0.9739 - val_acc: 0.6717\n",
      "Epoch 58/150\n",
      "14978/14978 [==============================] - 21s 1ms/step - loss: 1.0498 - acc: 0.6427 - val_loss: 0.9145 - val_acc: 0.7098\n",
      "Epoch 59/150\n",
      "14978/14978 [==============================] - 21s 1ms/step - loss: 1.0441 - acc: 0.6399 - val_loss: 1.0593 - val_acc: 0.6446\n",
      "Epoch 60/150\n",
      "14978/14978 [==============================] - 21s 1ms/step - loss: 1.0399 - acc: 0.6457 - val_loss: 0.9750 - val_acc: 0.6662\n",
      "Epoch 61/150\n",
      "14978/14978 [==============================] - 22s 1ms/step - loss: 1.0290 - acc: 0.6480 - val_loss: 0.9312 - val_acc: 0.6938\n",
      "Epoch 62/150\n",
      "14978/14978 [==============================] - 22s 1ms/step - loss: 1.0397 - acc: 0.6449 - val_loss: 0.9831 - val_acc: 0.6727\n",
      "Epoch 63/150\n",
      "14978/14978 [==============================] - 21s 1ms/step - loss: 1.0303 - acc: 0.6497 - val_loss: 1.0550 - val_acc: 0.6386\n",
      "Epoch 64/150\n",
      "14978/14978 [==============================] - 22s 1ms/step - loss: 1.0288 - acc: 0.6506 - val_loss: 0.9699 - val_acc: 0.6737\n",
      "Epoch 65/150\n",
      "14978/14978 [==============================] - 22s 1ms/step - loss: 1.0359 - acc: 0.6453 - val_loss: 0.9651 - val_acc: 0.6782\n",
      "Epoch 66/150\n",
      "14978/14978 [==============================] - 22s 1ms/step - loss: 1.0283 - acc: 0.6506 - val_loss: 0.9726 - val_acc: 0.6727\n",
      "Epoch 67/150\n",
      "14978/14978 [==============================] - 21s 1ms/step - loss: 1.0262 - acc: 0.6496 - val_loss: 0.9814 - val_acc: 0.6742\n",
      "Epoch 68/150\n",
      "14978/14978 [==============================] - 21s 1ms/step - loss: 1.0253 - acc: 0.6467 - val_loss: 0.9733 - val_acc: 0.6812\n",
      "Epoch 69/150\n",
      "14978/14978 [==============================] - 22s 1ms/step - loss: 1.0380 - acc: 0.6450 - val_loss: 0.9878 - val_acc: 0.6616\n",
      "Epoch 70/150\n",
      "14978/14978 [==============================] - 21s 1ms/step - loss: 1.0263 - acc: 0.6524 - val_loss: 1.0316 - val_acc: 0.6416\n",
      "Epoch 71/150\n",
      "14978/14978 [==============================] - 22s 1ms/step - loss: 1.0258 - acc: 0.6516 - val_loss: 0.9309 - val_acc: 0.6958\n",
      "Epoch 72/150\n",
      "14978/14978 [==============================] - 22s 1ms/step - loss: 1.0242 - acc: 0.6536 - val_loss: 1.0373 - val_acc: 0.6471\n"
     ]
    },
    {
     "data": {
      "image/png": "[encoded data removed]",
      "text/plain": [
       "<Figure size 792x288 with 2 Axes>"
      ]
     },
     "metadata": {
      "needs_background": "light"
     },
     "output_type": "display_data"
    }
   ],
   "source": [
    "%matplotlib inline\n",
    "from keras.utils import multi_gpu_model\n",
    "\n",
    "num_epochs = 150\n",
    "\n",
    "result_dir=''\n",
    "# training args\n",
    "lr = 0.001\n",
    "lr_decay = 0.\n",
    "\n",
    "num_trials = 1\n",
    "patience = 20\n",
    "store_models = True\n",
    "\n",
    "best_epoch_acc = []\n",
    "\n",
    "\n",
    "for i in range(num_trials):\n",
    "    # init model\n",
    "    model = SixtyFourNet(drop_rate=0.3, weight_dcay=0.01, input_shape=X_train_x.shape)\n",
    "    model=multi_gpu_model(model,2)\n",
    "\n",
    "    opti = Adam(lr=lr, decay=lr_decay)\n",
    "    model.compile(loss='categorical_crossentropy', optimizer=opti, metrics=['accuracy'])\n",
    "    \n",
    "    #callbacks\n",
    "    earlystopping = EarlyStopping(monitor='val_loss', min_delta=0, patience=patience, verbose=0, mode='auto')\n",
    "    model_checkpoint = ModelCheckpoint(os.path.join(result_dir, \"model_all_x_trial_%i.h5\" %i), monitor='val_acc', verbose=0, save_best_only=True, mode='max')\n",
    "\n",
    "    if store_models:\n",
    "        callbacks = [earlystopping, model_checkpoint]\n",
    "    else:\n",
    "        callbacks = [earlystopping]\n",
    "    \n",
    "    history = model.fit(\n",
    "        X_train_x,\n",
    "        y_train_x,\n",
    "        epochs=num_epochs,\n",
    "        batch_size=b,\n",
    "        validation_data=(X_test_x,y_test_x),\n",
    "        callbacks=callbacks,\n",
    "        shuffle=True\n",
    "    )\n",
    "    \n",
    "    training_time = time.time() - start_time\n",
    "    # Plot training curves\n",
    "    plt.figure(figsize=(11, 4))\n",
    "    plt.subplot(1, 2, 1)\n",
    "    plt.plot(history.history[\"loss\"])\n",
    "    plt.plot(history.history[\"val_loss\"])\n",
    "    plt.legend([\"Train\", \"Test\"])\n",
    "    plt.title(\"Loss\")\n",
    "    plt.subplot(1, 2, 2)\n",
    "    plt.plot(history.history[\"acc\"])\n",
    "    plt.plot(history.history[\"val_acc\"])\n",
    "    plt.legend([\"Train\", \"Test\"])\n",
    "    plt.title(\"Accuracy\")\n",
    "    plt.show()    \n",
    "    # Evaluation\n",
    "\n",
    "    y_pred_x = model.predict(X_test_x, batch_size=1)\n",
    "\n",
    "    \n",
    "    # Store results\n",
    "    best_epoch = np.argmax(history.history[\"val_acc\"])\n",
    "    best_epoch_acc.append(history.history[\"val_acc\"][best_epoch])"
   ]
  },
  {
   "cell_type": "markdown",
   "metadata": {},
   "source": [
    "# y_axis"
   ]
  },
  {
   "cell_type": "code",
   "execution_count": 12,
   "metadata": {},
   "outputs": [],
   "source": [
    "from keras.utils import np_utils\n",
    "from sklearn.model_selection import train_test_split, KFold, cross_val_score\n",
    "from sklearn.preprocessing import LabelEncoder\n",
    "encoder = LabelEncoder()\n",
    "encoded_Y_y = encoder.fit_transform(y_train_y)\n",
    "encoded_Y_test_y = encoder.fit_transform(y_test_y)\n",
    "# convert integers to dummy variables (one hot encoding)\n",
    "y_train_y = np_utils.to_categorical(encoded_Y_y)\n",
    "y_test_y = np_utils.to_categorical(encoded_Y_test_y)"
   ]
  },
  {
   "cell_type": "code",
   "execution_count": 13,
   "metadata": {},
   "outputs": [
    {
     "name": "stdout",
     "output_type": "stream",
     "text": [
      "WARNING:tensorflow:From /usr/local/lib/python3.5/dist-packages/keras/backend/tensorflow_backend.py:3445: calling dropout (from tensorflow.python.ops.nn_ops) with keep_prob is deprecated and will be removed in a future version.\n",
      "Instructions for updating:\n",
      "Please use `rate` instead of `keep_prob`. Rate should be set to `rate = 1 - keep_prob`.\n",
      "WARNING:tensorflow:From /usr/local/lib/python3.5/dist-packages/tensorflow/python/ops/math_ops.py:3066: to_int32 (from tensorflow.python.ops.math_ops) is deprecated and will be removed in a future version.\n",
      "Instructions for updating:\n",
      "Use tf.cast instead.\n",
      "Train on 14978 samples, validate on 1992 samples\n",
      "Epoch 1/150\n",
      "14978/14978 [==============================] - 40s 3ms/step - loss: 3.2073 - acc: 0.1876 - val_loss: 2.1699 - val_acc: 0.2585\n",
      "Epoch 2/150\n",
      "14978/14978 [==============================] - 23s 2ms/step - loss: 2.0200 - acc: 0.2446 - val_loss: 2.0607 - val_acc: 0.1928\n",
      "Epoch 3/150\n",
      "14978/14978 [==============================] - 24s 2ms/step - loss: 1.8276 - acc: 0.2990 - val_loss: 1.7781 - val_acc: 0.3122\n",
      "Epoch 4/150\n",
      "14978/14978 [==============================] - 24s 2ms/step - loss: 1.7154 - acc: 0.3173 - val_loss: 1.7648 - val_acc: 0.2992\n",
      "Epoch 5/150\n",
      "14978/14978 [==============================] - 24s 2ms/step - loss: 1.6304 - acc: 0.3459 - val_loss: 1.6227 - val_acc: 0.3695\n",
      "Epoch 6/150\n",
      "14978/14978 [==============================] - 23s 2ms/step - loss: 1.5628 - acc: 0.3688 - val_loss: 1.5374 - val_acc: 0.3845\n",
      "Epoch 7/150\n",
      "14978/14978 [==============================] - 23s 2ms/step - loss: 1.5136 - acc: 0.3866 - val_loss: 1.5453 - val_acc: 0.3419\n",
      "Epoch 8/150\n",
      "14978/14978 [==============================] - 24s 2ms/step - loss: 1.4720 - acc: 0.4091 - val_loss: 1.4717 - val_acc: 0.3705\n",
      "Epoch 9/150\n",
      "14978/14978 [==============================] - 23s 2ms/step - loss: 1.4325 - acc: 0.4288 - val_loss: 1.3568 - val_acc: 0.4644\n",
      "Epoch 10/150\n",
      "14978/14978 [==============================] - 23s 2ms/step - loss: 1.3937 - acc: 0.4571 - val_loss: 1.3780 - val_acc: 0.4598\n",
      "Epoch 11/150\n",
      "14978/14978 [==============================] - 23s 2ms/step - loss: 1.3717 - acc: 0.4533 - val_loss: 1.3769 - val_acc: 0.4478\n",
      "Epoch 12/150\n",
      "14978/14978 [==============================] - 23s 2ms/step - loss: 1.3427 - acc: 0.4775 - val_loss: 1.3166 - val_acc: 0.4719\n",
      "Epoch 13/150\n",
      "14978/14978 [==============================] - 23s 2ms/step - loss: 1.3096 - acc: 0.4955 - val_loss: 1.3063 - val_acc: 0.5171\n",
      "Epoch 14/150\n",
      "14978/14978 [==============================] - 23s 2ms/step - loss: 1.2901 - acc: 0.5059 - val_loss: 1.2288 - val_acc: 0.5462\n",
      "Epoch 15/150\n",
      "14978/14978 [==============================] - 24s 2ms/step - loss: 1.2549 - acc: 0.5262 - val_loss: 1.2477 - val_acc: 0.5216\n",
      "Epoch 16/150\n",
      "14978/14978 [==============================] - 24s 2ms/step - loss: 1.2320 - acc: 0.5423 - val_loss: 1.2168 - val_acc: 0.5527\n",
      "Epoch 17/150\n",
      "14978/14978 [==============================] - 24s 2ms/step - loss: 1.2092 - acc: 0.5550 - val_loss: 1.1517 - val_acc: 0.5944\n",
      "Epoch 18/150\n",
      "14978/14978 [==============================] - 24s 2ms/step - loss: 1.1787 - acc: 0.5702 - val_loss: 1.1288 - val_acc: 0.5914\n",
      "Epoch 19/150\n",
      "14978/14978 [==============================] - 23s 2ms/step - loss: 1.1617 - acc: 0.5801 - val_loss: 1.1752 - val_acc: 0.5974\n",
      "Epoch 20/150\n",
      "14978/14978 [==============================] - 23s 2ms/step - loss: 1.1469 - acc: 0.5873 - val_loss: 1.1912 - val_acc: 0.5738\n",
      "Epoch 21/150\n",
      "14978/14978 [==============================] - 24s 2ms/step - loss: 1.1224 - acc: 0.6005 - val_loss: 1.1065 - val_acc: 0.6029\n",
      "Epoch 22/150\n",
      "14978/14978 [==============================] - 24s 2ms/step - loss: 1.1219 - acc: 0.6017 - val_loss: 1.0520 - val_acc: 0.6486\n",
      "Epoch 23/150\n",
      "14978/14978 [==============================] - 24s 2ms/step - loss: 1.0909 - acc: 0.6220 - val_loss: 1.0130 - val_acc: 0.6536\n",
      "Epoch 24/150\n",
      "14978/14978 [==============================] - 24s 2ms/step - loss: 1.0799 - acc: 0.6183 - val_loss: 1.1142 - val_acc: 0.6200\n",
      "Epoch 25/150\n",
      "14978/14978 [==============================] - 24s 2ms/step - loss: 1.0636 - acc: 0.6293 - val_loss: 1.0328 - val_acc: 0.6315\n",
      "Epoch 26/150\n",
      "14978/14978 [==============================] - 24s 2ms/step - loss: 1.0560 - acc: 0.6310 - val_loss: 1.0841 - val_acc: 0.6250\n",
      "Epoch 27/150\n",
      "14978/14978 [==============================] - 24s 2ms/step - loss: 1.0537 - acc: 0.6362 - val_loss: 0.9458 - val_acc: 0.6822\n",
      "Epoch 28/150\n",
      "14978/14978 [==============================] - 24s 2ms/step - loss: 1.0329 - acc: 0.6479 - val_loss: 0.9818 - val_acc: 0.6627\n",
      "Epoch 29/150\n",
      "14978/14978 [==============================] - 23s 2ms/step - loss: 1.0418 - acc: 0.6469 - val_loss: 0.9703 - val_acc: 0.6727\n",
      "Epoch 30/150\n",
      "14978/14978 [==============================] - 23s 2ms/step - loss: 1.0091 - acc: 0.6665 - val_loss: 0.9285 - val_acc: 0.6832\n",
      "Epoch 31/150\n",
      "14978/14978 [==============================] - 24s 2ms/step - loss: 1.0162 - acc: 0.6599 - val_loss: 0.9042 - val_acc: 0.7008\n",
      "Epoch 32/150\n",
      "14978/14978 [==============================] - 24s 2ms/step - loss: 1.0031 - acc: 0.6584 - val_loss: 0.9235 - val_acc: 0.6933\n",
      "Epoch 33/150\n",
      "14978/14978 [==============================] - 23s 2ms/step - loss: 1.0332 - acc: 0.6467 - val_loss: 0.9510 - val_acc: 0.6903\n",
      "Epoch 34/150\n",
      "14978/14978 [==============================] - 24s 2ms/step - loss: 0.9888 - acc: 0.6665 - val_loss: 0.8460 - val_acc: 0.7264\n",
      "Epoch 35/150\n",
      "14978/14978 [==============================] - 24s 2ms/step - loss: 0.9774 - acc: 0.6713 - val_loss: 0.9126 - val_acc: 0.7053\n",
      "Epoch 36/150\n",
      "14978/14978 [==============================] - 24s 2ms/step - loss: 0.9848 - acc: 0.6664 - val_loss: 0.9126 - val_acc: 0.7098\n",
      "Epoch 37/150\n",
      "14978/14978 [==============================] - 23s 2ms/step - loss: 0.9897 - acc: 0.6676 - val_loss: 1.0078 - val_acc: 0.6476\n",
      "Epoch 38/150\n",
      "14978/14978 [==============================] - 24s 2ms/step - loss: 0.9747 - acc: 0.6725 - val_loss: 0.9095 - val_acc: 0.7003\n",
      "Epoch 39/150\n",
      "14978/14978 [==============================] - 24s 2ms/step - loss: 0.9780 - acc: 0.6709 - val_loss: 1.0536 - val_acc: 0.6365\n",
      "Epoch 40/150\n",
      "14978/14978 [==============================] - 23s 2ms/step - loss: 0.9626 - acc: 0.6817 - val_loss: 0.8460 - val_acc: 0.7179\n",
      "Epoch 41/150\n",
      "14978/14978 [==============================] - 24s 2ms/step - loss: 0.9580 - acc: 0.6817 - val_loss: 0.9229 - val_acc: 0.6933\n",
      "Epoch 42/150\n",
      "14978/14978 [==============================] - 24s 2ms/step - loss: 0.9567 - acc: 0.6819 - val_loss: 0.8760 - val_acc: 0.7174\n",
      "Epoch 43/150\n",
      "14978/14978 [==============================] - 24s 2ms/step - loss: 0.9651 - acc: 0.6810 - val_loss: 0.8985 - val_acc: 0.7118\n",
      "Epoch 44/150\n",
      "14978/14978 [==============================] - 24s 2ms/step - loss: 0.9552 - acc: 0.6809 - val_loss: 1.0088 - val_acc: 0.6677\n",
      "Epoch 45/150\n",
      "14978/14978 [==============================] - 23s 2ms/step - loss: 0.9580 - acc: 0.6827 - val_loss: 0.9556 - val_acc: 0.6737\n",
      "Epoch 46/150\n",
      "14978/14978 [==============================] - 24s 2ms/step - loss: 0.9489 - acc: 0.6883 - val_loss: 0.9207 - val_acc: 0.7098\n",
      "Epoch 47/150\n",
      "14978/14978 [==============================] - 24s 2ms/step - loss: 0.9395 - acc: 0.6941 - val_loss: 0.8983 - val_acc: 0.7063\n",
      "Epoch 48/150\n",
      "14978/14978 [==============================] - 24s 2ms/step - loss: 0.9423 - acc: 0.6879 - val_loss: 0.8804 - val_acc: 0.7008\n",
      "Epoch 49/150\n",
      "14978/14978 [==============================] - 24s 2ms/step - loss: 0.9257 - acc: 0.6948 - val_loss: 0.9256 - val_acc: 0.6772\n",
      "Epoch 50/150\n",
      "14978/14978 [==============================] - 24s 2ms/step - loss: 0.9443 - acc: 0.6880 - val_loss: 0.8101 - val_acc: 0.7450\n",
      "Epoch 51/150\n",
      "14978/14978 [==============================] - 24s 2ms/step - loss: 0.9188 - acc: 0.6961 - val_loss: 0.9357 - val_acc: 0.6938\n",
      "Epoch 52/150\n",
      "14978/14978 [==============================] - 24s 2ms/step - loss: 0.9334 - acc: 0.6910 - val_loss: 0.9436 - val_acc: 0.6998\n",
      "Epoch 53/150\n",
      "14978/14978 [==============================] - 23s 2ms/step - loss: 0.9352 - acc: 0.6909 - val_loss: 0.9452 - val_acc: 0.6862\n",
      "Epoch 54/150\n",
      "14978/14978 [==============================] - 23s 2ms/step - loss: 0.9142 - acc: 0.7060 - val_loss: 0.8387 - val_acc: 0.7410\n",
      "Epoch 55/150\n",
      "14978/14978 [==============================] - 23s 2ms/step - loss: 0.9211 - acc: 0.6983 - val_loss: 0.8643 - val_acc: 0.7139\n",
      "Epoch 56/150\n",
      "14978/14978 [==============================] - 23s 2ms/step - loss: 0.8913 - acc: 0.7090 - val_loss: 0.7743 - val_acc: 0.7646\n",
      "Epoch 57/150\n",
      "14978/14978 [==============================] - 24s 2ms/step - loss: 0.9304 - acc: 0.6946 - val_loss: 0.7519 - val_acc: 0.7801\n",
      "Epoch 58/150\n",
      "14978/14978 [==============================] - 24s 2ms/step - loss: 0.9090 - acc: 0.7022 - val_loss: 0.8778 - val_acc: 0.7149\n",
      "Epoch 59/150\n",
      "14978/14978 [==============================] - 24s 2ms/step - loss: 0.9052 - acc: 0.7062 - val_loss: 0.8440 - val_acc: 0.7063\n",
      "Epoch 60/150\n",
      "14978/14978 [==============================] - 24s 2ms/step - loss: 0.9025 - acc: 0.7096 - val_loss: 0.8063 - val_acc: 0.7495\n",
      "Epoch 61/150\n",
      "14978/14978 [==============================] - 23s 2ms/step - loss: 0.9141 - acc: 0.7024 - val_loss: 0.8088 - val_acc: 0.7465\n",
      "Epoch 62/150\n",
      "14978/14978 [==============================] - 23s 2ms/step - loss: 0.9103 - acc: 0.7040 - val_loss: 0.8376 - val_acc: 0.7354\n",
      "Epoch 63/150\n",
      "14978/14978 [==============================] - 24s 2ms/step - loss: 0.9103 - acc: 0.7054 - val_loss: 0.8740 - val_acc: 0.7063\n",
      "Epoch 64/150\n",
      "14978/14978 [==============================] - 23s 2ms/step - loss: 0.9007 - acc: 0.7091 - val_loss: 0.8021 - val_acc: 0.7400\n",
      "Epoch 65/150\n",
      "14978/14978 [==============================] - 23s 2ms/step - loss: 0.8995 - acc: 0.7046 - val_loss: 0.7729 - val_acc: 0.7681\n",
      "Epoch 66/150\n",
      "14978/14978 [==============================] - 23s 2ms/step - loss: 0.9015 - acc: 0.7041 - val_loss: 0.8074 - val_acc: 0.7405\n",
      "Epoch 67/150\n",
      "14978/14978 [==============================] - 23s 2ms/step - loss: 0.9061 - acc: 0.7067 - val_loss: 0.7590 - val_acc: 0.7761\n",
      "Epoch 68/150\n",
      "14978/14978 [==============================] - 24s 2ms/step - loss: 0.8992 - acc: 0.7067 - val_loss: 0.8126 - val_acc: 0.7369\n",
      "Epoch 69/150\n",
      "14978/14978 [==============================] - 24s 2ms/step - loss: 0.9037 - acc: 0.7066 - val_loss: 0.7771 - val_acc: 0.7666\n",
      "Epoch 70/150\n",
      "14978/14978 [==============================] - 23s 2ms/step - loss: 0.8960 - acc: 0.7106 - val_loss: 0.8674 - val_acc: 0.7199\n",
      "Epoch 71/150\n",
      "14978/14978 [==============================] - 23s 2ms/step - loss: 0.8926 - acc: 0.7096 - val_loss: 0.7555 - val_acc: 0.7615\n",
      "Epoch 72/150\n",
      "14978/14978 [==============================] - 23s 2ms/step - loss: 0.8851 - acc: 0.7127 - val_loss: 0.7760 - val_acc: 0.7676\n",
      "Epoch 73/150\n",
      "14978/14978 [==============================] - 24s 2ms/step - loss: 0.8951 - acc: 0.7116 - val_loss: 0.8042 - val_acc: 0.7495\n",
      "Epoch 74/150\n",
      "14978/14978 [==============================] - 24s 2ms/step - loss: 0.8955 - acc: 0.7076 - val_loss: 0.7622 - val_acc: 0.7550\n",
      "Epoch 75/150\n",
      "14978/14978 [==============================] - 23s 2ms/step - loss: 0.8984 - acc: 0.7076 - val_loss: 0.7540 - val_acc: 0.7686\n",
      "Epoch 76/150\n",
      "14978/14978 [==============================] - 24s 2ms/step - loss: 0.8847 - acc: 0.7167 - val_loss: 0.8005 - val_acc: 0.7369\n",
      "Epoch 77/150\n",
      "14978/14978 [==============================] - 24s 2ms/step - loss: 0.8925 - acc: 0.7116 - val_loss: 0.8728 - val_acc: 0.7129\n"
     ]
    },
    {
     "data": {
      "image/png": "[encoded data removed]",
      "text/plain": [
       "<Figure size 792x288 with 2 Axes>"
      ]
     },
     "metadata": {
      "needs_background": "light"
     },
     "output_type": "display_data"
    }
   ],
   "source": [
    "%matplotlib inline\n",
    "from keras.utils import multi_gpu_model\n",
    "\n",
    "num_epochs = 150\n",
    "\n",
    "result_dir=''\n",
    "# training args\n",
    "lr = 0.001\n",
    "lr_decay = 0.\n",
    "\n",
    "num_trials = 1\n",
    "patience = 20\n",
    "store_models = True\n",
    "\n",
    "best_epoch_acc = []\n",
    "# final_epoch_sens0 = []\n",
    "# final_epoch_sens1 = []\n",
    "# final_epoch_sens2 = []\n",
    "# final_epoch_sens3 = []\n",
    "# final_epoch_sens4 = []\n",
    "# final_epoch_sens5 = []\n",
    "\n",
    "# final_epoch_spec = []\n",
    "\n",
    "for i in range(num_trials):\n",
    "    # init model\n",
    "    model = SixtyFourNet(drop_rate=0.3, weight_dcay=0.01, input_shape=X_train_y.shape)\n",
    "    model=multi_gpu_model(model,2)\n",
    "\n",
    "    opti = Adam(lr=lr, decay=lr_decay)\n",
    "    model.compile(loss='categorical_crossentropy', optimizer=opti, metrics=['accuracy'])\n",
    "    \n",
    "    #callbacks\n",
    "    earlystopping = EarlyStopping(monitor='val_loss', min_delta=0, patience=patience, verbose=0, mode='auto')\n",
    "    model_checkpoint = ModelCheckpoint(os.path.join(result_dir, \"model_all_y_trial_%i.h5\" %i), monitor='val_acc', verbose=0, save_best_only=True, mode='max')\n",
    "\n",
    "    if store_models:\n",
    "        callbacks = [earlystopping, model_checkpoint]\n",
    "    else:\n",
    "        callbacks = [earlystopping]\n",
    "    \n",
    "    history = model.fit(\n",
    "        X_train_y,\n",
    "        y_train_y,\n",
    "        epochs=num_epochs,\n",
    "        batch_size=b,\n",
    "        validation_data=(X_test_y,y_test_y),\n",
    "        callbacks=callbacks,\n",
    "        shuffle=True\n",
    "    )\n",
    "    \n",
    "    training_time = time.time() - start_time\n",
    "    # Plot training curves\n",
    "    plt.figure(figsize=(11, 4))\n",
    "    plt.subplot(1, 2, 1)\n",
    "    plt.plot(history.history[\"loss\"])\n",
    "    plt.plot(history.history[\"val_loss\"])\n",
    "    plt.legend([\"Train\", \"Test\"])\n",
    "    plt.title(\"Loss\")\n",
    "    plt.subplot(1, 2, 2)\n",
    "    plt.plot(history.history[\"acc\"])\n",
    "    plt.plot(history.history[\"val_acc\"])\n",
    "    plt.legend([\"Train\", \"Test\"])\n",
    "    plt.title(\"Accuracy\")\n",
    "    plt.show()    \n",
    "    # Evaluation\n",
    "\n",
    "    y_pred_y = model.predict(X_test_y, batch_size=1)\n",
    "\n",
    "\n",
    "    # Store results\n",
    "    best_epoch = np.argmax(history.history[\"val_acc\"])\n",
    "    best_epoch_acc.append(history.history[\"val_acc\"][best_epoch])\n"
   ]
  },
  {
   "cell_type": "code",
   "execution_count": 30,
   "metadata": {},
   "outputs": [
    {
     "name": "stdout",
     "output_type": "stream",
     "text": [
      "0.9625292740046838\n",
      "0.9625292740046838\n"
     ]
    }
   ],
   "source": [
    "y_pred_y = model.predict(X_test_y, batch_size=1)\n",
    "## acc \n",
    "for i in range(2):\n",
    "    print(np.mean(y_test_y[:,i]==((y_pred_y>=0.5)[:,i])*1))"
   ]
  },
  {
   "cell_type": "code",
   "execution_count": 31,
   "metadata": {},
   "outputs": [
    {
     "name": "stdout",
     "output_type": "stream",
     "text": [
      "0.9587458745874587\n",
      "0.9717741935483871\n"
     ]
    }
   ],
   "source": [
    "##tp\n",
    "for i in range(2):\n",
    "    print(np.sum((y_pred_y[:,i]>=0.5)*1+y_test_y[:,i]==2)/np.sum(y_test_y[:,i]==1))"
   ]
  },
  {
   "cell_type": "code",
   "execution_count": 32,
   "metadata": {},
   "outputs": [
    {
     "name": "stdout",
     "output_type": "stream",
     "text": [
      "0.9880952380952381\n",
      "0.9060150375939849\n"
     ]
    }
   ],
   "source": [
    "##precision\n",
    "\n",
    "for i in range(2):\n",
    "    print(np.sum((y_pred_y[:,i]>=0.5)*1+y_test_y[:,i]==2)/np.sum((y_pred_y[:,i]>=0.5)*1==1))"
   ]
  },
  {
   "cell_type": "markdown",
   "metadata": {},
   "source": [
    "# z axis"
   ]
  },
  {
   "cell_type": "code",
   "execution_count": 12,
   "metadata": {},
   "outputs": [],
   "source": [
    "from keras.utils import np_utils\n",
    "from sklearn.model_selection import train_test_split, KFold, cross_val_score\n",
    "from sklearn.preprocessing import LabelEncoder\n",
    "encoder = LabelEncoder()\n",
    "encoded_Y_z = encoder.fit_transform(y_train_z)\n",
    "encoded_Y_test_z = encoder.fit_transform(y_test_z)\n",
    "# convert integers to dummy variables (one hot encoding)\n",
    "y_train_z = np_utils.to_categorical(encoded_Y_z)\n",
    "y_test_z = np_utils.to_categorical(encoded_Y_test_z)"
   ]
  },
  {
   "cell_type": "code",
   "execution_count": 13,
   "metadata": {},
   "outputs": [
    {
     "name": "stdout",
     "output_type": "stream",
     "text": [
      "WARNING:tensorflow:From /usr/local/lib/python3.5/dist-packages/keras/backend/tensorflow_backend.py:3445: calling dropout (from tensorflow.python.ops.nn_ops) with keep_prob is deprecated and will be removed in a future version.\n",
      "Instructions for updating:\n",
      "Please use `rate` instead of `keep_prob`. Rate should be set to `rate = 1 - keep_prob`.\n",
      "WARNING:tensorflow:From /usr/local/lib/python3.5/dist-packages/tensorflow/python/ops/math_ops.py:3066: to_int32 (from tensorflow.python.ops.math_ops) is deprecated and will be removed in a future version.\n",
      "Instructions for updating:\n",
      "Use tf.cast instead.\n",
      "Train on 14978 samples, validate on 1992 samples\n",
      "Epoch 1/150\n",
      "14978/14978 [==============================] - 39s 3ms/step - loss: 2.6104 - acc: 0.1896 - val_loss: 2.0981 - val_acc: 0.2229\n",
      "Epoch 2/150\n",
      "14978/14978 [==============================] - 23s 2ms/step - loss: 2.0595 - acc: 0.2347 - val_loss: 2.0068 - val_acc: 0.2189\n",
      "Epoch 3/150\n",
      "14978/14978 [==============================] - 23s 2ms/step - loss: 1.8440 - acc: 0.2991 - val_loss: 1.7501 - val_acc: 0.3092\n",
      "Epoch 4/150\n",
      "14978/14978 [==============================] - 23s 2ms/step - loss: 1.7242 - acc: 0.3241 - val_loss: 1.7901 - val_acc: 0.3168\n",
      "Epoch 5/150\n",
      "14978/14978 [==============================] - 23s 2ms/step - loss: 1.6454 - acc: 0.3450 - val_loss: 1.6605 - val_acc: 0.2952\n",
      "Epoch 6/150\n",
      "14978/14978 [==============================] - 23s 2ms/step - loss: 1.5891 - acc: 0.3653 - val_loss: 1.5620 - val_acc: 0.3268\n",
      "Epoch 7/150\n",
      "14978/14978 [==============================] - 23s 2ms/step - loss: 1.5450 - acc: 0.3764 - val_loss: 1.6341 - val_acc: 0.3379\n",
      "Epoch 8/150\n",
      "14978/14978 [==============================] - 23s 2ms/step - loss: 1.5227 - acc: 0.3822 - val_loss: 1.5579 - val_acc: 0.3138\n",
      "Epoch 9/150\n",
      "14978/14978 [==============================] - 24s 2ms/step - loss: 1.4962 - acc: 0.3936 - val_loss: 1.6196 - val_acc: 0.2671\n",
      "Epoch 10/150\n",
      "14978/14978 [==============================] - 24s 2ms/step - loss: 1.4698 - acc: 0.4110 - val_loss: 1.6080 - val_acc: 0.3218\n",
      "Epoch 11/150\n",
      "14978/14978 [==============================] - 23s 2ms/step - loss: 1.4518 - acc: 0.4180 - val_loss: 1.4163 - val_acc: 0.4127\n",
      "Epoch 12/150\n",
      "14978/14978 [==============================] - 23s 2ms/step - loss: 1.4440 - acc: 0.4239 - val_loss: 1.5016 - val_acc: 0.3559\n",
      "Epoch 13/150\n",
      "14978/14978 [==============================] - 24s 2ms/step - loss: 1.4231 - acc: 0.4376 - val_loss: 1.4446 - val_acc: 0.4142\n",
      "Epoch 14/150\n",
      "14978/14978 [==============================] - 24s 2ms/step - loss: 1.4043 - acc: 0.4439 - val_loss: 1.5858 - val_acc: 0.3464\n",
      "Epoch 15/150\n",
      "14978/14978 [==============================] - 24s 2ms/step - loss: 1.3764 - acc: 0.4608 - val_loss: 1.3315 - val_acc: 0.4478\n",
      "Epoch 16/150\n",
      "14978/14978 [==============================] - 23s 2ms/step - loss: 1.3735 - acc: 0.4629 - val_loss: 1.5175 - val_acc: 0.3730\n",
      "Epoch 17/150\n",
      "14978/14978 [==============================] - 23s 2ms/step - loss: 1.3558 - acc: 0.4693 - val_loss: 1.3300 - val_acc: 0.4799\n",
      "Epoch 18/150\n",
      "14978/14978 [==============================] - 23s 2ms/step - loss: 1.3365 - acc: 0.4845 - val_loss: 1.3716 - val_acc: 0.4428\n",
      "Epoch 19/150\n",
      "14978/14978 [==============================] - 23s 2ms/step - loss: 1.3288 - acc: 0.4863 - val_loss: 1.4437 - val_acc: 0.3956\n",
      "Epoch 20/150\n",
      "14978/14978 [==============================] - 23s 2ms/step - loss: 1.3122 - acc: 0.5017 - val_loss: 1.4589 - val_acc: 0.4071\n",
      "Epoch 21/150\n",
      "14978/14978 [==============================] - 23s 2ms/step - loss: 1.2951 - acc: 0.5031 - val_loss: 1.3927 - val_acc: 0.4498\n",
      "Epoch 22/150\n",
      "14978/14978 [==============================] - 23s 2ms/step - loss: 1.3025 - acc: 0.5095 - val_loss: 1.2843 - val_acc: 0.5120\n",
      "Epoch 23/150\n",
      "14978/14978 [==============================] - 23s 2ms/step - loss: 1.2803 - acc: 0.5207 - val_loss: 1.2258 - val_acc: 0.5361\n",
      "Epoch 24/150\n",
      "14978/14978 [==============================] - 23s 2ms/step - loss: 1.2885 - acc: 0.5138 - val_loss: 1.2632 - val_acc: 0.5231\n",
      "Epoch 25/150\n",
      "14978/14978 [==============================] - 23s 2ms/step - loss: 1.2743 - acc: 0.5191 - val_loss: 1.2905 - val_acc: 0.4819\n",
      "Epoch 26/150\n",
      "14978/14978 [==============================] - 23s 2ms/step - loss: 1.2598 - acc: 0.5260 - val_loss: 1.2193 - val_acc: 0.5402\n",
      "Epoch 27/150\n",
      "14978/14978 [==============================] - 23s 2ms/step - loss: 1.2501 - acc: 0.5296 - val_loss: 1.2019 - val_acc: 0.5361\n",
      "Epoch 28/150\n",
      "14978/14978 [==============================] - 24s 2ms/step - loss: 1.2489 - acc: 0.5393 - val_loss: 1.3086 - val_acc: 0.5126\n",
      "Epoch 29/150\n",
      "14978/14978 [==============================] - 23s 2ms/step - loss: 1.2306 - acc: 0.5411 - val_loss: 1.2215 - val_acc: 0.5517\n",
      "Epoch 30/150\n",
      "14978/14978 [==============================] - 24s 2ms/step - loss: 1.2323 - acc: 0.5432 - val_loss: 1.1735 - val_acc: 0.5693\n",
      "Epoch 31/150\n",
      "14978/14978 [==============================] - 23s 2ms/step - loss: 1.2291 - acc: 0.5471 - val_loss: 1.1820 - val_acc: 0.5658\n",
      "Epoch 32/150\n",
      "14978/14978 [==============================] - 23s 2ms/step - loss: 1.2182 - acc: 0.5525 - val_loss: 1.1926 - val_acc: 0.5572\n",
      "Epoch 33/150\n",
      "14978/14978 [==============================] - 23s 2ms/step - loss: 1.2154 - acc: 0.5497 - val_loss: 1.1456 - val_acc: 0.5773\n",
      "Epoch 34/150\n",
      "14978/14978 [==============================] - 23s 2ms/step - loss: 1.1966 - acc: 0.5612 - val_loss: 1.1840 - val_acc: 0.5643\n",
      "Epoch 35/150\n",
      "14978/14978 [==============================] - 23s 2ms/step - loss: 1.2030 - acc: 0.5554 - val_loss: 1.2603 - val_acc: 0.5166\n",
      "Epoch 36/150\n",
      "14978/14978 [==============================] - 23s 2ms/step - loss: 1.1855 - acc: 0.5666 - val_loss: 1.1428 - val_acc: 0.5788\n",
      "Epoch 37/150\n",
      "14978/14978 [==============================] - 23s 2ms/step - loss: 1.1921 - acc: 0.5632 - val_loss: 1.1538 - val_acc: 0.5688\n",
      "Epoch 38/150\n",
      "14978/14978 [==============================] - 23s 2ms/step - loss: 1.1760 - acc: 0.5697 - val_loss: 1.1937 - val_acc: 0.5638\n",
      "Epoch 39/150\n",
      "14978/14978 [==============================] - 24s 2ms/step - loss: 1.1770 - acc: 0.5704 - val_loss: 1.1934 - val_acc: 0.5648\n",
      "Epoch 40/150\n",
      "14978/14978 [==============================] - 23s 2ms/step - loss: 1.1781 - acc: 0.5730 - val_loss: 1.2572 - val_acc: 0.5321\n",
      "Epoch 41/150\n",
      "14978/14978 [==============================] - 23s 2ms/step - loss: 1.1651 - acc: 0.5788 - val_loss: 1.2131 - val_acc: 0.5427\n",
      "Epoch 42/150\n",
      "14978/14978 [==============================] - 23s 2ms/step - loss: 1.1712 - acc: 0.5732 - val_loss: 1.1821 - val_acc: 0.5567\n",
      "Epoch 43/150\n",
      "14978/14978 [==============================] - 23s 2ms/step - loss: 1.1662 - acc: 0.5760 - val_loss: 1.1465 - val_acc: 0.5612\n",
      "Epoch 44/150\n",
      "14978/14978 [==============================] - 23s 2ms/step - loss: 1.1545 - acc: 0.5815 - val_loss: 1.1492 - val_acc: 0.5803\n",
      "Epoch 45/150\n",
      "14978/14978 [==============================] - 23s 2ms/step - loss: 1.1640 - acc: 0.5791 - val_loss: 1.2232 - val_acc: 0.5557\n",
      "Epoch 46/150\n",
      "14978/14978 [==============================] - 23s 2ms/step - loss: 1.1580 - acc: 0.5813 - val_loss: 1.1854 - val_acc: 0.5617\n",
      "Epoch 47/150\n",
      "14978/14978 [==============================] - 23s 2ms/step - loss: 1.1540 - acc: 0.5854 - val_loss: 1.1706 - val_acc: 0.5899\n",
      "Epoch 48/150\n",
      "14978/14978 [==============================] - 23s 2ms/step - loss: 1.1484 - acc: 0.5859 - val_loss: 1.2218 - val_acc: 0.5527\n",
      "Epoch 49/150\n",
      "14978/14978 [==============================] - 24s 2ms/step - loss: 1.1528 - acc: 0.5842 - val_loss: 1.1275 - val_acc: 0.5969\n",
      "Epoch 50/150\n",
      "14978/14978 [==============================] - 23s 2ms/step - loss: 1.1403 - acc: 0.5900 - val_loss: 1.1460 - val_acc: 0.5894\n",
      "Epoch 51/150\n",
      "14978/14978 [==============================] - 24s 2ms/step - loss: 1.1338 - acc: 0.6001 - val_loss: 1.0805 - val_acc: 0.5949\n",
      "Epoch 52/150\n",
      "14978/14978 [==============================] - 23s 2ms/step - loss: 1.1417 - acc: 0.5913 - val_loss: 1.1471 - val_acc: 0.5899\n",
      "Epoch 53/150\n",
      "14978/14978 [==============================] - 23s 2ms/step - loss: 1.1373 - acc: 0.5943 - val_loss: 1.1628 - val_acc: 0.5673\n",
      "Epoch 54/150\n",
      "14978/14978 [==============================] - 23s 2ms/step - loss: 1.1377 - acc: 0.5917 - val_loss: 1.1263 - val_acc: 0.5848\n",
      "Epoch 55/150\n",
      "14978/14978 [==============================] - 23s 2ms/step - loss: 1.1379 - acc: 0.5940 - val_loss: 1.0990 - val_acc: 0.5889\n",
      "Epoch 56/150\n",
      "14978/14978 [==============================] - 23s 2ms/step - loss: 1.1268 - acc: 0.6010 - val_loss: 1.0937 - val_acc: 0.6200\n",
      "Epoch 57/150\n",
      "14978/14978 [==============================] - 23s 2ms/step - loss: 1.1143 - acc: 0.6044 - val_loss: 1.2013 - val_acc: 0.5472\n",
      "Epoch 58/150\n",
      "14978/14978 [==============================] - 23s 2ms/step - loss: 1.1329 - acc: 0.5933 - val_loss: 1.2598 - val_acc: 0.5402\n",
      "Epoch 59/150\n",
      "14978/14978 [==============================] - 23s 2ms/step - loss: 1.1171 - acc: 0.6016 - val_loss: 1.0829 - val_acc: 0.6150\n",
      "Epoch 60/150\n",
      "14978/14978 [==============================] - 23s 2ms/step - loss: 1.1201 - acc: 0.6021 - val_loss: 1.1714 - val_acc: 0.5683\n",
      "Epoch 61/150\n",
      "14978/14978 [==============================] - 23s 2ms/step - loss: 1.1072 - acc: 0.6070 - val_loss: 1.1631 - val_acc: 0.5798\n",
      "Epoch 62/150\n",
      "14978/14978 [==============================] - 23s 2ms/step - loss: 1.1151 - acc: 0.6028 - val_loss: 1.1751 - val_acc: 0.5567\n",
      "Epoch 63/150\n",
      "14978/14978 [==============================] - 23s 2ms/step - loss: 1.1060 - acc: 0.6086 - val_loss: 1.0007 - val_acc: 0.6576\n",
      "Epoch 64/150\n",
      "14978/14978 [==============================] - 23s 2ms/step - loss: 1.1164 - acc: 0.6054 - val_loss: 1.1495 - val_acc: 0.5838\n",
      "Epoch 65/150\n",
      "14978/14978 [==============================] - 23s 2ms/step - loss: 1.0942 - acc: 0.6180 - val_loss: 1.0564 - val_acc: 0.6305\n",
      "Epoch 66/150\n",
      "14978/14978 [==============================] - 23s 2ms/step - loss: 1.1109 - acc: 0.6074 - val_loss: 1.1325 - val_acc: 0.5974\n",
      "Epoch 67/150\n",
      "14978/14978 [==============================] - 23s 2ms/step - loss: 1.1016 - acc: 0.6150 - val_loss: 1.0038 - val_acc: 0.6561\n",
      "Epoch 70/150\n",
      "14978/14978 [==============================] - 23s 2ms/step - loss: 1.1026 - acc: 0.6138 - val_loss: 1.0627 - val_acc: 0.6345\n",
      "Epoch 71/150\n",
      "14978/14978 [==============================] - 24s 2ms/step - loss: 1.0787 - acc: 0.6220 - val_loss: 1.1679 - val_acc: 0.5813\n",
      "Epoch 72/150\n",
      "14978/14978 [==============================] - 23s 2ms/step - loss: 1.0921 - acc: 0.6106 - val_loss: 1.1426 - val_acc: 0.5778\n",
      "Epoch 73/150\n",
      "14978/14978 [==============================] - 23s 2ms/step - loss: 1.0860 - acc: 0.6164 - val_loss: 1.0916 - val_acc: 0.5999\n",
      "Epoch 74/150\n",
      "14978/14978 [==============================] - 23s 2ms/step - loss: 1.0844 - acc: 0.6164 - val_loss: 1.2037 - val_acc: 0.5602\n",
      "Epoch 75/150\n",
      "14978/14978 [==============================] - 23s 2ms/step - loss: 1.0822 - acc: 0.6220 - val_loss: 1.0235 - val_acc: 0.6411\n",
      "Epoch 76/150\n",
      "14978/14978 [==============================] - 23s 2ms/step - loss: 1.0799 - acc: 0.6199 - val_loss: 1.0219 - val_acc: 0.6516\n",
      "Epoch 77/150\n",
      "14978/14978 [==============================] - 23s 2ms/step - loss: 1.0843 - acc: 0.6180 - val_loss: 1.0456 - val_acc: 0.6426\n",
      "Epoch 78/150\n",
      "14978/14978 [==============================] - 23s 2ms/step - loss: 1.0732 - acc: 0.6198 - val_loss: 1.0616 - val_acc: 0.6315\n",
      "Epoch 79/150\n",
      "14978/14978 [==============================] - 23s 2ms/step - loss: 1.0767 - acc: 0.6238 - val_loss: 1.2003 - val_acc: 0.5783\n",
      "Epoch 80/150\n",
      "14978/14978 [==============================] - 23s 2ms/step - loss: 1.0777 - acc: 0.6227 - val_loss: 1.0228 - val_acc: 0.6335\n",
      "Epoch 81/150\n",
      "14978/14978 [==============================] - 24s 2ms/step - loss: 1.0868 - acc: 0.6175 - val_loss: 1.0162 - val_acc: 0.6511\n",
      "Epoch 82/150\n",
      "14978/14978 [==============================] - 23s 2ms/step - loss: 1.0784 - acc: 0.6238 - val_loss: 1.0963 - val_acc: 0.6310\n",
      "Epoch 83/150\n",
      "14978/14978 [==============================] - 23s 2ms/step - loss: 1.0842 - acc: 0.6196 - val_loss: 1.0721 - val_acc: 0.6240\n"
     ]
    },
    {
     "data": {
      "image/png": "[encoded data removed]",
      "text/plain": [
       "<Figure size 792x288 with 2 Axes>"
      ]
     },
     "metadata": {
      "needs_background": "light"
     },
     "output_type": "display_data"
    }
   ],
   "source": [
    "%matplotlib inline\n",
    "from keras.utils import multi_gpu_model\n",
    "\n",
    "num_epochs = 150\n",
    "\n",
    "result_dir=''\n",
    "# training args\n",
    "lr = 0.001\n",
    "lr_decay = 0.\n",
    "\n",
    "num_trials = 1\n",
    "patience = 20\n",
    "store_models = True\n",
    "\n",
    "best_epoch_acc = []\n",
    "# final_epoch_sens0 = []\n",
    "# final_epoch_sens1 = []\n",
    "# final_epoch_sens2 = []\n",
    "# final_epoch_sens3 = []\n",
    "# final_epoch_sens4 = []\n",
    "# final_epoch_sens5 = []\n",
    "\n",
    "# final_epoch_spec = []\n",
    "\n",
    "for i in range(num_trials):\n",
    "    # init model\n",
    "    model = SixtyFourNet(drop_rate=0.3, weight_dcay=0.01, input_shape=X_train_z.shape)\n",
    "    model=multi_gpu_model(model,2)\n",
    "\n",
    "    opti = Adam(lr=lr, decay=lr_decay)\n",
    "    model.compile(loss='categorical_crossentropy', optimizer=opti, metrics=['accuracy'])\n",
    "    \n",
    "    #callbacks\n",
    "    earlystopping = EarlyStopping(monitor='val_loss', min_delta=0, patience=patience, verbose=0, mode='auto')\n",
    "    model_checkpoint = ModelCheckpoint(os.path.join(result_dir, \"model_all_z_trial_%i.h5\" %i), monitor='val_acc', verbose=0, save_best_only=True, mode='max')\n",
    "\n",
    "    if store_models:\n",
    "        callbacks = [earlystopping, model_checkpoint]\n",
    "    else:\n",
    "        callbacks = [earlystopping]\n",
    "    \n",
    "    history = model.fit(\n",
    "        X_train_z,\n",
    "        y_train_z,\n",
    "        epochs=num_epochs,\n",
    "        batch_size=b,\n",
    "        validation_data=(X_test_z,y_test_z),\n",
    "        callbacks=callbacks,\n",
    "        shuffle=True\n",
    "    )\n",
    "    \n",
    "    training_time = time.time() - start_time\n",
    "    # Plot training curves\n",
    "    plt.figure(figsize=(11, 4))\n",
    "    plt.subplot(1, 2, 1)\n",
    "    plt.plot(history.history[\"loss\"])\n",
    "    plt.plot(history.history[\"val_loss\"])\n",
    "    plt.legend([\"Train\", \"Test\"])\n",
    "    plt.title(\"Loss\")\n",
    "    plt.subplot(1, 2, 2)\n",
    "    plt.plot(history.history[\"acc\"])\n",
    "    plt.plot(history.history[\"val_acc\"])\n",
    "    plt.legend([\"Train\", \"Test\"])\n",
    "    plt.title(\"Accuracy\")\n",
    "    plt.show()    \n",
    "    # Evaluation\n",
    "\n",
    "    y_pred_z = model.predict(X_test_z, batch_size=1)\n",
    "\n",
    "\n",
    "    # Store results\n",
    "    best_epoch = np.argmax(history.history[\"val_acc\"])\n",
    "    best_epoch_acc.append(history.history[\"val_acc\"][best_epoch])"
   ]
  },
  {
   "cell_type": "markdown",
   "metadata": {},
   "source": [
    "# Voting System "
   ]
  },
  {
   "cell_type": "code",
   "execution_count": 14,
   "metadata": {},
   "outputs": [
    {
     "name": "stdout",
     "output_type": "stream",
     "text": [
      "WARNING:tensorflow:From /usr/local/lib/python3.5/dist-packages/keras/backend/tensorflow_backend.py:3445: calling dropout (from tensorflow.python.ops.nn_ops) with keep_prob is deprecated and will be removed in a future version.\n",
      "Instructions for updating:\n",
      "Please use `rate` instead of `keep_prob`. Rate should be set to `rate = 1 - keep_prob`.\n",
      "WARNING:tensorflow:From /usr/local/lib/python3.5/dist-packages/tensorflow/python/ops/math_ops.py:3066: to_int32 (from tensorflow.python.ops.math_ops) is deprecated and will be removed in a future version.\n",
      "Instructions for updating:\n",
      "Use tf.cast instead.\n"
     ]
    }
   ],
   "source": [
    "def init_model(path, finetune=True, up_to=7):\n",
    "    model = load_model(path)\n",
    "    model.load_weights(path)\n",
    "    if finetune:\n",
    "        for layer in model.layers[:up_to]:\n",
    "            layer.trainable = False\n",
    "    return model\n",
    "\n",
    "model_x = init_model(path='model_all_x_trial_0.h5', finetune=False, up_to=None)\n",
    "model_y = init_model(path='model_all_y_trial_0.h5', finetune=False, up_to=None)\n",
    "model_z = init_model(path='model_all_z_trial_0.h5', finetune=False, up_to=None)\n"
   ]
  },
  {
   "cell_type": "code",
   "execution_count": 18,
   "metadata": {},
   "outputs": [
    {
     "data": {
      "text/plain": [
       "array([[0., 0., 0., 0., 1., 0.],\n",
       "       [0., 0., 0., 0., 1., 0.],\n",
       "       [0., 0., 0., 0., 1., 0.],\n",
       "       ...,\n",
       "       [0., 0., 0., 0., 0., 1.],\n",
       "       [0., 0., 0., 0., 0., 1.],\n",
       "       [0., 0., 0., 0., 0., 1.]], dtype=float32)"
      ]
     },
     "execution_count": 18,
     "metadata": {},
     "output_type": "execute_result"
    }
   ],
   "source": [
    "y_test_x\n"
   ]
  },
  {
   "cell_type": "code",
   "execution_count": 19,
   "metadata": {},
   "outputs": [],
   "source": [
    "pred_x=model_x.predict(X_test_x)\n",
    "pred_y=model_y.predict(X_test_y)\n",
    "pred_z=model_z.predict(X_test_z)\n"
   ]
  },
  {
   "cell_type": "code",
   "execution_count": 20,
   "metadata": {},
   "outputs": [],
   "source": [
    "pred=pred_x+pred_y+pred_z"
   ]
  },
  {
   "cell_type": "code",
   "execution_count": 21,
   "metadata": {},
   "outputs": [],
   "source": [
    "for i in range(len(X_test_x)):\n",
    "    for j in range(6):\n",
    "        if max(pred[i])== pred[i][j]:\n",
    "            pred[i][j]=1\n",
    "        else:\n",
    "            pred[i][j]=0\n",
    "               \n"
   ]
  },
  {
   "cell_type": "code",
   "execution_count": 22,
   "metadata": {},
   "outputs": [
    {
     "data": {
      "text/plain": [
       "array([[0., 0., 0., 0., 1., 0.],\n",
       "       [0., 0., 0., 0., 1., 0.],\n",
       "       [0., 0., 0., 0., 1., 0.],\n",
       "       ...,\n",
       "       [0., 0., 0., 0., 0., 1.],\n",
       "       [0., 0., 0., 0., 0., 1.],\n",
       "       [0., 0., 0., 0., 0., 1.]], dtype=float32)"
      ]
     },
     "execution_count": 22,
     "metadata": {},
     "output_type": "execute_result"
    }
   ],
   "source": [
    "pred"
   ]
  },
  {
   "cell_type": "code",
   "execution_count": 51,
   "metadata": {},
   "outputs": [
    {
     "data": {
      "text/plain": [
       "0.7710843373493976"
      ]
     },
     "execution_count": 51,
     "metadata": {},
     "output_type": "execute_result"
    }
   ],
   "source": [
    "## acc \n",
    "sum=0\n",
    "for i in range(1992):\n",
    "    if (np.mean(y_test_x[i,:]==pred[i,:]))==1:\n",
    "        sum+=1\n",
    "        \n",
    "sum/1992"
   ]
  },
  {
   "cell_type": "code",
   "execution_count": 26,
   "metadata": {},
   "outputs": [
    {
     "name": "stdout",
     "output_type": "stream",
     "text": [
      "0.6881188118811881\n",
      "0.9439775910364145\n",
      "0.8685185185185185\n",
      "0.9653179190751445\n",
      "0.9233870967741935\n",
      "1.0\n"
     ]
    }
   ],
   "source": [
    "##tp\n",
    "for i in range(6):\n",
    "    print(np.sum(pred[:,i]+y_test_x[:,i]==2)/np.sum(y_test_x[:,i]==1))"
   ]
  },
  {
   "cell_type": "code",
   "execution_count": 27,
   "metadata": {},
   "outputs": [
    {
     "name": "stdout",
     "output_type": "stream",
     "text": [
      "0.8651452282157677\n",
      "0.7422907488986784\n",
      "0.7688524590163934\n",
      "0.8652849740932642\n",
      "0.7292993630573248\n",
      "0.7083333333333334\n"
     ]
    }
   ],
   "source": [
    "##precision\n",
    "for i in range(6):\n",
    "    print(np.sum(pred[:,i]+y_test_x[:,i]==2)/np.sum(pred[:,i]==1))"
   ]
  },
  {
   "cell_type": "code",
   "execution_count": 28,
   "metadata": {},
   "outputs": [],
   "source": [
    "from sklearn.metrics import confusion_matrix"
   ]
  },
  {
   "cell_type": "code",
   "execution_count": 29,
   "metadata": {},
   "outputs": [
    {
     "data": {
      "text/plain": [
       "array([[417,  73,  59,  20,  16,  21],\n",
       "       [ 14, 333,   0,   2,   6,   2],\n",
       "       [ 45,  15, 448,   3,  26,   3],\n",
       "       [  3,   1,   1, 165,   3,   0],\n",
       "       [  3,   5,  17,   0, 222,   1],\n",
       "       [  0,   0,   0,   0,   0,  68]])"
      ]
     },
     "execution_count": 29,
     "metadata": {},
     "output_type": "execute_result"
    }
   ],
   "source": [
    "confusion_matrix(y_test_x.argmax(axis=1), pred.argmax(axis=1))"
   ]
  },
  {
   "cell_type": "code",
   "execution_count": 30,
   "metadata": {},
   "outputs": [],
   "source": [
    "def plot_confusion_matrix(cm, classes,\n",
    "                          normalize=False,\n",
    "                          title='Confusion matrix',\n",
    "                          cmap=plt.cm.Blues):\n",
    "    \"\"\"\n",
    "    This function prints and plots the confusion matrix.\n",
    "    Normalization can be applied by setting `normalize=True`.\n",
    "    \"\"\"\n",
    "    if normalize:\n",
    "        cm = cm.astype('float') / cm.sum(axis=1)[:, np.newaxis]\n",
    "        print(\"Normalized confusion matrix\")\n",
    "    else:\n",
    "        print('Confusion matrix, without normalization')\n",
    "\n",
    "    print(cm)\n",
    "\n",
    "    plt.imshow(cm, interpolation='nearest', cmap=cmap)\n",
    "    plt.title(title)\n",
    "    plt.colorbar()\n",
    "    tick_marks = np.arange(len(classes))\n",
    "    plt.xticks(tick_marks, classes, rotation=45)\n",
    "    plt.yticks(tick_marks, classes)\n",
    "    plt.tight_layout()\n",
    "    plt.ylabel('True label')\n",
    "    plt.xlabel('Predicted label')"
   ]
  },
  {
   "cell_type": "code",
   "execution_count": 31,
   "metadata": {},
   "outputs": [],
   "source": [
    "def final_plot_confusion(Y_test, Y_pred):\n",
    "\n",
    "    cm = confusion_matrix(Y_test, Y_pred)\n",
    "\n",
    "    # Plot non-normalized confusion matrix\n",
    "    plt.figure()\n",
    "    plot_confusion_matrix(cm, classes=class_names,\n",
    "                          title='Confusion matrix, without normalization')\n",
    "\n",
    "    # Plot normalized confusion matrix\n",
    "    plt.figure()\n",
    "    plot_confusion_matrix(cm, classes=class_names, normalize=True,\n",
    "                          title='Normalized confusion matrix')\n",
    "\n",
    "    plt.show()"
   ]
  },
  {
   "cell_type": "code",
   "execution_count": 32,
   "metadata": {},
   "outputs": [],
   "source": [
    "class_names = ['CN', 'EMCI', 'MCI', 'LMCI','AD','SMC']"
   ]
  },
  {
   "cell_type": "code",
   "execution_count": 34,
   "metadata": {},
   "outputs": [
    {
     "name": "stdout",
     "output_type": "stream",
     "text": [
      "Confusion matrix, without normalization\n",
      "[[417  73  59  20  16  21]\n",
      " [ 14 333   0   2   6   2]\n",
      " [ 45  15 448   3  26   3]\n",
      " [  3   1   1 165   3   0]\n",
      " [  3   5  17   0 222   1]\n",
      " [  0   0   0   0   0  68]]\n",
      "Normalized confusion matrix\n",
      "[[0.68811881 0.12046205 0.09735974 0.0330033  0.02640264 0.03465347]\n",
      " [0.03921569 0.93277311 0.         0.00560224 0.01680672 0.00560224]\n",
      " [0.08333333 0.02777778 0.82962963 0.00555556 0.04814815 0.00555556]\n",
      " [0.01734104 0.00578035 0.00578035 0.95375723 0.01734104 0.        ]\n",
      " [0.01209677 0.02016129 0.06854839 0.         0.89516129 0.00403226]\n",
      " [0.         0.         0.         0.         0.         1.        ]]\n"
     ]
    },
    {
     "data": {
      "image/png": "[encoded data removed]",
      "text/plain": [
       "<Figure size 432x288 with 2 Axes>"
      ]
     },
     "metadata": {
      "needs_background": "light"
     },
     "output_type": "display_data"
    },
    {
     "data": {
      "image/png": "[encoded data removed]",
      "text/plain": [
       "<Figure size 432x288 with 2 Axes>"
      ]
     },
     "metadata": {
      "needs_background": "light"
     },
     "output_type": "display_data"
    }
   ],
   "source": [
    "final_plot_confusion(y_test_x.argmax(axis=1), pred.argmax(axis=1))"
   ]
  },
  {
   "cell_type": "code",
   "execution_count": null,
   "metadata": {},
   "outputs": [],
   "source": []
  }
 ],
 "metadata": {
  "kernelspec": {
   "display_name": "Python 3",
   "language": "python",
   "name": "python3"
  },
  "language_info": {
   "codemirror_mode": {
    "name": "ipython",
    "version": 3
   },
   "file_extension": ".py",
   "mimetype": "text/x-python",
   "name": "python",
   "nbconvert_exporter": "python",
   "pygments_lexer": "ipython3",
   "version": "3.5.3"
  }
 },
 "nbformat": 4,
 "nbformat_minor": 2
}
