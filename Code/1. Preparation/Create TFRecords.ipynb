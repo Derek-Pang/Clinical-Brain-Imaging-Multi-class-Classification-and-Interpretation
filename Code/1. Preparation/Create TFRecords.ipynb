{
 "cells": [
  {
   "cell_type": "code",
   "execution_count": null,
   "metadata": {},
   "outputs": [],
   "source": [
    "import sys\n",
    "import tensorflow as tf\n",
    "import nibabel as nib\n",
    "import SimpleITK as sitk\n",
    "import dltk\n",
    "import numpy as np\n",
    "import math\n",
    "import matplotlib.pyplot as plt\n",
    "from myshow import myshow\n",
    "from tensorflow.python.framework import ops\n",
    "import pylab as py\n",
    "import pandas as pd\n",
    "import matplotlib\n",
    "import matplotlib.pyplot as plt"
   ]
  },
  {
   "cell_type": "code",
   "execution_count": 2,
   "metadata": {},
   "outputs": [],
   "source": [
    "labels = pd.read_csv(\"nii_with_binary_label.csv\")"
   ]
  },
  {
   "cell_type": "code",
   "execution_count": 3,
   "metadata": {},
   "outputs": [],
   "source": [
    "CN_files = labels[labels['CN']==1].iloc[:,1] #Category label 1\n",
    "EMCI_files = labels[labels['EMCI']==1].iloc[:,1] #Category label 2\n",
    "MCI_files = labels[labels['MCI']==1].iloc[:,1] #Category label 3\n",
    "LMCI_files = labels[labels['LMCI']==1].iloc[:,1] #Category label 4\n",
    "AD_files = labels[labels['AD']==1].iloc[:,1] #Category label 5\n",
    "SMC_files = labels[labels['SMC']==1].iloc[:,1] #Category label 6\n",
    "\n",
    "CN_label=1\n",
    "EMCI_label=2\n",
    "MCI_label=3\n",
    "LMCI_label=4\n",
    "AD_label=5\n",
    "SMC_label=6"
   ]
  },
  {
   "cell_type": "markdown",
   "metadata": {},
   "source": [
    "## TF Records"
   ]
  },
  {
   "cell_type": "code",
   "execution_count": 8,
   "metadata": {},
   "outputs": [
    {
     "name": "stdout",
     "output_type": "stream",
     "text": [
      "100\n",
      "200\n",
      "300\n",
      "400\n",
      "500\n",
      "600\n",
      "700\n",
      "800\n",
      "900\n",
      "1000\n",
      "1100\n",
      "1200\n",
      "1300\n",
      "1400\n",
      "1500\n",
      "1600\n",
      "1700\n",
      "1800\n",
      "1900\n",
      "2000\n",
      "2100\n",
      "2200\n",
      "2300\n",
      "2400\n",
      "2500\n",
      "2600\n",
      "2700\n",
      "2800\n",
      "2900\n",
      "3000\n"
     ]
    }
   ],
   "source": [
    "def _int64_feature(value):\n",
    "    return tf.train.Feature(int64_list=tf.train.Int64List(value=[value]))\n",
    "\n",
    "def _float_feature(value):\n",
    "    return tf.train.Feature(float_list=tf.train.FloatList(value=value))\n",
    "\n",
    "def _bytes_feature(value):\n",
    "    return tf.train.Feature(bytes_list=tf.train.BytesList(value=[value]))\n",
    "\n",
    "# path to save the TFRecords file\n",
    "tfrecord_name = 'z_CN.tfrecords' #Give your own name of the tfrecord file\n",
    "all_files = CN_files  #It contains all names of CN images\n",
    "\n",
    "# open the file\n",
    "writer = tf.python_io.TFRecordWriter(tfrecord_name)\n",
    "k = 1\n",
    "# iterate through all .nii files:\n",
    "for image in all_files:\n",
    "    if k %100 ==0:\n",
    "        print(k)\n",
    "    k +=1\n",
    "\n",
    "    # Load the image and label\n",
    "    img = nib.load(image)\n",
    "    img = img.get_fdata()\n",
    "    \n",
    "    #Here we want to save the slices align with z axis\n",
    "    cut_z = img.shape[2] // 2\n",
    "    slice_1 = img[:, :,cut_z]\n",
    "    \n",
    "    name = str.encode(image)\n",
    "    \n",
    "    # Create a feature dictionary\n",
    "    feature = {'label': _int64_feature(1), #Because this TF records only contains one class,the number is only 1.\n",
    "               'image': _float_feature(slice_1.ravel()),\n",
    "               'name': _bytes_feature(name)}\n",
    "               \n",
    "    # Create an example protocol buffer\n",
    "    example = tf.train.Example(features=tf.train.Features(feature=feature))\n",
    "    \n",
    "    # Serialize to string and write on the file\n",
    "    writer.write(example.SerializeToString())\n",
    "    \n",
    "writer.close()"
   ]
  },
  {
   "cell_type": "code",
   "execution_count": 7,
   "metadata": {},
   "outputs": [
    {
     "name": "stdout",
     "output_type": "stream",
     "text": [
      "3031\n"
     ]
    }
   ],
   "source": [
    "#Check the number of images saved into tfrecords\n",
    "tf_records_filenames = 'z_CN.tfrecords'\n",
    "c = 0\n",
    "for record in tf.python_io.tf_record_iterator(tf_records_filenames):\n",
    "    c += 1 \n",
    "print (c)"
   ]
  }
 ],
 "metadata": {
  "kernelspec": {
   "display_name": "Python 3",
   "language": "python",
   "name": "python3"
  },
  "language_info": {
   "codemirror_mode": {
    "name": "ipython",
    "version": 3
   },
   "file_extension": ".py",
   "mimetype": "text/x-python",
   "name": "python",
   "nbconvert_exporter": "python",
   "pygments_lexer": "ipython3",
   "version": "3.5.6"
  }
 },
 "nbformat": 4,
 "nbformat_minor": 2
}
